{
 "cells": [
  {
   "cell_type": "markdown",
   "metadata": {},
   "source": [
    "__En este ejercicio vamos a medir la intensidad del sentimiento usando la librería vader.__\n"
   ]
  },
  {
   "cell_type": "code",
   "execution_count": 1,
   "metadata": {
    "collapsed": true
   },
   "outputs": [],
   "source": [
    "from vaderSentiment.vaderSentiment import SentimentIntensityAnalyzer"
   ]
  },
  {
   "cell_type": "code",
   "execution_count": 19,
   "metadata": {
    "collapsed": false
   },
   "outputs": [
    {
     "name": "stdout",
     "output_type": "stream",
     "text": [
      "This is the fuckest ugliest DAMN thing that I have seen on my entire life :-( , what a living HELL !!!! {'neg': 0.52, 'neu': 0.48, 'pos': 0.0, 'compound': -0.9534}\n"
     ]
    }
   ],
   "source": [
    "sentence=\"This is the fuckest ugliest DAMN thing that I have seen on my entire life :-( , what a living HELL !!!!\"\n",
    "\n",
    "analyzer = SentimentIntensityAnalyzer()\n",
    "vs = analyzer.polarity_scores(sentence)\n",
    "print(\"{:-<65} {}\".format(sentence, str(vs)))\n"
   ]
  },
  {
   "cell_type": "code",
   "execution_count": 12,
   "metadata": {
    "collapsed": false
   },
   "outputs": [
    {
     "name": "stdout",
     "output_type": "stream",
     "text": [
      "This is most gifted superb delightful shrine for mind and soul--- {'neg': 0.0, 'neu': 0.516, 'pos': 0.484, 'compound': 0.857}\n"
     ]
    }
   ],
   "source": [
    "sentence=\"This is most gifted superb delightful shrine for mind and soul\"\n",
    "\n",
    "analyzer = SentimentIntensityAnalyzer()\n",
    "vs = analyzer.polarity_scores(sentence)\n",
    "print(\"{:-<65} {}\".format(sentence, str(vs)))\n"
   ]
  },
  {
   "cell_type": "code",
   "execution_count": 16,
   "metadata": {
    "collapsed": false
   },
   "outputs": [
    {
     "name": "stdout",
     "output_type": "stream",
     "text": [
      "What the hell? Fucking shit more big, fucking ostia, you earn vomiting!\n",
      "What the hell? Fucking shit more big, fucking ostia, you earn vomiting! {'neg': 0.468, 'neu': 0.532, 'pos': 0.0, 'compound': -0.8685}\n"
     ]
    }
   ],
   "source": [
    "frase = \"¿ Qué carajo ? La jodida mierda mas grande, ostia puta, que ganas de vomitar !!!\"\n",
    "\n",
    "from_lang = 'es'\n",
    "to_lang = 'en'\n",
    "api_url = \"http://mymemory.translated.net/api/get?q={}&langpair={}|{}\".format(frase, from_lang, to_lang)\n",
    "\n",
    "hdrs = { 'User-Agent': 'Mozilla/5.0 (X11; Linux x86_64) AppleWebKit/537.11 (KHTML, like Gecko) Chrome/23.0.1271.64 Safari/537.11',\n",
    "        'Accept': 'text/html,application/xhtml+xml,application/xml;q=0.9,*/*;q=0.8',\n",
    "        'Accept-Charset': 'ISO-8859-1,utf-8;q=0.7,*;q=0.3',\n",
    "        'Accept-Encoding': 'none',\n",
    "        'Accept-Language': 'en-US,en;q=0.8',\n",
    "        'Connection': 'keep-alive'}\n",
    "\n",
    "\n",
    "import requests\n",
    "import json\n",
    "import string\n",
    "response = requests.get(api_url, headers=hdrs)\n",
    "response_json = json.loads(response.text)\n",
    "translation = response_json[\"responseData\"][\"translatedText\"]\n",
    "print(translation)\n",
    "\n",
    "sentence = translation\n",
    "\n",
    "analyzer = SentimentIntensityAnalyzer()\n",
    "vs = analyzer.polarity_scores(sentence)\n",
    "print(\"{:-<65} {}\".format(sentence, str(vs)))\n"
   ]
  },
  {
   "cell_type": "code",
   "execution_count": null,
   "metadata": {
    "collapsed": true
   },
   "outputs": [],
   "source": []
  }
 ],
 "metadata": {
  "kernelspec": {
   "display_name": "Python 3",
   "language": "python",
   "name": "python3"
  },
  "language_info": {
   "codemirror_mode": {
    "name": "ipython",
    "version": 3
   },
   "file_extension": ".py",
   "mimetype": "text/x-python",
   "name": "python",
   "nbconvert_exporter": "python",
   "pygments_lexer": "ipython3",
   "version": "3.6.4"
  }
 },
 "nbformat": 4,
 "nbformat_minor": 2
}
