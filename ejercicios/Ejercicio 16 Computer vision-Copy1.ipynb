{
 "cells": [
  {
   "cell_type": "markdown",
   "metadata": {},
   "source": [
    "![title](./images/computer-vision.jpg)"
   ]
  },
  {
   "cell_type": "markdown",
   "metadata": {},
   "source": [
    "# En este ejercicio, enseñaremos a ver al ordenador\n",
    "<br>\n",
    "\n",
    " <div class=\"alert alert-block alert-info\">\n",
    "La **visión artificial** es un campo de investigación muy activo. \n",
    "\n",
    "Se trata de extraer información de imágenes/videos, para que el ordenador \"sepa\" que está viendo. <br>\n",
    "Esta imagen no tiene puede ser de cualquier tipo, de imágenes de rayos X, microscópicas, \n",
    "<br> <br>\n",
    "\n",
    "\n",
    "Algunas de las aplicaciones de la visión artificial:\n",
    "<br>\n",
    "\n",
    "1. Física.\n",
    "__[Búsqueda y predicción de nuevas particulas](https://www.kaggle.com/denisdmitriev/computer-vision-for-trackml)__\n",
    "<br>\n",
    "\n",
    "\n",
    "2. Medicina.\n",
    "    1. __[Detección de ceculas cacerígenas](https://www.kaggle.com/raoulma/cancer-image-tensorflow-cnn-80-valid-acc)__\n",
    "    2. __[Problemas de retina](https://www.kaggle.com/paultimothymooney/detect-retina-damage-from-oct-images)__\n",
    "    3. __[Cardiopatías](https://www.kaggle.com/kmader/cardiomegaly-pretrained-vgg16)__\n",
    " <br>\n",
    "   \n",
    "3. Identificación de objetos y personas, (Ver mas abajo)\n",
    "    1. Conducción autonoma\n",
    "<br>\n",
    "    \n",
    "4. Vigilancia satelital.\n",
    "    1. __[Detección de barcos](https://www.kaggle.com/byrachonok/keras-for-search-ships-in-satellite-image)__\n",
    "    2. __[Detección deforestación. Lucha contra el cambio climático](https://github.com/EKami/planet-amazon-deforestation/blob/master/notebooks/amazon_forest_notebook_preview.ipynb)__\n",
    "<br>\n",
    "\n",
    "5. Astronomía.\n",
    " __[Astronometría: Recuento de objetos estelares](https://www.sdss.org/dr12/)__\n",
    " <br>\n",
    "\n",
    "</div>\n",
    "\n",
    "\n",
    "\n"
   ]
  },
  {
   "cell_type": "markdown",
   "metadata": {},
   "source": [
    "## ImageNet ##\n",
    "__[Imagenet](http://image-net.org/explore)__ Es un catálogo de imágenes labelizadas,usado para entrenar modelos. \n",
    "\n",
    "A partir de estos modelos pre-entrenados, se pueden entrenar otras imágenes, obteniendo mejores resultados que entrenando desde cero.\n"
   ]
  },
  {
   "cell_type": "markdown",
   "metadata": {},
   "source": [
    "\n",
    "\n",
    "## Detección que objetos tiene una imagen.\n",
    "\n",
    "## Detectar que se está mirando.\n",
    "\n",
    "## "
   ]
  },
  {
   "cell_type": "markdown",
   "metadata": {},
   "source": [
    "Descargamos de Keras un __[modelo de clasificación de imágenes pre-entrenado](https://keras.io/applications/)__, y las librerias asociadas.\n",
    "\n",
    "    "
   ]
  },
  {
   "cell_type": "code",
   "execution_count": 1,
   "metadata": {
    "collapsed": false
   },
   "outputs": [
    {
     "name": "stdout",
     "output_type": "stream",
     "text": [
      "Requirement already satisfied: imageai in /Users/jaimevalero/miniconda3/envs/flask/lib/python3.6/site-packages\n",
      "Requirement already satisfied: opencv-python in /Users/jaimevalero/miniconda3/envs/flask/lib/python3.6/site-packages\n",
      "Requirement already satisfied: pillow in /Users/jaimevalero/miniconda3/envs/flask/lib/python3.6/site-packages\n",
      "Requirement already satisfied: h5py in /Users/jaimevalero/miniconda3/envs/flask/lib/python3.6/site-packages\n",
      "Requirement already satisfied: numpy>=1.11.3 in /Users/jaimevalero/miniconda3/envs/flask/lib/python3.6/site-packages (from opencv-python)\n",
      "Requirement already satisfied: olefile in /Users/jaimevalero/miniconda3/envs/flask/lib/python3.6/site-packages (from pillow)\n",
      "Requirement already satisfied: six in /Users/jaimevalero/miniconda3/envs/flask/lib/python3.6/site-packages (from h5py)\n",
      "\u001b[33mYou are using pip version 9.0.1, however version 18.0 is available.\n",
      "You should consider upgrading via the 'pip install --upgrade pip' command.\u001b[0m\n",
      "models/resnet50_weights_tf_dim_ordering_tf_kernels.h5: No such file or directory\n",
      "models/resnet50_coco_best_v2.0.1.h5: No such file or directory\n"
     ]
    }
   ],
   "source": [
    "# Instalar prerequisitos de python \n",
    "! pip install imageai opencv-python pillow h5py \n",
    "# Descargar pretrained model\n",
    "! [ ! -s  models/resnet50_weights_tf_dim_ordering_tf_kernels.h5 ] && wget -O models/resnet50_weights_tf_dim_ordering_tf_kernels.h5 https://github.com/fchollet/deep-learning-models/releases/download/v0.2/resnet50_weights_tf_dim_ordering_tf_kernels.h5\n",
    "! [ ! -s  models/resnet50_coco_best_v2.0.1.h5 ] && wget -O models/resnet50_coco_best_v2.0.1.h5 https://github.com/OlafenwaMoses/ImageAI/releases/download/1.0/resnet50_coco_best_v2.0.1.h5\n",
    "    \n",
    "\n",
    "    \n",
    "        "
   ]
  },
  {
   "cell_type": "code",
   "execution_count": 2,
   "metadata": {
    "collapsed": false
   },
   "outputs": [
    {
     "ename": "ValueError",
     "evalue": "You have specified an incorrect path to the ResNet model file.",
     "output_type": "error",
     "traceback": [
      "\u001b[0;31m---------------------------------------------------------------------------\u001b[0m",
      "\u001b[0;31mOSError\u001b[0m                                   Traceback (most recent call last)",
      "\u001b[0;32m~/miniconda3/envs/flask/lib/python3.6/site-packages/imageai/Prediction/__init__.py\u001b[0m in \u001b[0;36mloadModel\u001b[0;34m(self, prediction_speed)\u001b[0m\n\u001b[1;32m    124\u001b[0m                 \u001b[0;32mtry\u001b[0m\u001b[0;34m:\u001b[0m\u001b[0;34m\u001b[0m\u001b[0m\n\u001b[0;32m--> 125\u001b[0;31m                     \u001b[0mmodel\u001b[0m \u001b[0;34m=\u001b[0m \u001b[0mResNet50\u001b[0m\u001b[0;34m(\u001b[0m\u001b[0mmodel_path\u001b[0m\u001b[0;34m=\u001b[0m\u001b[0mself\u001b[0m\u001b[0;34m.\u001b[0m\u001b[0mmodelPath\u001b[0m\u001b[0;34m,\u001b[0m \u001b[0mmodel_input\u001b[0m\u001b[0;34m=\u001b[0m\u001b[0mimage_input\u001b[0m\u001b[0;34m)\u001b[0m\u001b[0;34m\u001b[0m\u001b[0m\n\u001b[0m\u001b[1;32m    126\u001b[0m                     \u001b[0mself\u001b[0m\u001b[0;34m.\u001b[0m\u001b[0m__model_collection\u001b[0m\u001b[0;34m.\u001b[0m\u001b[0mappend\u001b[0m\u001b[0;34m(\u001b[0m\u001b[0mmodel\u001b[0m\u001b[0;34m)\u001b[0m\u001b[0;34m\u001b[0m\u001b[0m\n",
      "\u001b[0;32m~/miniconda3/envs/flask/lib/python3.6/site-packages/imageai/Prediction/ResNet/resnet50.py\u001b[0m in \u001b[0;36mResNet50\u001b[0;34m(include_top, non_top_pooling, model_input, num_classes, weights, model_path)\u001b[0m\n\u001b[1;32m    107\u001b[0m         \u001b[0mweights_path\u001b[0m \u001b[0;34m=\u001b[0m \u001b[0mmodel_path\u001b[0m\u001b[0;34m\u001b[0m\u001b[0m\n\u001b[0;32m--> 108\u001b[0;31m         \u001b[0mmodel\u001b[0m\u001b[0;34m.\u001b[0m\u001b[0mload_weights\u001b[0m\u001b[0;34m(\u001b[0m\u001b[0mweights_path\u001b[0m\u001b[0;34m)\u001b[0m\u001b[0;34m\u001b[0m\u001b[0m\n\u001b[0m\u001b[1;32m    109\u001b[0m     \u001b[0;32melif\u001b[0m \u001b[0;34m(\u001b[0m\u001b[0mweights\u001b[0m \u001b[0;34m==\u001b[0m \u001b[0;34m\"trained\"\u001b[0m\u001b[0;34m)\u001b[0m\u001b[0;34m:\u001b[0m\u001b[0;34m\u001b[0m\u001b[0m\n",
      "\u001b[0;32m~/miniconda3/envs/flask/lib/python3.6/site-packages/tensorflow/python/keras/_impl/keras/engine/network.py\u001b[0m in \u001b[0;36mload_weights\u001b[0;34m(self, filepath, by_name)\u001b[0m\n\u001b[1;32m   1183\u001b[0m       \u001b[0;32mraise\u001b[0m \u001b[0mImportError\u001b[0m\u001b[0;34m(\u001b[0m\u001b[0;34m'`load_weights` requires h5py.'\u001b[0m\u001b[0;34m)\u001b[0m\u001b[0;34m\u001b[0m\u001b[0m\n\u001b[0;32m-> 1184\u001b[0;31m     \u001b[0;32mwith\u001b[0m \u001b[0mh5py\u001b[0m\u001b[0;34m.\u001b[0m\u001b[0mFile\u001b[0m\u001b[0;34m(\u001b[0m\u001b[0mfilepath\u001b[0m\u001b[0;34m,\u001b[0m \u001b[0;34m'r'\u001b[0m\u001b[0;34m)\u001b[0m \u001b[0;32mas\u001b[0m \u001b[0mf\u001b[0m\u001b[0;34m:\u001b[0m\u001b[0;34m\u001b[0m\u001b[0m\n\u001b[0m\u001b[1;32m   1185\u001b[0m       \u001b[0;32mif\u001b[0m \u001b[0;34m'layer_names'\u001b[0m \u001b[0;32mnot\u001b[0m \u001b[0;32min\u001b[0m \u001b[0mf\u001b[0m\u001b[0;34m.\u001b[0m\u001b[0mattrs\u001b[0m \u001b[0;32mand\u001b[0m \u001b[0;34m'model_weights'\u001b[0m \u001b[0;32min\u001b[0m \u001b[0mf\u001b[0m\u001b[0;34m:\u001b[0m\u001b[0;34m\u001b[0m\u001b[0m\n",
      "\u001b[0;32m~/miniconda3/envs/flask/lib/python3.6/site-packages/h5py/_hl/files.py\u001b[0m in \u001b[0;36m__init__\u001b[0;34m(self, name, mode, driver, libver, userblock_size, swmr, **kwds)\u001b[0m\n\u001b[1;32m    271\u001b[0m                 \u001b[0mfapl\u001b[0m \u001b[0;34m=\u001b[0m \u001b[0mmake_fapl\u001b[0m\u001b[0;34m(\u001b[0m\u001b[0mdriver\u001b[0m\u001b[0;34m,\u001b[0m \u001b[0mlibver\u001b[0m\u001b[0;34m,\u001b[0m \u001b[0;34m**\u001b[0m\u001b[0mkwds\u001b[0m\u001b[0;34m)\u001b[0m\u001b[0;34m\u001b[0m\u001b[0m\n\u001b[0;32m--> 272\u001b[0;31m                 \u001b[0mfid\u001b[0m \u001b[0;34m=\u001b[0m \u001b[0mmake_fid\u001b[0m\u001b[0;34m(\u001b[0m\u001b[0mname\u001b[0m\u001b[0;34m,\u001b[0m \u001b[0mmode\u001b[0m\u001b[0;34m,\u001b[0m \u001b[0muserblock_size\u001b[0m\u001b[0;34m,\u001b[0m \u001b[0mfapl\u001b[0m\u001b[0;34m,\u001b[0m \u001b[0mswmr\u001b[0m\u001b[0;34m=\u001b[0m\u001b[0mswmr\u001b[0m\u001b[0;34m)\u001b[0m\u001b[0;34m\u001b[0m\u001b[0m\n\u001b[0m\u001b[1;32m    273\u001b[0m \u001b[0;34m\u001b[0m\u001b[0m\n",
      "\u001b[0;32m~/miniconda3/envs/flask/lib/python3.6/site-packages/h5py/_hl/files.py\u001b[0m in \u001b[0;36mmake_fid\u001b[0;34m(name, mode, userblock_size, fapl, fcpl, swmr)\u001b[0m\n\u001b[1;32m     91\u001b[0m             \u001b[0mflags\u001b[0m \u001b[0;34m|=\u001b[0m \u001b[0mh5f\u001b[0m\u001b[0;34m.\u001b[0m\u001b[0mACC_SWMR_READ\u001b[0m\u001b[0;34m\u001b[0m\u001b[0m\n\u001b[0;32m---> 92\u001b[0;31m         \u001b[0mfid\u001b[0m \u001b[0;34m=\u001b[0m \u001b[0mh5f\u001b[0m\u001b[0;34m.\u001b[0m\u001b[0mopen\u001b[0m\u001b[0;34m(\u001b[0m\u001b[0mname\u001b[0m\u001b[0;34m,\u001b[0m \u001b[0mflags\u001b[0m\u001b[0;34m,\u001b[0m \u001b[0mfapl\u001b[0m\u001b[0;34m=\u001b[0m\u001b[0mfapl\u001b[0m\u001b[0;34m)\u001b[0m\u001b[0;34m\u001b[0m\u001b[0m\n\u001b[0m\u001b[1;32m     93\u001b[0m     \u001b[0;32melif\u001b[0m \u001b[0mmode\u001b[0m \u001b[0;34m==\u001b[0m \u001b[0;34m'r+'\u001b[0m\u001b[0;34m:\u001b[0m\u001b[0;34m\u001b[0m\u001b[0m\n",
      "\u001b[0;32mh5py/_objects.pyx\u001b[0m in \u001b[0;36mh5py._objects.with_phil.wrapper (/private/var/folders/my/m6ynh3bn6tq06h7xr3js0z7r0000gn/T/pip-z0d9zbgm-build/h5py/_objects.c:2853)\u001b[0;34m()\u001b[0m\n",
      "\u001b[0;32mh5py/_objects.pyx\u001b[0m in \u001b[0;36mh5py._objects.with_phil.wrapper (/private/var/folders/my/m6ynh3bn6tq06h7xr3js0z7r0000gn/T/pip-z0d9zbgm-build/h5py/_objects.c:2811)\u001b[0;34m()\u001b[0m\n",
      "\u001b[0;32mh5py/h5f.pyx\u001b[0m in \u001b[0;36mh5py.h5f.open (/private/var/folders/my/m6ynh3bn6tq06h7xr3js0z7r0000gn/T/pip-z0d9zbgm-build/h5py/h5f.c:2099)\u001b[0;34m()\u001b[0m\n",
      "\u001b[0;31mOSError\u001b[0m: Unable to open file (Unable to open file: name = '/users/jaimevalero/git/python-machine-learning-book-2nd-edition/ejercicios/./models/resnet50_weights_tf_dim_ordering_tf_kernels.h5', errno = 2, error message = 'no such file or directory', flags = 0, o_flags = 0)",
      "\nDuring handling of the above exception, another exception occurred:\n",
      "\u001b[0;31mValueError\u001b[0m                                Traceback (most recent call last)",
      "\u001b[0;32m<ipython-input-2-dc334d0d1414>\u001b[0m in \u001b[0;36m<module>\u001b[0;34m()\u001b[0m\n\u001b[1;32m      6\u001b[0m \u001b[0mprediction\u001b[0m\u001b[0;34m.\u001b[0m\u001b[0msetModelTypeAsResNet\u001b[0m\u001b[0;34m(\u001b[0m\u001b[0;34m)\u001b[0m\u001b[0;34m\u001b[0m\u001b[0m\n\u001b[1;32m      7\u001b[0m \u001b[0mprediction\u001b[0m\u001b[0;34m.\u001b[0m\u001b[0msetModelPath\u001b[0m\u001b[0;34m(\u001b[0m\u001b[0mos\u001b[0m\u001b[0;34m.\u001b[0m\u001b[0mpath\u001b[0m\u001b[0;34m.\u001b[0m\u001b[0mjoin\u001b[0m\u001b[0;34m(\u001b[0m\u001b[0mexecution_path\u001b[0m\u001b[0;34m,\u001b[0m \u001b[0;34m\"./models/resnet50_weights_tf_dim_ordering_tf_kernels.h5\"\u001b[0m\u001b[0;34m)\u001b[0m\u001b[0;34m)\u001b[0m\u001b[0;34m\u001b[0m\u001b[0m\n\u001b[0;32m----> 8\u001b[0;31m \u001b[0mprediction\u001b[0m\u001b[0;34m.\u001b[0m\u001b[0mloadModel\u001b[0m\u001b[0;34m(\u001b[0m\u001b[0;34m)\u001b[0m\u001b[0;34m\u001b[0m\u001b[0m\n\u001b[0m\u001b[1;32m      9\u001b[0m \u001b[0;34m\u001b[0m\u001b[0m\n\u001b[1;32m     10\u001b[0m \u001b[0;31m# Predecimos ¿ Que se ve en esta imagen ?\u001b[0m\u001b[0;34m\u001b[0m\u001b[0;34m\u001b[0m\u001b[0m\n",
      "\u001b[0;32m~/miniconda3/envs/flask/lib/python3.6/site-packages/imageai/Prediction/__init__.py\u001b[0m in \u001b[0;36mloadModel\u001b[0;34m(self, prediction_speed)\u001b[0m\n\u001b[1;32m    127\u001b[0m                     \u001b[0mself\u001b[0m\u001b[0;34m.\u001b[0m\u001b[0m__modelLoaded\u001b[0m \u001b[0;34m=\u001b[0m \u001b[0;32mTrue\u001b[0m\u001b[0;34m\u001b[0m\u001b[0m\n\u001b[1;32m    128\u001b[0m                 \u001b[0;32mexcept\u001b[0m\u001b[0;34m:\u001b[0m\u001b[0;34m\u001b[0m\u001b[0m\n\u001b[0;32m--> 129\u001b[0;31m                     \u001b[0;32mraise\u001b[0m \u001b[0mValueError\u001b[0m\u001b[0;34m(\u001b[0m\u001b[0;34m\"You have specified an incorrect path to the ResNet model file.\"\u001b[0m\u001b[0;34m)\u001b[0m\u001b[0;34m\u001b[0m\u001b[0m\n\u001b[0m\u001b[1;32m    130\u001b[0m \u001b[0;34m\u001b[0m\u001b[0m\n\u001b[1;32m    131\u001b[0m             \u001b[0;32melif\u001b[0m \u001b[0;34m(\u001b[0m\u001b[0mself\u001b[0m\u001b[0;34m.\u001b[0m\u001b[0m__modelType\u001b[0m \u001b[0;34m==\u001b[0m \u001b[0;34m\"densenet\"\u001b[0m\u001b[0;34m)\u001b[0m\u001b[0;34m:\u001b[0m\u001b[0;34m\u001b[0m\u001b[0m\n",
      "\u001b[0;31mValueError\u001b[0m: You have specified an incorrect path to the ResNet model file."
     ]
    }
   ],
   "source": [
    "from imageai.Prediction import ImagePrediction\n",
    "import os\n",
    "execution_path = os.getcwd()\n",
    " \n",
    "prediction = ImagePrediction()\n",
    "prediction.setModelTypeAsResNet()\n",
    "prediction.setModelPath(os.path.join(execution_path, \"./models/resnet50_weights_tf_dim_ordering_tf_kernels.h5\"))\n",
    "prediction.loadModel()\n",
    "\n",
    "# Predecimos ¿ Que se ve en esta imagen ?\n"
   ]
  },
  {
   "cell_type": "markdown",
   "metadata": {
    "collapsed": true
   },
   "source": [
    "### ¿ Qué se ve en esta imagen ? ###\n",
    "![title](./images/nevera.jpeg)\n",
    "\n"
   ]
  },
  {
   "cell_type": "code",
   "execution_count": null,
   "metadata": {
    "collapsed": false
   },
   "outputs": [],
   "source": [
    "# Mostrar resultados\n",
    "# Cabecera de la tabla\n",
    "s = f\"\"\"\n",
    "  <h1> En la imagen se ve :</h1>  <table> \n",
    "  <tr> <th>Objeto</th>  <th>Probabilidad</th> </tr>\"\"\"\n",
    "    \n",
    "# Cuerpo de la tabla\n",
    "for eachPrediction, eachProbability in zip(predictions, probabilities):\n",
    "   # Cuerpo de la tabla\n",
    "    s = s + f\"\"\" <tr> <td>{eachPrediction}</td> <td>{eachProbability}</td> </tr>\"\"\"\n",
    "\n",
    "# Pie de la tabla\n",
    "s = s + f\"\"\"</table><br>\"\"\"\n",
    "\n",
    "\n",
    "display(HTML(s))\n"
   ]
  },
  {
   "cell_type": "markdown",
   "metadata": {},
   "source": [
    "## Detección de multiples objetos\n",
    "\n",
    "Vamos a usar esta imagen, de una webcam de Times square, para detectar multiples objetos.\n",
    "![title](./images/crowd.png)\n",
    "\n",
    "primero detectamos un tipo de objetos, personas. Luego coches, y luego todos los objetos que encuentre."
   ]
  },
  {
   "cell_type": "code",
   "execution_count": null,
   "metadata": {
    "collapsed": false
   },
   "outputs": [],
   "source": [
    "from imageai.Detection import ObjectDetection\n",
    "import os\n",
    "\n",
    "MINIMUN_PROBABILITY = 20 \n",
    "execution_path = os.getcwd()\n",
    "\n",
    "# Cargamos el modelo\n",
    "detector = ObjectDetection()\n",
    "detector.setModelTypeAsRetinaNet()\n",
    "detector.setModelPath( os.path.join(execution_path , \"models/resnet50_coco_best_v2.0.1.h5\"))\n",
    "detector.loadModel()\n",
    "# Que solo detecte personas\n",
    "custom_objects = detector.CustomObjects(person=True, car=False)\n",
    "# Lanzamos el detector sobre la imagen\n",
    "detections = detector.detectCustomObjectsFromImage(input_image=os.path.join(execution_path , \"images/crowd.png\"), \n",
    "                                                   output_image_path=os.path.join(execution_path , \"images/crowd_people.png\"),\n",
    "                                                   custom_objects=custom_objects,\n",
    "                                                   minimum_percentage_probability=MINIMUN_PROBABILITY)\n",
    "\n",
    "# Mostrar resultados\n",
    "from IPython.display import Image\n",
    "from IPython.core.display import HTML \n",
    "Image(filename= \"./images/crowd_people.png\")"
   ]
  },
  {
   "cell_type": "markdown",
   "metadata": {},
   "source": [
    "Detectamos los coches"
   ]
  },
  {
   "cell_type": "code",
   "execution_count": null,
   "metadata": {
    "collapsed": false
   },
   "outputs": [],
   "source": [
    "custom_objects = detector.CustomObjects(person=False, car=True)\n",
    "detections = detector.detectCustomObjectsFromImage(input_image=os.path.join(execution_path , \"images/crowd.png\"), \n",
    "                                                   output_image_path=os.path.join(execution_path , \"images/crowd_cars.png\"),\n",
    "                                                   custom_objects=custom_objects,\n",
    "                                                   minimum_percentage_probability=MINIMUN_PROBABILITY)\n",
    "from IPython.display import Image\n",
    "from IPython.core.display import HTML \n",
    "Image(filename= \"./images/crowd_cars.png\")"
   ]
  },
  {
   "cell_type": "code",
   "execution_count": null,
   "metadata": {
    "collapsed": false
   },
   "outputs": [],
   "source": [
    "from IPython.display import Image\n",
    "from IPython.core.display import HTML \n",
    "import os \n",
    "\n",
    "detections = []\n",
    "\n",
    "while (len(detections) < 5) :\n",
    "    os.system(\"wget -O images/random.jpg https://picsum.photos/800/600/?random\")\n",
    "    detections = detector.detectObjectsFromImage(input_image=os.path.join(execution_path , \"images/random.jpg\"), \n",
    "                                             output_image_path=os.path.join(execution_path ,  \"images/random_explained.jpg\"), \n",
    "                                             minimum_percentage_probability=30)\n",
    "    \n",
    "\n",
    "Image(filename= \"images/random_explained.jpg\")\n",
    "\n"
   ]
  },
  {
   "cell_type": "code",
   "execution_count": null,
   "metadata": {
    "collapsed": false
   },
   "outputs": [],
   "source": [
    "from IPython.display import Image\n",
    "from IPython.core.display import HTML \n",
    "Image(filename= \"images/random_explained.jpg\")\n",
    "\n",
    "\n",
    "s = f\"\"\"\n",
    "  <h1> En la imagen se ve :</h1>  <table> \n",
    "  <tr> <th>Objeto</th>  <th>Probabilidad</th> </tr>\"\"\"\n",
    "  \n",
    "for item in detections:\n",
    "    #print (item[\"name\"])\n",
    "    # Cuerpo de la tabla\n",
    "    s = s + f\"\"\" <tr> <td>{item[\"name\"]}</td> <td>{item[\"percentage_probability\"]}</td> </tr>\"\"\"\n",
    "\n",
    "# Pie de la tabla\n",
    "s = s + f\"\"\"</table><br>\"\"\"\n",
    "\n",
    "\n",
    "display(HTML(s))"
   ]
  },
  {
   "cell_type": "code",
   "execution_count": null,
   "metadata": {
    "collapsed": false
   },
   "outputs": [],
   "source": [
    "from IPython.display import Image\n",
    "from IPython.core.display import HTML \n",
    "Image(filename= \"images/random_explained.jpg\")\n"
   ]
  },
  {
   "cell_type": "code",
   "execution_count": null,
   "metadata": {
    "collapsed": true
   },
   "outputs": [],
   "source": []
  }
 ],
 "metadata": {
  "kernelspec": {
   "display_name": "Python 3",
   "language": "python",
   "name": "python3"
  },
  "language_info": {
   "codemirror_mode": {
    "name": "ipython",
    "version": 3
   },
   "file_extension": ".py",
   "mimetype": "text/x-python",
   "name": "python",
   "nbconvert_exporter": "python",
   "pygments_lexer": "ipython3",
   "version": "3.6.4"
  }
 },
 "nbformat": 4,
 "nbformat_minor": 2
}
