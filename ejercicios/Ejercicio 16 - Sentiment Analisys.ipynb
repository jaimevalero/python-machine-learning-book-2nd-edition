{
 "cells": [
  {
   "cell_type": "markdown",
   "metadata": {},
   "source": [
    "![title](./images/vader_1.jpg)"
   ]
  },
  {
   "cell_type": "markdown",
   "metadata": {},
   "source": [
    "# En este ejercicio, enseñaremos sentimientos al ordenador\n",
    "<br>\n",
    "\n",
    " <div class=\"alert alert-block alert-info\">\n",
    "El <strong>sentiment analysis</strong> se usa sobre todo en el ámbito de las redes sociales, y el marketing digital.\n",
    "</div>\n",
    "\n",
    "<br>"
   ]
  },
  {
   "cell_type": "markdown",
   "metadata": {},
   "source": [
    "## Contenidos ##\n",
    "- ### Librería vader de analisis de sentimientos.\n",
    "- ### Ejemplo de frases positivas, negativas y neutras.\n",
    "- ### Ejemplo de traducción a otros idiomas\n",
    "- ### Analisis del hashtag de twitter\n",
    "- ### Resultado y conclusión"
   ]
  },
  {
   "cell_type": "markdown",
   "metadata": {},
   "source": [
    "Vamos a medir la intensidad del sentimiento usando la librería vader. https://github.com/cjhutto/vaderSentiment\n",
    "\n",
    "Nos va a devolver un diccionario con la polarización de sentimientos (el polarity score).\n",
    " - neg: Negative\n",
    " - neu: Neutral\n",
    " - pos: Positive\n",
    " - compound: Compound (i.e. aggregated score)"
   ]
  },
  {
   "cell_type": "code",
   "execution_count": 327,
   "metadata": {},
   "outputs": [],
   "source": [
    "# Definimos una gráfica\n",
    "import matplotlib.pyplot as plt\n",
    "\n",
    "def mostrar_grafica(puntuacion):\n",
    "    plt.bar(range(len(puntuacion)), list(puntuacion.values()), align='center')\n",
    "    plt.xticks(range(len(puntuacion)), list(puntuacion.keys()))\n",
    "    plt.show()\n"
   ]
  },
  {
   "cell_type": "markdown",
   "metadata": {},
   "source": [
    "Probamos con una frase neutral"
   ]
  },
  {
   "cell_type": "code",
   "execution_count": 329,
   "metadata": {},
   "outputs": [
    {
     "name": "stdout",
     "output_type": "stream",
     "text": [
      "Let's get work. \n",
      " {'neg': 0.0, 'neu': 1.0, 'pos': 0.0, 'compound': 0.0}\n"
     ]
    },
    {
     "data": {
      "image/png": "[encoded data removed]",
      "text/plain": [
       "<matplotlib.figure.Figure at 0x112a10f28>"
      ]
     },
     "metadata": {},
     "output_type": "display_data"
    }
   ],
   "source": [
    "from vaderSentiment.vaderSentiment import SentimentIntensityAnalyzer\n",
    "import pandas as pd\n",
    "FRASE=\"Let's get work.\"\n",
    "\n",
    "puntuacion = SentimentIntensityAnalyzer().polarity_scores(FRASE)\n",
    "\n",
    "print( FRASE , \"\\n\",puntuacion)\n",
    "\n",
    "mostrar_grafica(puntuacion)\n"
   ]
  },
  {
   "cell_type": "markdown",
   "metadata": {},
   "source": [
    "Una frase positiva"
   ]
  },
  {
   "cell_type": "code",
   "execution_count": 3,
   "metadata": {},
   "outputs": [
    {
     "name": "stdout",
     "output_type": "stream",
     "text": [
      "This tea is excellent \n",
      " {'neg': 0.0, 'neu': 0.448, 'pos': 0.552, 'compound': 0.5719}\n"
     ]
    },
    {
     "data": {
      "image/png": "[encoded data removed]",
      "text/plain": [
       "<matplotlib.figure.Figure at 0x105ff3e10>"
      ]
     },
     "metadata": {},
     "output_type": "display_data"
    }
   ],
   "source": [
    "\n",
    "from vaderSentiment.vaderSentiment import SentimentIntensityAnalyzer\n",
    "\n",
    "FRASE=\"This tea is excellent\"\n",
    "\n",
    "puntuacion = SentimentIntensityAnalyzer().polarity_scores(FRASE)\n",
    "\n",
    "print( FRASE , \"\\n\", puntuacion)\n",
    "\n",
    "mostrar_grafica(puntuacion)\n",
    "\n"
   ]
  },
  {
   "cell_type": "markdown",
   "metadata": {},
   "source": [
    "Y una frase negativa"
   ]
  },
  {
   "cell_type": "code",
   "execution_count": 4,
   "metadata": {},
   "outputs": [
    {
     "name": "stdout",
     "output_type": "stream",
     "text": [
      "The traffic is a living hell. \n",
      " {'neg': 0.535, 'neu': 0.465, 'pos': 0.0, 'compound': -0.6808}\n"
     ]
    },
    {
     "data": {
      "image/png": "[encoded data removed]",
      "text/plain": [
       "<matplotlib.figure.Figure at 0x108743fd0>"
      ]
     },
     "metadata": {},
     "output_type": "display_data"
    }
   ],
   "source": [
    "from vaderSentiment.vaderSentiment import SentimentIntensityAnalyzer\n",
    "\n",
    "FRASE=\"The traffic is a living hell.\"\n",
    "\n",
    "puntuacion = SentimentIntensityAnalyzer().polarity_scores(FRASE)\n",
    "\n",
    "print( FRASE , \"\\n\", puntuacion)\n",
    "mostrar_grafica(puntuacion)\n"
   ]
  },
  {
   "cell_type": "markdown",
   "metadata": {},
   "source": [
    "### Ejemplo de traducción a otros idiomas\n",
    "\n",
    "Hay que traducir la frase, antes de pasársela a vader."
   ]
  },
  {
   "cell_type": "code",
   "execution_count": 5,
   "metadata": {},
   "outputs": [
    {
     "name": "stdout",
     "output_type": "stream",
     "text": [
      "Se ha estropeado la maldita máquina, joder joder joder.  se traduce por :  The damn machine is screwed up, fuck fuck fuck.\n",
      "The damn machine is screwed up, fuck fuck fuck. {'neg': 0.804, 'neu': 0.196, 'pos': 0.0, 'compound': -0.9468}\n"
     ]
    },
    {
     "data": {
      "image/png": "[encoded data removed]",
      "text/plain": [
       "<matplotlib.figure.Figure at 0x10a0df5c0>"
      ]
     },
     "metadata": {},
     "output_type": "display_data"
    }
   ],
   "source": [
    "import requests\n",
    "import json\n",
    "import string\n",
    "\n",
    "frase = \"Se ha estropeado la maldita máquina, joder joder joder.\"\n",
    "\n",
    "from_lang = 'es'\n",
    "to_lang = 'en'\n",
    "api_url = \"http://mymemory.translated.net/api/get?q={}&langpair={}|{}\".format(frase, from_lang, to_lang)\n",
    "\n",
    "hdrs = { 'User-Agent': 'Mozilla/5.0 (X11; Linux x86_64) AppleWebKit/537.11 (KHTML, like Gecko) Chrome/23.0.1271.64 Safari/537.11',\n",
    "        'Accept': 'text/html,application/xhtml+xml,application/xml;q=0.9,*/*;q=0.8',\n",
    "        'Accept-Charset': 'ISO-8859-1,utf-8;q=0.7,*;q=0.3',\n",
    "        'Accept-Encoding': 'none',\n",
    "        'Accept-Language': 'en-US,en;q=0.8',\n",
    "        'Connection': 'keep-alive'}\n",
    "\n",
    "response = requests.get(api_url, headers=hdrs)\n",
    "response_json = json.loads(response.text)\n",
    "translation = response_json[\"responseData\"][\"translatedText\"]\n",
    "print(frase, \" se traduce por : \",translation)\n",
    "\n",
    "sentence = translation\n",
    "\n",
    "analyzer = SentimentIntensityAnalyzer()\n",
    "puntuacion = analyzer.polarity_scores(sentence)\n",
    "\n",
    "print(sentence, puntuacion)\n",
    "\n",
    "mostrar_grafica(puntuacion)\n",
    "\n"
   ]
  },
  {
   "cell_type": "markdown",
   "metadata": {},
   "source": [
    "### Sentiment analisys del hashtag de twitter\n",
    "\n",
    "Vamos a descargarnos los tweeter de un hastag determinado, y le vamos a pasar por vader.\n",
    "\n",
    "\n",
    "La idea es detectar los tweets negativos sobre algo.\n",
    "\n",
    "\n",
    "El hashtag es #Telefonica"
   ]
  },
  {
   "cell_type": "code",
   "execution_count": 308,
   "metadata": {},
   "outputs": [
    {
     "name": "stdout",
     "output_type": "stream",
     "text": [
      " Empezamos 2\n",
      " Acabamos de descargarnos los tweets\n"
     ]
    }
   ],
   "source": [
    "\n",
    "import tweepy\n",
    "import csv\n",
    "import pandas as pd\n",
    "from datetime import date, timedelta\n",
    "\n",
    "####\n",
    "# Quitamos la primera letra de las variables, y ponemos un guión para despistar a los parser\n",
    "onsumer_key    = 'h_mFJIxaV0HqCuKVZc8iZL65sJ'\n",
    "onsumer_secret = 'l_eDBguzuUDqd4v2YwKf9cYywWBWEDX4XV341HVdLHC18n1C7kP'\n",
    "ccess_token    = '7_92058678581026816-ZZk5lNrzMcLJdHRrRLMn6LIksQLDZTi'\n",
    "ccess_token_secret   = 'z_skKIFghdWezAgpChHLGrVX6OtZPBOmSOvG1tPMtWlK6b'\n",
    "\n",
    "print(\" Nos conectamos a twitter\" )\n",
    "\n",
    "\n",
    "auth = tweepy.OAuthHandler(consumer_key, consumer_secret)\n",
    "auth.set_access_token(access_token, access_token_secret)\n",
    "api = tweepy.API(auth,wait_on_rate_limit=True)\n",
    "\n",
    "hashtag = \"#Telefonica\"\n",
    "array = []\n",
    "\n",
    "# Pedimos datos al api\n",
    "for tweet in tweepy.Cursor(api.search , count=100,q=hashtag, lang=\"en\", tweet_mode=\"extended\").items() :\n",
    "    array.append({\"hashtag\" : hashtag  , \"tweet\" : tweet.full_text})\n",
    "\n",
    "# Guardar a disco    \n",
    "df = pd.DataFrame(array)\n",
    "df.to_csv('datasets/tweeter.csv',index=False)\n",
    "\n",
    "print(\" Acabamos de descargarnos los tweets\" )\n"
   ]
  },
  {
   "cell_type": "code",
   "execution_count": 19,
   "metadata": {},
   "outputs": [
    {
     "data": {
      "text/html": [
       "<div>\n",
       "<style scoped>\n",
       "    .dataframe tbody tr th:only-of-type {\n",
       "        vertical-align: middle;\n",
       "    }\n",
       "\n",
       "    .dataframe tbody tr th {\n",
       "        vertical-align: top;\n",
       "    }\n",
       "\n",
       "    .dataframe thead th {\n",
       "        text-align: right;\n",
       "    }\n",
       "</style>\n",
       "<table border=\"1\" class=\"dataframe\">\n",
       "  <thead>\n",
       "    <tr style=\"text-align: right;\">\n",
       "      <th></th>\n",
       "      <th>hashtag</th>\n",
       "      <th>tweet</th>\n",
       "    </tr>\n",
       "  </thead>\n",
       "  <tbody>\n",
       "    <tr>\n",
       "      <th>0</th>\n",
       "      <td>#Telefonica</td>\n",
       "      <td>So my second part of my #IBEI #Telefonica fell...</td>\n",
       "    </tr>\n",
       "    <tr>\n",
       "      <th>1</th>\n",
       "      <td>#Telefonica</td>\n",
       "      <td>$A1J5RX #Telefonica Deutschland Holdings 1 dir...</td>\n",
       "    </tr>\n",
       "    <tr>\n",
       "      <th>2</th>\n",
       "      <td>#Telefonica</td>\n",
       "      <td>Simplified: 3 currencies shape a shoppers chan...</td>\n",
       "    </tr>\n",
       "    <tr>\n",
       "      <th>3</th>\n",
       "      <td>#Telefonica</td>\n",
       "      <td>Frost &amp;amp; Sullivan experts disclose operator...</td>\n",
       "    </tr>\n",
       "    <tr>\n",
       "      <th>4</th>\n",
       "      <td>#Telefonica</td>\n",
       "      <td>#Telefonica to air new #Vamos sports channel t...</td>\n",
       "    </tr>\n",
       "    <tr>\n",
       "      <th>5</th>\n",
       "      <td>#Telefonica</td>\n",
       "      <td>$TEF #TELEFONICA #DANGER TicTac https://t.co/Q...</td>\n",
       "    </tr>\n",
       "    <tr>\n",
       "      <th>6</th>\n",
       "      <td>#Telefonica</td>\n",
       "      <td>#Telefónica re-allocated marketing budget from...</td>\n",
       "    </tr>\n",
       "    <tr>\n",
       "      <th>7</th>\n",
       "      <td>#Telefonica</td>\n",
       "      <td>RT @yannickramcke: Re-allocation of #marketing...</td>\n",
       "    </tr>\n",
       "    <tr>\n",
       "      <th>8</th>\n",
       "      <td>#Telefonica</td>\n",
       "      <td>Re-allocation of #marketing budget: @FCBarcelo...</td>\n",
       "    </tr>\n",
       "    <tr>\n",
       "      <th>9</th>\n",
       "      <td>#Telefonica</td>\n",
       "      <td>#Telefonica Chile mitigating Cloud Disruption ...</td>\n",
       "    </tr>\n",
       "    <tr>\n",
       "      <th>10</th>\n",
       "      <td>#Telefonica</td>\n",
       "      <td>Telcos should provide security and not just co...</td>\n",
       "    </tr>\n",
       "    <tr>\n",
       "      <th>11</th>\n",
       "      <td>#Telefonica</td>\n",
       "      <td>RT @wgpbikelegends: A stroke of genius... or t...</td>\n",
       "    </tr>\n",
       "    <tr>\n",
       "      <th>12</th>\n",
       "      <td>#Telefonica</td>\n",
       "      <td>#Telefonica Chile mitigating Cloud Disruption ...</td>\n",
       "    </tr>\n",
       "    <tr>\n",
       "      <th>13</th>\n",
       "      <td>#Telefonica</td>\n",
       "      <td>#VMware #VCPP #C2C #DR #DRaaS - #Telefonica #C...</td>\n",
       "    </tr>\n",
       "    <tr>\n",
       "      <th>14</th>\n",
       "      <td>#Telefonica</td>\n",
       "      <td>#Telefónica pulls sponsorship deals from 🇪🇸 le...</td>\n",
       "    </tr>\n",
       "    <tr>\n",
       "      <th>15</th>\n",
       "      <td>#Telefonica</td>\n",
       "      <td>As telco operator #Telefónica strengthened its...</td>\n",
       "    </tr>\n",
       "    <tr>\n",
       "      <th>16</th>\n",
       "      <td>#Telefonica</td>\n",
       "      <td>Spanish Football: Telefonica ends key sponsors...</td>\n",
       "    </tr>\n",
       "  </tbody>\n",
       "</table>\n",
       "</div>"
      ],
      "text/plain": [
       "        hashtag                                              tweet\n",
       "0   #Telefonica  So my second part of my #IBEI #Telefonica fell...\n",
       "1   #Telefonica  $A1J5RX #Telefonica Deutschland Holdings 1 dir...\n",
       "2   #Telefonica  Simplified: 3 currencies shape a shoppers chan...\n",
       "3   #Telefonica  Frost &amp; Sullivan experts disclose operator...\n",
       "4   #Telefonica  #Telefonica to air new #Vamos sports channel t...\n",
       "5   #Telefonica  $TEF #TELEFONICA #DANGER TicTac https://t.co/Q...\n",
       "6   #Telefonica  #Telefónica re-allocated marketing budget from...\n",
       "7   #Telefonica  RT @yannickramcke: Re-allocation of #marketing...\n",
       "8   #Telefonica  Re-allocation of #marketing budget: @FCBarcelo...\n",
       "9   #Telefonica  #Telefonica Chile mitigating Cloud Disruption ...\n",
       "10  #Telefonica  Telcos should provide security and not just co...\n",
       "11  #Telefonica  RT @wgpbikelegends: A stroke of genius... or t...\n",
       "12  #Telefonica  #Telefonica Chile mitigating Cloud Disruption ...\n",
       "13  #Telefonica  #VMware #VCPP #C2C #DR #DRaaS - #Telefonica #C...\n",
       "14  #Telefonica  #Telefónica pulls sponsorship deals from 🇪🇸 le...\n",
       "15  #Telefonica  As telco operator #Telefónica strengthened its...\n",
       "16  #Telefonica  Spanish Football: Telefonica ends key sponsors..."
      ]
     },
     "execution_count": 19,
     "metadata": {},
     "output_type": "execute_result"
    }
   ],
   "source": [
    "#########################################\n",
    "### Cargamos el DataFrame, desde un csv.\n",
    "#########################################\n",
    "import pandas as pd\n",
    "tweets = pd.read_csv('datasets/tweeter-telefonica.csv',encoding = 'utf8')\n",
    "tweets"
   ]
  },
  {
   "cell_type": "code",
   "execution_count": 3,
   "metadata": {},
   "outputs": [
    {
     "data": {
      "text/html": [
       "<div>\n",
       "<style scoped>\n",
       "    .dataframe tbody tr th:only-of-type {\n",
       "        vertical-align: middle;\n",
       "    }\n",
       "\n",
       "    .dataframe tbody tr th {\n",
       "        vertical-align: top;\n",
       "    }\n",
       "\n",
       "    .dataframe thead th {\n",
       "        text-align: right;\n",
       "    }\n",
       "</style>\n",
       "<table border=\"1\" class=\"dataframe\">\n",
       "  <thead>\n",
       "    <tr style=\"text-align: right;\">\n",
       "      <th></th>\n",
       "      <th>compound</th>\n",
       "      <th>neg</th>\n",
       "      <th>neu</th>\n",
       "      <th>pos</th>\n",
       "      <th>hashtag</th>\n",
       "      <th>tweet</th>\n",
       "    </tr>\n",
       "  </thead>\n",
       "  <tbody>\n",
       "    <tr>\n",
       "      <th>0</th>\n",
       "      <td>0.0000</td>\n",
       "      <td>0.000</td>\n",
       "      <td>1.000</td>\n",
       "      <td>0.000</td>\n",
       "      <td>#Telefonica</td>\n",
       "      <td>So my second part of my #IBEI #Telefonica fell...</td>\n",
       "    </tr>\n",
       "    <tr>\n",
       "      <th>1</th>\n",
       "      <td>0.5106</td>\n",
       "      <td>0.000</td>\n",
       "      <td>0.893</td>\n",
       "      <td>0.107</td>\n",
       "      <td>#Telefonica</td>\n",
       "      <td>$A1J5RX #Telefonica Deutschland Holdings 1 dir...</td>\n",
       "    </tr>\n",
       "    <tr>\n",
       "      <th>2</th>\n",
       "      <td>0.5994</td>\n",
       "      <td>0.000</td>\n",
       "      <td>0.836</td>\n",
       "      <td>0.164</td>\n",
       "      <td>#Telefonica</td>\n",
       "      <td>Simplified: 3 currencies shape a shoppers chan...</td>\n",
       "    </tr>\n",
       "    <tr>\n",
       "      <th>3</th>\n",
       "      <td>0.0000</td>\n",
       "      <td>0.000</td>\n",
       "      <td>1.000</td>\n",
       "      <td>0.000</td>\n",
       "      <td>#Telefonica</td>\n",
       "      <td>Frost &amp;amp; Sullivan experts disclose operator...</td>\n",
       "    </tr>\n",
       "    <tr>\n",
       "      <th>4</th>\n",
       "      <td>0.0000</td>\n",
       "      <td>0.000</td>\n",
       "      <td>1.000</td>\n",
       "      <td>0.000</td>\n",
       "      <td>#Telefonica</td>\n",
       "      <td>#Telefonica to air new #Vamos sports channel t...</td>\n",
       "    </tr>\n",
       "    <tr>\n",
       "      <th>5</th>\n",
       "      <td>-0.6289</td>\n",
       "      <td>0.508</td>\n",
       "      <td>0.492</td>\n",
       "      <td>0.000</td>\n",
       "      <td>#Telefonica</td>\n",
       "      <td>$TEF #TELEFONICA #DANGER TicTac https://t.co/Q...</td>\n",
       "    </tr>\n",
       "    <tr>\n",
       "      <th>6</th>\n",
       "      <td>-0.2057</td>\n",
       "      <td>0.052</td>\n",
       "      <td>0.948</td>\n",
       "      <td>0.000</td>\n",
       "      <td>#Telefonica</td>\n",
       "      <td>#Telefónica re-allocated marketing budget from...</td>\n",
       "    </tr>\n",
       "    <tr>\n",
       "      <th>7</th>\n",
       "      <td>0.1779</td>\n",
       "      <td>0.000</td>\n",
       "      <td>0.898</td>\n",
       "      <td>0.102</td>\n",
       "      <td>#Telefonica</td>\n",
       "      <td>RT @yannickramcke: Re-allocation of #marketing...</td>\n",
       "    </tr>\n",
       "    <tr>\n",
       "      <th>8</th>\n",
       "      <td>0.2960</td>\n",
       "      <td>0.000</td>\n",
       "      <td>0.906</td>\n",
       "      <td>0.094</td>\n",
       "      <td>#Telefonica</td>\n",
       "      <td>Re-allocation of #marketing budget: @FCBarcelo...</td>\n",
       "    </tr>\n",
       "    <tr>\n",
       "      <th>9</th>\n",
       "      <td>-0.5574</td>\n",
       "      <td>0.295</td>\n",
       "      <td>0.705</td>\n",
       "      <td>0.000</td>\n",
       "      <td>#Telefonica</td>\n",
       "      <td>#Telefonica Chile mitigating Cloud Disruption ...</td>\n",
       "    </tr>\n",
       "    <tr>\n",
       "      <th>10</th>\n",
       "      <td>0.3400</td>\n",
       "      <td>0.000</td>\n",
       "      <td>0.789</td>\n",
       "      <td>0.211</td>\n",
       "      <td>#Telefonica</td>\n",
       "      <td>Telcos should provide security and not just co...</td>\n",
       "    </tr>\n",
       "    <tr>\n",
       "      <th>11</th>\n",
       "      <td>0.0000</td>\n",
       "      <td>0.000</td>\n",
       "      <td>1.000</td>\n",
       "      <td>0.000</td>\n",
       "      <td>#Telefonica</td>\n",
       "      <td>RT @wgpbikelegends: A stroke of genius... or t...</td>\n",
       "    </tr>\n",
       "    <tr>\n",
       "      <th>12</th>\n",
       "      <td>-0.5574</td>\n",
       "      <td>0.277</td>\n",
       "      <td>0.723</td>\n",
       "      <td>0.000</td>\n",
       "      <td>#Telefonica</td>\n",
       "      <td>#Telefonica Chile mitigating Cloud Disruption ...</td>\n",
       "    </tr>\n",
       "    <tr>\n",
       "      <th>13</th>\n",
       "      <td>-0.5574</td>\n",
       "      <td>0.235</td>\n",
       "      <td>0.765</td>\n",
       "      <td>0.000</td>\n",
       "      <td>#Telefonica</td>\n",
       "      <td>#VMware #VCPP #C2C #DR #DRaaS - #Telefonica #C...</td>\n",
       "    </tr>\n",
       "    <tr>\n",
       "      <th>14</th>\n",
       "      <td>0.1779</td>\n",
       "      <td>0.000</td>\n",
       "      <td>0.954</td>\n",
       "      <td>0.046</td>\n",
       "      <td>#Telefonica</td>\n",
       "      <td>#Telefónica pulls sponsorship deals from 🇪🇸 le...</td>\n",
       "    </tr>\n",
       "    <tr>\n",
       "      <th>15</th>\n",
       "      <td>0.6956</td>\n",
       "      <td>0.000</td>\n",
       "      <td>0.872</td>\n",
       "      <td>0.128</td>\n",
       "      <td>#Telefonica</td>\n",
       "      <td>As telco operator #Telefónica strengthened its...</td>\n",
       "    </tr>\n",
       "    <tr>\n",
       "      <th>16</th>\n",
       "      <td>0.0000</td>\n",
       "      <td>0.000</td>\n",
       "      <td>1.000</td>\n",
       "      <td>0.000</td>\n",
       "      <td>#Telefonica</td>\n",
       "      <td>Spanish Football: Telefonica ends key sponsors...</td>\n",
       "    </tr>\n",
       "  </tbody>\n",
       "</table>\n",
       "</div>"
      ],
      "text/plain": [
       "    compound    neg    neu    pos      hashtag  \\\n",
       "0     0.0000  0.000  1.000  0.000  #Telefonica   \n",
       "1     0.5106  0.000  0.893  0.107  #Telefonica   \n",
       "2     0.5994  0.000  0.836  0.164  #Telefonica   \n",
       "3     0.0000  0.000  1.000  0.000  #Telefonica   \n",
       "4     0.0000  0.000  1.000  0.000  #Telefonica   \n",
       "5    -0.6289  0.508  0.492  0.000  #Telefonica   \n",
       "6    -0.2057  0.052  0.948  0.000  #Telefonica   \n",
       "7     0.1779  0.000  0.898  0.102  #Telefonica   \n",
       "8     0.2960  0.000  0.906  0.094  #Telefonica   \n",
       "9    -0.5574  0.295  0.705  0.000  #Telefonica   \n",
       "10    0.3400  0.000  0.789  0.211  #Telefonica   \n",
       "11    0.0000  0.000  1.000  0.000  #Telefonica   \n",
       "12   -0.5574  0.277  0.723  0.000  #Telefonica   \n",
       "13   -0.5574  0.235  0.765  0.000  #Telefonica   \n",
       "14    0.1779  0.000  0.954  0.046  #Telefonica   \n",
       "15    0.6956  0.000  0.872  0.128  #Telefonica   \n",
       "16    0.0000  0.000  1.000  0.000  #Telefonica   \n",
       "\n",
       "                                                tweet  \n",
       "0   So my second part of my #IBEI #Telefonica fell...  \n",
       "1   $A1J5RX #Telefonica Deutschland Holdings 1 dir...  \n",
       "2   Simplified: 3 currencies shape a shoppers chan...  \n",
       "3   Frost &amp; Sullivan experts disclose operator...  \n",
       "4   #Telefonica to air new #Vamos sports channel t...  \n",
       "5   $TEF #TELEFONICA #DANGER TicTac https://t.co/Q...  \n",
       "6   #Telefónica re-allocated marketing budget from...  \n",
       "7   RT @yannickramcke: Re-allocation of #marketing...  \n",
       "8   Re-allocation of #marketing budget: @FCBarcelo...  \n",
       "9   #Telefonica Chile mitigating Cloud Disruption ...  \n",
       "10  Telcos should provide security and not just co...  \n",
       "11  RT @wgpbikelegends: A stroke of genius... or t...  \n",
       "12  #Telefonica Chile mitigating Cloud Disruption ...  \n",
       "13  #VMware #VCPP #C2C #DR #DRaaS - #Telefonica #C...  \n",
       "14  #Telefónica pulls sponsorship deals from 🇪🇸 le...  \n",
       "15  As telco operator #Telefónica strengthened its...  \n",
       "16  Spanish Football: Telefonica ends key sponsors...  "
      ]
     },
     "execution_count": 3,
     "metadata": {},
     "output_type": "execute_result"
    }
   ],
   "source": [
    "from vaderSentiment.vaderSentiment import SentimentIntensityAnalyzer\n",
    "import pandas as pd\n",
    "\n",
    "array_puntuaciones = []\n",
    "for index, row in tweets.iterrows():\n",
    "    puntuacion = SentimentIntensityAnalyzer().polarity_scores(row.tweet.replace(\"#\",\"\"))\n",
    "    array_puntuaciones.append ( puntuacion)\n",
    "\n",
    "\n",
    "df = pd.DataFrame(array_puntuaciones)\n",
    "df[\"hashtag\"] = tweets[\"hashtag\"]\n",
    "df[\"tweet\"]   = tweets[\"tweet\"]\n",
    "\n",
    "df"
   ]
  },
  {
   "cell_type": "code",
   "execution_count": 321,
   "metadata": {},
   "outputs": [
    {
     "data": {
      "text/html": [
       "<h3>El tweet mas positivo : </h3>"
      ],
      "text/plain": [
       "<IPython.core.display.HTML object>"
      ]
     },
     "metadata": {},
     "output_type": "display_data"
    },
    {
     "data": {
      "text/html": [
       "<div>\n",
       "<style scoped>\n",
       "    .dataframe tbody tr th:only-of-type {\n",
       "        vertical-align: middle;\n",
       "    }\n",
       "\n",
       "    .dataframe tbody tr th {\n",
       "        vertical-align: top;\n",
       "    }\n",
       "\n",
       "    .dataframe thead th {\n",
       "        text-align: right;\n",
       "    }\n",
       "</style>\n",
       "<table border=\"1\" class=\"dataframe\">\n",
       "  <thead>\n",
       "    <tr style=\"text-align: right;\">\n",
       "      <th></th>\n",
       "      <th>compound</th>\n",
       "      <th>neg</th>\n",
       "      <th>neu</th>\n",
       "      <th>pos</th>\n",
       "      <th>hashtag</th>\n",
       "      <th>tweet</th>\n",
       "    </tr>\n",
       "  </thead>\n",
       "  <tbody>\n",
       "    <tr>\n",
       "      <th>10</th>\n",
       "      <td>0.34</td>\n",
       "      <td>0.0</td>\n",
       "      <td>0.789</td>\n",
       "      <td>0.211</td>\n",
       "      <td>#Telefonica</td>\n",
       "      <td>Telcos should provide security and not just co...</td>\n",
       "    </tr>\n",
       "  </tbody>\n",
       "</table>\n",
       "</div>"
      ],
      "text/plain": [
       "    compound  neg    neu    pos      hashtag  \\\n",
       "10      0.34  0.0  0.789  0.211  #Telefonica   \n",
       "\n",
       "                                                tweet  \n",
       "10  Telcos should provide security and not just co...  "
      ]
     },
     "execution_count": 321,
     "metadata": {},
     "output_type": "execute_result"
    }
   ],
   "source": [
    "s = f\"\"\"<h3>El tweet mas positivo : </h3>\"\"\"\n",
    "display(HTML(s))\n",
    "\n",
    "df[df['pos'] == df['pos'].max()]\n"
   ]
  },
  {
   "cell_type": "code",
   "execution_count": 322,
   "metadata": {},
   "outputs": [
    {
     "data": {
      "text/html": [
       "<h3>El tweet mas negativo : </h3>"
      ],
      "text/plain": [
       "<IPython.core.display.HTML object>"
      ]
     },
     "metadata": {},
     "output_type": "display_data"
    },
    {
     "data": {
      "text/html": [
       "<div>\n",
       "<style scoped>\n",
       "    .dataframe tbody tr th:only-of-type {\n",
       "        vertical-align: middle;\n",
       "    }\n",
       "\n",
       "    .dataframe tbody tr th {\n",
       "        vertical-align: top;\n",
       "    }\n",
       "\n",
       "    .dataframe thead th {\n",
       "        text-align: right;\n",
       "    }\n",
       "</style>\n",
       "<table border=\"1\" class=\"dataframe\">\n",
       "  <thead>\n",
       "    <tr style=\"text-align: right;\">\n",
       "      <th></th>\n",
       "      <th>compound</th>\n",
       "      <th>neg</th>\n",
       "      <th>neu</th>\n",
       "      <th>pos</th>\n",
       "      <th>hashtag</th>\n",
       "      <th>tweet</th>\n",
       "    </tr>\n",
       "  </thead>\n",
       "  <tbody>\n",
       "    <tr>\n",
       "      <th>5</th>\n",
       "      <td>-0.6289</td>\n",
       "      <td>0.508</td>\n",
       "      <td>0.492</td>\n",
       "      <td>0.0</td>\n",
       "      <td>#Telefonica</td>\n",
       "      <td>$TEF #TELEFONICA #DANGER TicTac https://t.co/Q...</td>\n",
       "    </tr>\n",
       "  </tbody>\n",
       "</table>\n",
       "</div>"
      ],
      "text/plain": [
       "   compound    neg    neu  pos      hashtag  \\\n",
       "5   -0.6289  0.508  0.492  0.0  #Telefonica   \n",
       "\n",
       "                                               tweet  \n",
       "5  $TEF #TELEFONICA #DANGER TicTac https://t.co/Q...  "
      ]
     },
     "execution_count": 322,
     "metadata": {},
     "output_type": "execute_result"
    }
   ],
   "source": [
    "from IPython.display import Image\n",
    "from IPython.core.display import HTML \n",
    "\n",
    "s = f\"\"\"<h3>El tweet mas negativo : </h3>\"\"\"\n",
    "\n",
    "\n",
    "display(HTML(s))\n",
    "\n",
    "df[df['neg'] == df['neg'].max()]"
   ]
  },
  {
   "cell_type": "code",
   "execution_count": 244,
   "metadata": {},
   "outputs": [
    {
     "data": {
      "text/html": [
       "<h3>El tweet con mayor puntuacion global es : </h3>"
      ],
      "text/plain": [
       "<IPython.core.display.HTML object>"
      ]
     },
     "metadata": {},
     "output_type": "display_data"
    },
    {
     "data": {
      "text/html": [
       "<div>\n",
       "<style scoped>\n",
       "    .dataframe tbody tr th:only-of-type {\n",
       "        vertical-align: middle;\n",
       "    }\n",
       "\n",
       "    .dataframe tbody tr th {\n",
       "        vertical-align: top;\n",
       "    }\n",
       "\n",
       "    .dataframe thead th {\n",
       "        text-align: right;\n",
       "    }\n",
       "</style>\n",
       "<table border=\"1\" class=\"dataframe\">\n",
       "  <thead>\n",
       "    <tr style=\"text-align: right;\">\n",
       "      <th></th>\n",
       "      <th>compound</th>\n",
       "      <th>neg</th>\n",
       "      <th>neu</th>\n",
       "      <th>pos</th>\n",
       "      <th>hashtag</th>\n",
       "      <th>tweet</th>\n",
       "    </tr>\n",
       "  </thead>\n",
       "  <tbody>\n",
       "    <tr>\n",
       "      <th>14</th>\n",
       "      <td>0.6956</td>\n",
       "      <td>0.0</td>\n",
       "      <td>0.872</td>\n",
       "      <td>0.128</td>\n",
       "      <td>#Telefonica</td>\n",
       "      <td>As telco operator #Telefónica strengthened its...</td>\n",
       "    </tr>\n",
       "  </tbody>\n",
       "</table>\n",
       "</div>"
      ],
      "text/plain": [
       "    compound  neg    neu    pos      hashtag  \\\n",
       "14    0.6956  0.0  0.872  0.128  #Telefonica   \n",
       "\n",
       "                                                tweet  \n",
       "14  As telco operator #Telefónica strengthened its...  "
      ]
     },
     "execution_count": 244,
     "metadata": {},
     "output_type": "execute_result"
    }
   ],
   "source": [
    "s = f\"\"\"<h3>El tweet con mayor puntuacion global es : </h3>\"\"\"\n",
    "display(HTML(s))\n",
    "\n",
    "\n",
    "df[df['compound'] == df['compound'].max()]"
   ]
  },
  {
   "cell_type": "code",
   "execution_count": 335,
   "metadata": {},
   "outputs": [
    {
     "data": {
      "text/html": [
       "<div>\n",
       "<style scoped>\n",
       "    .dataframe tbody tr th:only-of-type {\n",
       "        vertical-align: middle;\n",
       "    }\n",
       "\n",
       "    .dataframe tbody tr th {\n",
       "        vertical-align: top;\n",
       "    }\n",
       "\n",
       "    .dataframe thead th {\n",
       "        text-align: right;\n",
       "    }\n",
       "</style>\n",
       "<table border=\"1\" class=\"dataframe\">\n",
       "  <thead>\n",
       "    <tr style=\"text-align: right;\">\n",
       "      <th></th>\n",
       "      <th>compound</th>\n",
       "      <th>neg</th>\n",
       "      <th>neu</th>\n",
       "      <th>pos</th>\n",
       "    </tr>\n",
       "  </thead>\n",
       "  <tbody>\n",
       "    <tr>\n",
       "      <th>count</th>\n",
       "      <td>17.000000</td>\n",
       "      <td>17.000000</td>\n",
       "      <td>17.000000</td>\n",
       "      <td>17.000000</td>\n",
       "    </tr>\n",
       "    <tr>\n",
       "      <th>mean</th>\n",
       "      <td>0.017094</td>\n",
       "      <td>0.080412</td>\n",
       "      <td>0.869471</td>\n",
       "      <td>0.050118</td>\n",
       "    </tr>\n",
       "    <tr>\n",
       "      <th>std</th>\n",
       "      <td>0.413469</td>\n",
       "      <td>0.152033</td>\n",
       "      <td>0.139353</td>\n",
       "      <td>0.069779</td>\n",
       "    </tr>\n",
       "    <tr>\n",
       "      <th>min</th>\n",
       "      <td>-0.628900</td>\n",
       "      <td>0.000000</td>\n",
       "      <td>0.492000</td>\n",
       "      <td>0.000000</td>\n",
       "    </tr>\n",
       "    <tr>\n",
       "      <th>25%</th>\n",
       "      <td>-0.205700</td>\n",
       "      <td>0.000000</td>\n",
       "      <td>0.789000</td>\n",
       "      <td>0.000000</td>\n",
       "    </tr>\n",
       "    <tr>\n",
       "      <th>50%</th>\n",
       "      <td>0.000000</td>\n",
       "      <td>0.000000</td>\n",
       "      <td>0.898000</td>\n",
       "      <td>0.000000</td>\n",
       "    </tr>\n",
       "    <tr>\n",
       "      <th>75%</th>\n",
       "      <td>0.296000</td>\n",
       "      <td>0.052000</td>\n",
       "      <td>1.000000</td>\n",
       "      <td>0.102000</td>\n",
       "    </tr>\n",
       "    <tr>\n",
       "      <th>max</th>\n",
       "      <td>0.695600</td>\n",
       "      <td>0.508000</td>\n",
       "      <td>1.000000</td>\n",
       "      <td>0.211000</td>\n",
       "    </tr>\n",
       "  </tbody>\n",
       "</table>\n",
       "</div>"
      ],
      "text/plain": [
       "        compound        neg        neu        pos\n",
       "count  17.000000  17.000000  17.000000  17.000000\n",
       "mean    0.017094   0.080412   0.869471   0.050118\n",
       "std     0.413469   0.152033   0.139353   0.069779\n",
       "min    -0.628900   0.000000   0.492000   0.000000\n",
       "25%    -0.205700   0.000000   0.789000   0.000000\n",
       "50%     0.000000   0.000000   0.898000   0.000000\n",
       "75%     0.296000   0.052000   1.000000   0.102000\n",
       "max     0.695600   0.508000   1.000000   0.211000"
      ]
     },
     "execution_count": 335,
     "metadata": {},
     "output_type": "execute_result"
    }
   ],
   "source": [
    "df.describe()"
   ]
  },
  {
   "cell_type": "code",
   "execution_count": 18,
   "metadata": {},
   "outputs": [
    {
     "data": {
      "image/png": "[encoded data removed]",
      "text/plain": [
       "<matplotlib.figure.Figure at 0x1073a6908>"
      ]
     },
     "metadata": {},
     "output_type": "display_data"
    }
   ],
   "source": [
    "import matplotlib.pyplot as plt\n",
    "from mpl_toolkits import mplot3d\n",
    "\n",
    "ax = plt.axes(projection='3d')\n",
    "\n",
    "\n",
    "ax.set_xlabel('Neg')\n",
    "ax.set_ylabel('Pos')\n",
    "ax.set_zlabel('Neu')\n",
    "ax.scatter3D(df.neg.values, df.pos.values, df.neu.values, c=df.neu.values, cmap='Blues');"
   ]
  },
  {
   "cell_type": "markdown",
   "metadata": {},
   "source": [
    "## Resultados\n",
    "\n",
    "En la representación se ve que hay mas tweets neutros/negativos que positivos. \n",
    "Eso es lo esperable, dado que son hashtag corporativos."
   ]
  },
  {
   "cell_type": "markdown",
   "metadata": {},
   "source": [
    "## Conclusion\n",
    "\n",
    "Estudiando y monitorizando el sentiment analisys, podemos entender y mejorar nuestro posicionamiento en las redes sociales.\n"
   ]
  },
  {
   "cell_type": "code",
   "execution_count": null,
   "metadata": {},
   "outputs": [],
   "source": []
  }
 ],
 "metadata": {
  "kernelspec": {
   "display_name": "Python 3",
   "language": "python",
   "name": "python3"
  },
  "language_info": {
   "codemirror_mode": {
    "name": "ipython",
    "version": 3
   },
   "file_extension": ".py",
   "mimetype": "text/x-python",
   "name": "python",
   "nbconvert_exporter": "python",
   "pygments_lexer": "ipython3",
   "version": "3.6.4"
  }
 },
 "nbformat": 4,
 "nbformat_minor": 2
}
