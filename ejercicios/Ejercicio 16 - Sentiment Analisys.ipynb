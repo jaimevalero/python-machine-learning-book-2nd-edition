{
 "cells": [
  {
   "cell_type": "markdown",
   "metadata": {},
   "source": [
    "![title](./images/vader_1.jpg)"
   ]
  },
  {
   "cell_type": "markdown",
   "metadata": {},
   "source": [
    "# En este ejercicio, enseñaremos sentimientos al ordenador\n",
    "<br>\n",
    "\n",
    " <div class=\"alert alert-block alert-info\">\n",
    "El <strong>sentiment analysis</strong> se usa sobre todo en el ámbito de las redes sociales, y el marketing digital.\n",
    "</div>\n",
    "\n",
    "<br>"
   ]
  },
  {
   "cell_type": "markdown",
   "metadata": {},
   "source": [
    "## Contenidos ##\n",
    "- ### Librería vader de analisis de sentimientos.\n",
    "- ### Ejemplo de frases positivas, negativas y neutras.\n",
    "- ### Ejemplo de traducción a otros idiomas\n",
    "- ### Analisis del hashtag de twitter\n",
    "- ### Resultado y conclusión"
   ]
  },
  {
   "cell_type": "markdown",
   "metadata": {},
   "source": [
    "Vamos a medir la intensidad del sentimiento usando la librería vader. https://github.com/cjhutto/vaderSentiment\n",
    "\n",
    "Nos va a devolver un diccionario con la polarización de sentimientos (el polarity score).\n",
    " - neg: Negative\n",
    " - neu: Neutral\n",
    " - pos: Positive\n",
    " - compound: Compound (i.e. aggregated score)"
   ]
  },
  {
   "cell_type": "code",
   "execution_count": 1,
   "metadata": {},
   "outputs": [],
   "source": [
    "# Definimos una gráfica\n",
    "import matplotlib.pyplot as plt\n",
    "\n",
    "def mostrar_grafica(puntuacion):\n",
    "    plt.bar(range(len(puntuacion)), list(puntuacion.values()), align='center')\n",
    "    plt.xticks(range(len(puntuacion)), list(puntuacion.keys()))\n",
    "    plt.show()\n"
   ]
  },
  {
   "cell_type": "markdown",
   "metadata": {},
   "source": [
    "Probamos con una frase neutral"
   ]
  },
  {
   "cell_type": "code",
   "execution_count": 2,
   "metadata": {},
   "outputs": [
    {
     "data": {
      "text/html": [
       "<div>\n",
       "<style scoped>\n",
       "    .dataframe tbody tr th:only-of-type {\n",
       "        vertical-align: middle;\n",
       "    }\n",
       "\n",
       "    .dataframe tbody tr th {\n",
       "        vertical-align: top;\n",
       "    }\n",
       "\n",
       "    .dataframe thead th {\n",
       "        text-align: right;\n",
       "    }\n",
       "</style>\n",
       "<table border=\"1\" class=\"dataframe\">\n",
       "  <thead>\n",
       "    <tr style=\"text-align: right;\">\n",
       "      <th></th>\n",
       "      <th>compound</th>\n",
       "      <th>neg</th>\n",
       "      <th>neu</th>\n",
       "      <th>pos</th>\n",
       "    </tr>\n",
       "  </thead>\n",
       "  <tbody>\n",
       "    <tr>\n",
       "      <th>0</th>\n",
       "      <td>0.0</td>\n",
       "      <td>0.0</td>\n",
       "      <td>1.0</td>\n",
       "      <td>0.0</td>\n",
       "    </tr>\n",
       "  </tbody>\n",
       "</table>\n",
       "</div>"
      ],
      "text/plain": [
       "   compound  neg  neu  pos\n",
       "0       0.0  0.0  1.0  0.0"
      ]
     },
     "metadata": {},
     "output_type": "display_data"
    },
    {
     "data": {
      "text/plain": [
       "\"Let's get work. Really\""
      ]
     },
     "metadata": {},
     "output_type": "display_data"
    },
    {
     "data": {
      "image/png": "[encoded data removed]",
      "text/plain": [
       "<matplotlib.figure.Figure at 0x10ada8320>"
      ]
     },
     "metadata": {},
     "output_type": "display_data"
    }
   ],
   "source": [
    "from vaderSentiment.vaderSentiment import SentimentIntensityAnalyzer\n",
    "import pandas as pd\n",
    "from IPython.core.display import HTML \n",
    "\n",
    "FRASE=\"Let's get work. Really\"\n",
    "\n",
    "puntuacion = SentimentIntensityAnalyzer().polarity_scores(FRASE)\n",
    "\n",
    "display(pd.DataFrame([puntuacion]), FRASE)\n",
    "\n",
    "mostrar_grafica(puntuacion)\n"
   ]
  },
  {
   "cell_type": "markdown",
   "metadata": {},
   "source": [
    "Una frase positiva"
   ]
  },
  {
   "cell_type": "code",
   "execution_count": 3,
   "metadata": {},
   "outputs": [
    {
     "data": {
      "text/html": [
       "<div>\n",
       "<style scoped>\n",
       "    .dataframe tbody tr th:only-of-type {\n",
       "        vertical-align: middle;\n",
       "    }\n",
       "\n",
       "    .dataframe tbody tr th {\n",
       "        vertical-align: top;\n",
       "    }\n",
       "\n",
       "    .dataframe thead th {\n",
       "        text-align: right;\n",
       "    }\n",
       "</style>\n",
       "<table border=\"1\" class=\"dataframe\">\n",
       "  <thead>\n",
       "    <tr style=\"text-align: right;\">\n",
       "      <th></th>\n",
       "      <th>compound</th>\n",
       "      <th>neg</th>\n",
       "      <th>neu</th>\n",
       "      <th>pos</th>\n",
       "    </tr>\n",
       "  </thead>\n",
       "  <tbody>\n",
       "    <tr>\n",
       "      <th>0</th>\n",
       "      <td>0.5719</td>\n",
       "      <td>0.0</td>\n",
       "      <td>0.448</td>\n",
       "      <td>0.552</td>\n",
       "    </tr>\n",
       "  </tbody>\n",
       "</table>\n",
       "</div>"
      ],
      "text/plain": [
       "   compound  neg    neu    pos\n",
       "0    0.5719  0.0  0.448  0.552"
      ]
     },
     "metadata": {},
     "output_type": "display_data"
    },
    {
     "data": {
      "text/plain": [
       "'This tea is excellent'"
      ]
     },
     "metadata": {},
     "output_type": "display_data"
    },
    {
     "data": {
      "image/png": "[encoded data removed]",
      "text/plain": [
       "<matplotlib.figure.Figure at 0x10b41b080>"
      ]
     },
     "metadata": {},
     "output_type": "display_data"
    }
   ],
   "source": [
    "\n",
    "from vaderSentiment.vaderSentiment import SentimentIntensityAnalyzer\n",
    "from IPython.core.display import HTML \n",
    "\n",
    "FRASE=\"This tea is excellent\"\n",
    "\n",
    "puntuacion = SentimentIntensityAnalyzer().polarity_scores(FRASE)\n",
    "\n",
    "display(pd.DataFrame([puntuacion]), FRASE)\n",
    "\n",
    "mostrar_grafica(puntuacion)\n",
    "\n"
   ]
  },
  {
   "cell_type": "markdown",
   "metadata": {},
   "source": [
    "Y una frase negativa"
   ]
  },
  {
   "cell_type": "code",
   "execution_count": 4,
   "metadata": {},
   "outputs": [
    {
     "data": {
      "text/html": [
       "<div>\n",
       "<style scoped>\n",
       "    .dataframe tbody tr th:only-of-type {\n",
       "        vertical-align: middle;\n",
       "    }\n",
       "\n",
       "    .dataframe tbody tr th {\n",
       "        vertical-align: top;\n",
       "    }\n",
       "\n",
       "    .dataframe thead th {\n",
       "        text-align: right;\n",
       "    }\n",
       "</style>\n",
       "<table border=\"1\" class=\"dataframe\">\n",
       "  <thead>\n",
       "    <tr style=\"text-align: right;\">\n",
       "      <th></th>\n",
       "      <th>compound</th>\n",
       "      <th>neg</th>\n",
       "      <th>neu</th>\n",
       "      <th>pos</th>\n",
       "    </tr>\n",
       "  </thead>\n",
       "  <tbody>\n",
       "    <tr>\n",
       "      <th>0</th>\n",
       "      <td>-0.6808</td>\n",
       "      <td>0.535</td>\n",
       "      <td>0.465</td>\n",
       "      <td>0.0</td>\n",
       "    </tr>\n",
       "  </tbody>\n",
       "</table>\n",
       "</div>"
      ],
      "text/plain": [
       "   compound    neg    neu  pos\n",
       "0   -0.6808  0.535  0.465  0.0"
      ]
     },
     "metadata": {},
     "output_type": "display_data"
    },
    {
     "data": {
      "text/plain": [
       "'The traffic is a living hell.'"
      ]
     },
     "metadata": {},
     "output_type": "display_data"
    },
    {
     "data": {
      "image/png": "[encoded data removed]",
      "text/plain": [
       "<matplotlib.figure.Figure at 0x10e91ffd0>"
      ]
     },
     "metadata": {},
     "output_type": "display_data"
    }
   ],
   "source": [
    "from vaderSentiment.vaderSentiment import SentimentIntensityAnalyzer\n",
    "from IPython.core.display import HTML \n",
    "\n",
    "FRASE=\"The traffic is a living hell.\"\n",
    "\n",
    "puntuacion = SentimentIntensityAnalyzer().polarity_scores(FRASE)\n",
    "\n",
    "display(pd.DataFrame([puntuacion]), FRASE)\n",
    "\n",
    "mostrar_grafica(puntuacion)\n"
   ]
  },
  {
   "cell_type": "markdown",
   "metadata": {},
   "source": [
    "### Ejemplo de traducción a otros idiomas\n",
    "\n",
    "Hay que traducir la frase, antes de pasársela a vader."
   ]
  },
  {
   "cell_type": "code",
   "execution_count": 5,
   "metadata": {},
   "outputs": [
    {
     "name": "stdout",
     "output_type": "stream",
     "text": [
      "Se ha estropeado la maldita máquina, joder joder joder.  se traduce por :  The damn machine is screwed up, fuck fuck fuck.\n"
     ]
    },
    {
     "data": {
      "text/html": [
       "<div>\n",
       "<style scoped>\n",
       "    .dataframe tbody tr th:only-of-type {\n",
       "        vertical-align: middle;\n",
       "    }\n",
       "\n",
       "    .dataframe tbody tr th {\n",
       "        vertical-align: top;\n",
       "    }\n",
       "\n",
       "    .dataframe thead th {\n",
       "        text-align: right;\n",
       "    }\n",
       "</style>\n",
       "<table border=\"1\" class=\"dataframe\">\n",
       "  <thead>\n",
       "    <tr style=\"text-align: right;\">\n",
       "      <th></th>\n",
       "      <th>compound</th>\n",
       "      <th>neg</th>\n",
       "      <th>neu</th>\n",
       "      <th>pos</th>\n",
       "    </tr>\n",
       "  </thead>\n",
       "  <tbody>\n",
       "    <tr>\n",
       "      <th>0</th>\n",
       "      <td>-0.9468</td>\n",
       "      <td>0.804</td>\n",
       "      <td>0.196</td>\n",
       "      <td>0.0</td>\n",
       "    </tr>\n",
       "  </tbody>\n",
       "</table>\n",
       "</div>"
      ],
      "text/plain": [
       "   compound    neg    neu  pos\n",
       "0   -0.9468  0.804  0.196  0.0"
      ]
     },
     "metadata": {},
     "output_type": "display_data"
    },
    {
     "data": {
      "text/plain": [
       "'The damn machine is screwed up, fuck fuck fuck.'"
      ]
     },
     "metadata": {},
     "output_type": "display_data"
    },
    {
     "data": {
      "image/png": "[encoded data removed]",
      "text/plain": [
       "<matplotlib.figure.Figure at 0x10f46aeb8>"
      ]
     },
     "metadata": {},
     "output_type": "display_data"
    }
   ],
   "source": [
    "import requests\n",
    "import json\n",
    "import string\n",
    "\n",
    "frase = \"Se ha estropeado la maldita máquina, joder joder joder.\"\n",
    "\n",
    "from_lang = 'es'\n",
    "to_lang = 'en'\n",
    "api_url = \"http://mymemory.translated.net/api/get?q={}&langpair={}|{}\".format(frase, from_lang, to_lang)\n",
    "\n",
    "hdrs = { 'User-Agent': 'Mozilla/5.0 (X11; Linux x86_64) AppleWebKit/537.11 (KHTML, like Gecko) Chrome/23.0.1271.64 Safari/537.11',\n",
    "        'Accept': 'text/html,application/xhtml+xml,application/xml;q=0.9,*/*;q=0.8',\n",
    "        'Accept-Charset': 'ISO-8859-1,utf-8;q=0.7,*;q=0.3',\n",
    "        'Accept-Encoding': 'none',\n",
    "        'Accept-Language': 'en-US,en;q=0.8',\n",
    "        'Connection': 'keep-alive'}\n",
    "\n",
    "response = requests.get(api_url, headers=hdrs)\n",
    "response_json = json.loads(response.text)\n",
    "translation = response_json[\"responseData\"][\"translatedText\"]\n",
    "print(frase, \" se traduce por : \",translation)\n",
    "\n",
    "sentence = translation\n",
    "\n",
    "analyzer = SentimentIntensityAnalyzer()\n",
    "puntuacion = analyzer.polarity_scores(sentence)\n",
    "\n",
    "display(pd.DataFrame([puntuacion]), sentence)\n",
    "\n",
    "mostrar_grafica(puntuacion)\n",
    "\n"
   ]
  },
  {
   "cell_type": "markdown",
   "metadata": {},
   "source": [
    "### Sentiment analisys del hashtag de twitter\n",
    "\n",
    "Vamos a descargarnos los tweets de un hashtag determinado, y le vamos a pasar por vader.\n",
    "\n",
    "\n",
    "La idea es detectar los tweets negativos sobre algo.\n",
    "\n",
    "\n",
    "El hashtag es ...."
   ]
  },
  {
   "cell_type": "code",
   "execution_count": 6,
   "metadata": {},
   "outputs": [
    {
     "name": "stdout",
     "output_type": "stream",
     "text": [
      " Nos conectamos a twitter\n",
      " Acabamos de descargarnos 3500 tweets de  Telefonica\n"
     ]
    }
   ],
   "source": [
    "\n",
    "import tweepy\n",
    "import csv\n",
    "import pandas as pd\n",
    "from datetime import date, timedelta\n",
    "\n",
    "####\n",
    "###### Nos conectamos a tweeter \n",
    "#(para usar esto hay que arreglar las variables con los token de conexion), y descomentar el guardado a disco.\n",
    "\n",
    "import tweepy\n",
    "import csv\n",
    "import pandas as pd\n",
    "from datetime import date, timedelta\n",
    "\n",
    "#### Credenciales de acceso a twitter\n",
    "consumer_key=\"\"\n",
    "consumer_secret=\"\"\n",
    "access_token=\"\"\n",
    "access_token_secret=\"\"\n",
    "\n",
    "hashtag=\"Telefonica\"\n",
    "\n",
    "# Quitamos la primera letra de las variables, y ponemos un guión para despistar a los parser\n",
    "consumer_key    = 'hmFJIxaV0HqCuKVZc8iZL65sJ'\n",
    "consumer_secret = 'leDBguzuUDqd4v2YwKf9cYywWBWEDX4XV341HVdLHC18n1C7kP'\n",
    "access_token    = '792058678581026816-ZZk5lNrzMcLJdHRrRLMn6LIksQLDZTi'\n",
    "access_token_secret   = 'zskKIFghdWezAgpChHLGrVX6OtZPBOmSOvG1tPMtWlK6b'\n",
    "\n",
    "print(\" Nos conectamos a twitter\" )\n",
    "\n",
    "\n",
    "auth = tweepy.OAuthHandler(consumer_key, consumer_secret)\n",
    "auth.set_access_token(access_token, access_token_secret)\n",
    "api = tweepy.API(auth,wait_on_rate_limit=True)\n",
    "\n",
    "options = \" -filter:retweets\"\n",
    "array = []\n",
    "full = []\n",
    "i=0 # Solo para log\n",
    "try:\n",
    "    # Pedimos datos al api\n",
    "    for tweet in tweepy.Cursor(api.search , count=100,q=hashtag + options, lang=\"en\", tweet_mode=\"extended\").items(5000) :\n",
    "        array.append({\"hashtag\" : hashtag  , \n",
    "                      \"tweet\" : tweet.full_text,\n",
    "                      \"link\" : \"https://twitter.com/\"+ tweet._json[\"user\"][\"screen_name\"] + \"/status/\" + tweet.id_str ,\n",
    "                      \"retweet_count\" : tweet.retweet_count ,\n",
    "                      \"favorite_count\": tweet.favorite_count\n",
    "                     })\n",
    "        i = i + 1\n",
    "        if  i % 1000 == 0  : print ( \"Tweets descargados : \" , i)\n",
    "            \n",
    "            \n",
    "        \n",
    "    # Guardar a disco    \n",
    "    df = pd.DataFrame(array)\n",
    "    \n",
    "    ### Descomentar para guardar a disco\n",
    "    df.to_csv('datasets/tweeter.csv',index=False)\n",
    "    tweets = df \n",
    "\n",
    "    print(\" Acabamos de descargarnos\",df.size,\"tweets de \" , hashtag )\n",
    "    df.head(5)\n",
    "\n",
    "except Exception as e:\n",
    "    print(\"Excepcion : \" , str(e))\n"
   ]
  },
  {
   "cell_type": "code",
   "execution_count": 7,
   "metadata": {},
   "outputs": [
    {
     "data": {
      "text/html": [
       "<div>\n",
       "<style scoped>\n",
       "    .dataframe tbody tr th:only-of-type {\n",
       "        vertical-align: middle;\n",
       "    }\n",
       "\n",
       "    .dataframe tbody tr th {\n",
       "        vertical-align: top;\n",
       "    }\n",
       "\n",
       "    .dataframe thead th {\n",
       "        text-align: right;\n",
       "    }\n",
       "</style>\n",
       "<table border=\"1\" class=\"dataframe\">\n",
       "  <thead>\n",
       "    <tr style=\"text-align: right;\">\n",
       "      <th></th>\n",
       "      <th>favorite_count</th>\n",
       "      <th>hashtag</th>\n",
       "      <th>link</th>\n",
       "      <th>retweet_count</th>\n",
       "      <th>tweet</th>\n",
       "    </tr>\n",
       "  </thead>\n",
       "  <tbody>\n",
       "    <tr>\n",
       "      <th>695</th>\n",
       "      <td>0</td>\n",
       "      <td>Telefonica</td>\n",
       "      <td>https://twitter.com/JCPinEastScot/status/10395...</td>\n",
       "      <td>0</td>\n",
       "      <td>Retail Advisor @O2Careers #Dunfermline\\nApply/...</td>\n",
       "    </tr>\n",
       "    <tr>\n",
       "      <th>696</th>\n",
       "      <td>5</td>\n",
       "      <td>Telefonica</td>\n",
       "      <td>https://twitter.com/vrbenjamins/status/1039522...</td>\n",
       "      <td>1</td>\n",
       "      <td>Big Data &amp;amp; AI for Social Good (in German)....</td>\n",
       "    </tr>\n",
       "    <tr>\n",
       "      <th>697</th>\n",
       "      <td>0</td>\n",
       "      <td>Telefonica</td>\n",
       "      <td>https://twitter.com/telefonicab2b/status/10395...</td>\n",
       "      <td>0</td>\n",
       "      <td>By 2020, more than 60% of #enterprises will ha...</td>\n",
       "    </tr>\n",
       "    <tr>\n",
       "      <th>698</th>\n",
       "      <td>1</td>\n",
       "      <td>Telefonica</td>\n",
       "      <td>https://twitter.com/mhacheB/status/10395134419...</td>\n",
       "      <td>0</td>\n",
       "      <td>Telefonica Spain manages to increase IT produc...</td>\n",
       "    </tr>\n",
       "    <tr>\n",
       "      <th>699</th>\n",
       "      <td>0</td>\n",
       "      <td>Telefonica</td>\n",
       "      <td>https://twitter.com/GinaMclean_O2UK/status/103...</td>\n",
       "      <td>0</td>\n",
       "      <td>Do you have a passion to inspire others? Fort ...</td>\n",
       "    </tr>\n",
       "  </tbody>\n",
       "</table>\n",
       "</div>"
      ],
      "text/plain": [
       "     favorite_count     hashtag  \\\n",
       "695               0  Telefonica   \n",
       "696               5  Telefonica   \n",
       "697               0  Telefonica   \n",
       "698               1  Telefonica   \n",
       "699               0  Telefonica   \n",
       "\n",
       "                                                  link  retweet_count  \\\n",
       "695  https://twitter.com/JCPinEastScot/status/10395...              0   \n",
       "696  https://twitter.com/vrbenjamins/status/1039522...              1   \n",
       "697  https://twitter.com/telefonicab2b/status/10395...              0   \n",
       "698  https://twitter.com/mhacheB/status/10395134419...              0   \n",
       "699  https://twitter.com/GinaMclean_O2UK/status/103...              0   \n",
       "\n",
       "                                                 tweet  \n",
       "695  Retail Advisor @O2Careers #Dunfermline\\nApply/...  \n",
       "696  Big Data &amp; AI for Social Good (in German)....  \n",
       "697  By 2020, more than 60% of #enterprises will ha...  \n",
       "698  Telefonica Spain manages to increase IT produc...  \n",
       "699  Do you have a passion to inspire others? Fort ...  "
      ]
     },
     "execution_count": 7,
     "metadata": {},
     "output_type": "execute_result"
    }
   ],
   "source": [
    "df.tail()"
   ]
  },
  {
   "cell_type": "code",
   "execution_count": 8,
   "metadata": {},
   "outputs": [
    {
     "data": {
      "text/html": [
       "<div>\n",
       "<style scoped>\n",
       "    .dataframe tbody tr th:only-of-type {\n",
       "        vertical-align: middle;\n",
       "    }\n",
       "\n",
       "    .dataframe tbody tr th {\n",
       "        vertical-align: top;\n",
       "    }\n",
       "\n",
       "    .dataframe thead th {\n",
       "        text-align: right;\n",
       "    }\n",
       "</style>\n",
       "<table border=\"1\" class=\"dataframe\">\n",
       "  <thead>\n",
       "    <tr style=\"text-align: right;\">\n",
       "      <th></th>\n",
       "      <th>favorite_count</th>\n",
       "      <th>hashtag</th>\n",
       "      <th>link</th>\n",
       "      <th>retweet_count</th>\n",
       "      <th>tweet</th>\n",
       "    </tr>\n",
       "  </thead>\n",
       "  <tbody>\n",
       "    <tr>\n",
       "      <th>0</th>\n",
       "      <td>0</td>\n",
       "      <td>Telefonica</td>\n",
       "      <td>https://twitter.com/patent_analysis/status/104...</td>\n",
       "      <td>0</td>\n",
       "      <td>\"Telefónica refreshes startup program to focus...</td>\n",
       "    </tr>\n",
       "    <tr>\n",
       "      <th>1</th>\n",
       "      <td>0</td>\n",
       "      <td>Telefonica</td>\n",
       "      <td>https://twitter.com/caloique/status/1043178875...</td>\n",
       "      <td>0</td>\n",
       "      <td>There is few days left to close our call to jo...</td>\n",
       "    </tr>\n",
       "    <tr>\n",
       "      <th>2</th>\n",
       "      <td>1</td>\n",
       "      <td>Telefonica</td>\n",
       "      <td>https://twitter.com/Mikasa_Chilosa/status/1043...</td>\n",
       "      <td>0</td>\n",
       "      <td>@radiorahqueen Yeaaaah I’m not feeling it as m...</td>\n",
       "    </tr>\n",
       "    <tr>\n",
       "      <th>3</th>\n",
       "      <td>0</td>\n",
       "      <td>Telefonica</td>\n",
       "      <td>https://twitter.com/EideBaillyTech/status/1043...</td>\n",
       "      <td>0</td>\n",
       "      <td>Technology can help you engage your customers ...</td>\n",
       "    </tr>\n",
       "    <tr>\n",
       "      <th>4</th>\n",
       "      <td>0</td>\n",
       "      <td>Telefonica</td>\n",
       "      <td>https://twitter.com/O2Careers/status/104316851...</td>\n",
       "      <td>0</td>\n",
       "      <td>The benefits we give our people give them that...</td>\n",
       "    </tr>\n",
       "  </tbody>\n",
       "</table>\n",
       "</div>"
      ],
      "text/plain": [
       "   favorite_count     hashtag  \\\n",
       "0               0  Telefonica   \n",
       "1               0  Telefonica   \n",
       "2               1  Telefonica   \n",
       "3               0  Telefonica   \n",
       "4               0  Telefonica   \n",
       "\n",
       "                                                link  retweet_count  \\\n",
       "0  https://twitter.com/patent_analysis/status/104...              0   \n",
       "1  https://twitter.com/caloique/status/1043178875...              0   \n",
       "2  https://twitter.com/Mikasa_Chilosa/status/1043...              0   \n",
       "3  https://twitter.com/EideBaillyTech/status/1043...              0   \n",
       "4  https://twitter.com/O2Careers/status/104316851...              0   \n",
       "\n",
       "                                               tweet  \n",
       "0  \"Telefónica refreshes startup program to focus...  \n",
       "1  There is few days left to close our call to jo...  \n",
       "2  @radiorahqueen Yeaaaah I’m not feeling it as m...  \n",
       "3  Technology can help you engage your customers ...  \n",
       "4  The benefits we give our people give them that...  "
      ]
     },
     "execution_count": 8,
     "metadata": {},
     "output_type": "execute_result"
    }
   ],
   "source": [
    "#########################################\n",
    "### Cargamos el DataFrame, desde un csv.\n",
    "### Por si no los hemos descargado\n",
    "#########################################\n",
    "import pandas as pd\n",
    "tweets = pd.read_csv('datasets/tweeter.csv',encoding = 'utf8')\n",
    "tweets.head()\n"
   ]
  },
  {
   "cell_type": "markdown",
   "metadata": {},
   "source": [
    "Ahora que tenemos los tweets en un dataframe, \n",
    "\n",
    "por cada tweet, vamos llamando a vader, para sacar las puntuaciones."
   ]
  },
  {
   "cell_type": "code",
   "execution_count": 9,
   "metadata": {},
   "outputs": [
    {
     "data": {
      "text/html": [
       "<div>\n",
       "<style scoped>\n",
       "    .dataframe tbody tr th:only-of-type {\n",
       "        vertical-align: middle;\n",
       "    }\n",
       "\n",
       "    .dataframe tbody tr th {\n",
       "        vertical-align: top;\n",
       "    }\n",
       "\n",
       "    .dataframe thead th {\n",
       "        text-align: right;\n",
       "    }\n",
       "</style>\n",
       "<table border=\"1\" class=\"dataframe\">\n",
       "  <thead>\n",
       "    <tr style=\"text-align: right;\">\n",
       "      <th></th>\n",
       "      <th>compound</th>\n",
       "      <th>neg</th>\n",
       "      <th>neu</th>\n",
       "      <th>pos</th>\n",
       "      <th>hashtag</th>\n",
       "      <th>tweet</th>\n",
       "      <th>link</th>\n",
       "      <th>retweets</th>\n",
       "      <th>favorites</th>\n",
       "    </tr>\n",
       "  </thead>\n",
       "  <tbody>\n",
       "    <tr>\n",
       "      <th>0</th>\n",
       "      <td>0.7708</td>\n",
       "      <td>0.000</td>\n",
       "      <td>0.816</td>\n",
       "      <td>0.184</td>\n",
       "      <td>Telefonica</td>\n",
       "      <td>\"Telefónica refreshes startup program to focus...</td>\n",
       "      <td>https://twitter.com/patent_analysis/status/104...</td>\n",
       "      <td>0</td>\n",
       "      <td>0</td>\n",
       "    </tr>\n",
       "    <tr>\n",
       "      <th>1</th>\n",
       "      <td>0.7500</td>\n",
       "      <td>0.000</td>\n",
       "      <td>0.841</td>\n",
       "      <td>0.159</td>\n",
       "      <td>Telefonica</td>\n",
       "      <td>There is few days left to close our call to jo...</td>\n",
       "      <td>https://twitter.com/caloique/status/1043178875...</td>\n",
       "      <td>0</td>\n",
       "      <td>0</td>\n",
       "    </tr>\n",
       "    <tr>\n",
       "      <th>2</th>\n",
       "      <td>-0.0951</td>\n",
       "      <td>0.132</td>\n",
       "      <td>0.868</td>\n",
       "      <td>0.000</td>\n",
       "      <td>Telefonica</td>\n",
       "      <td>@radiorahqueen Yeaaaah I’m not feeling it as m...</td>\n",
       "      <td>https://twitter.com/Mikasa_Chilosa/status/1043...</td>\n",
       "      <td>0</td>\n",
       "      <td>1</td>\n",
       "    </tr>\n",
       "    <tr>\n",
       "      <th>3</th>\n",
       "      <td>0.8979</td>\n",
       "      <td>0.000</td>\n",
       "      <td>0.719</td>\n",
       "      <td>0.281</td>\n",
       "      <td>Telefonica</td>\n",
       "      <td>Technology can help you engage your customers ...</td>\n",
       "      <td>https://twitter.com/EideBaillyTech/status/1043...</td>\n",
       "      <td>0</td>\n",
       "      <td>0</td>\n",
       "    </tr>\n",
       "    <tr>\n",
       "      <th>4</th>\n",
       "      <td>0.3818</td>\n",
       "      <td>0.000</td>\n",
       "      <td>0.833</td>\n",
       "      <td>0.167</td>\n",
       "      <td>Telefonica</td>\n",
       "      <td>The benefits we give our people give them that...</td>\n",
       "      <td>https://twitter.com/O2Careers/status/104316851...</td>\n",
       "      <td>0</td>\n",
       "      <td>0</td>\n",
       "    </tr>\n",
       "  </tbody>\n",
       "</table>\n",
       "</div>"
      ],
      "text/plain": [
       "   compound    neg    neu    pos     hashtag  \\\n",
       "0    0.7708  0.000  0.816  0.184  Telefonica   \n",
       "1    0.7500  0.000  0.841  0.159  Telefonica   \n",
       "2   -0.0951  0.132  0.868  0.000  Telefonica   \n",
       "3    0.8979  0.000  0.719  0.281  Telefonica   \n",
       "4    0.3818  0.000  0.833  0.167  Telefonica   \n",
       "\n",
       "                                               tweet  \\\n",
       "0  \"Telefónica refreshes startup program to focus...   \n",
       "1  There is few days left to close our call to jo...   \n",
       "2  @radiorahqueen Yeaaaah I’m not feeling it as m...   \n",
       "3  Technology can help you engage your customers ...   \n",
       "4  The benefits we give our people give them that...   \n",
       "\n",
       "                                                link  retweets  favorites  \n",
       "0  https://twitter.com/patent_analysis/status/104...         0          0  \n",
       "1  https://twitter.com/caloique/status/1043178875...         0          0  \n",
       "2  https://twitter.com/Mikasa_Chilosa/status/1043...         0          1  \n",
       "3  https://twitter.com/EideBaillyTech/status/1043...         0          0  \n",
       "4  https://twitter.com/O2Careers/status/104316851...         0          0  "
      ]
     },
     "execution_count": 9,
     "metadata": {},
     "output_type": "execute_result"
    }
   ],
   "source": [
    "from vaderSentiment.vaderSentiment import SentimentIntensityAnalyzer\n",
    "import pandas as pd\n",
    "\n",
    "array_puntuaciones = []\n",
    "for index, row in tweets.iterrows():\n",
    "    puntuacion = SentimentIntensityAnalyzer().polarity_scores(row.tweet.replace(\"#\",\"\"))\n",
    "    array_puntuaciones.append ( puntuacion)\n",
    "\n",
    "\n",
    "df = pd.DataFrame(array_puntuaciones)\n",
    "df[\"hashtag\"]     = tweets[\"hashtag\"]\n",
    "df[\"tweet\"]       = tweets[\"tweet\"]\n",
    "df[\"link\"]        = tweets[\"link\"]\n",
    "df[\"retweets\"]    = tweets[\"retweet_count\"]\n",
    "df[\"favorites\"]   = tweets[\"favorite_count\"]\n",
    "\n",
    "\n",
    "df.head()"
   ]
  },
  {
   "cell_type": "code",
   "execution_count": 10,
   "metadata": {},
   "outputs": [],
   "source": [
    "# Esta clase es solp para mostrar el tweet por pantalla\n",
    "\n",
    "import requests\n",
    "class Tweet(object):\n",
    "    def __init__(self, s, embed_str=False):\n",
    "        if not embed_str:\n",
    "            # Use Twitter's oEmbed API\n",
    "            # https://dev.twitter.com/web/embedded-tweets\n",
    "            api = 'https://publish.twitter.com/oembed?url={}'.format(s)\n",
    "            response = requests.get(api)\n",
    "            self.text = response.json()[\"html\"]\n",
    "        else:\n",
    "            self.text = s\n",
    "\n",
    "    def _repr_html_(self):\n",
    "        return self.text"
   ]
  },
  {
   "cell_type": "code",
   "execution_count": 11,
   "metadata": {
    "scrolled": true
   },
   "outputs": [
    {
     "data": {
      "text/html": [
       "<h3>Los tweets mas positivos son : </h3>"
      ],
      "text/plain": [
       "<IPython.core.display.HTML object>"
      ]
     },
     "metadata": {},
     "output_type": "display_data"
    },
    {
     "data": {
      "text/html": [
       "<div>\n",
       "<style scoped>\n",
       "    .dataframe tbody tr th:only-of-type {\n",
       "        vertical-align: middle;\n",
       "    }\n",
       "\n",
       "    .dataframe tbody tr th {\n",
       "        vertical-align: top;\n",
       "    }\n",
       "\n",
       "    .dataframe thead th {\n",
       "        text-align: right;\n",
       "    }\n",
       "</style>\n",
       "<table border=\"1\" class=\"dataframe\">\n",
       "  <thead>\n",
       "    <tr style=\"text-align: right;\">\n",
       "      <th></th>\n",
       "      <th>compound</th>\n",
       "      <th>neg</th>\n",
       "      <th>neu</th>\n",
       "      <th>pos</th>\n",
       "      <th>tweet</th>\n",
       "      <th>link</th>\n",
       "    </tr>\n",
       "  </thead>\n",
       "  <tbody>\n",
       "    <tr>\n",
       "      <th>249</th>\n",
       "      <td>0.8309</td>\n",
       "      <td>0.0</td>\n",
       "      <td>0.278</td>\n",
       "      <td>0.722</td>\n",
       "      <td>Great Wayra  Proud !! https://t.co/HcHvNtmNYt</td>\n",
       "      <td>https://twitter.com/m_delascasas/status/104270...</td>\n",
       "    </tr>\n",
       "    <tr>\n",
       "      <th>677</th>\n",
       "      <td>0.8997</td>\n",
       "      <td>0.0</td>\n",
       "      <td>0.450</td>\n",
       "      <td>0.550</td>\n",
       "      <td>@vfiorese_ @MSF @Wayra @Telefonica @vivobr Wow...</td>\n",
       "      <td>https://twitter.com/jdelacruz_IoT/status/10396...</td>\n",
       "    </tr>\n",
       "    <tr>\n",
       "      <th>650</th>\n",
       "      <td>0.7184</td>\n",
       "      <td>0.0</td>\n",
       "      <td>0.500</td>\n",
       "      <td>0.500</td>\n",
       "      <td>Artificial intelligence for good @telefonica #...</td>\n",
       "      <td>https://twitter.com/cardenosa/status/103982531...</td>\n",
       "    </tr>\n",
       "  </tbody>\n",
       "</table>\n",
       "</div>"
      ],
      "text/plain": [
       "     compound  neg    neu    pos  \\\n",
       "249    0.8309  0.0  0.278  0.722   \n",
       "677    0.8997  0.0  0.450  0.550   \n",
       "650    0.7184  0.0  0.500  0.500   \n",
       "\n",
       "                                                 tweet  \\\n",
       "249      Great Wayra  Proud !! https://t.co/HcHvNtmNYt   \n",
       "677  @vfiorese_ @MSF @Wayra @Telefonica @vivobr Wow...   \n",
       "650  Artificial intelligence for good @telefonica #...   \n",
       "\n",
       "                                                  link  \n",
       "249  https://twitter.com/m_delascasas/status/104270...  \n",
       "677  https://twitter.com/jdelacruz_IoT/status/10396...  \n",
       "650  https://twitter.com/cardenosa/status/103982531...  "
      ]
     },
     "metadata": {},
     "output_type": "display_data"
    },
    {
     "data": {
      "text/html": [
       "<blockquote class=\"twitter-tweet\"><p lang=\"en\" dir=\"ltr\">Great Wayra  Proud !! <a href=\"https://t.co/HcHvNtmNYt\">https://t.co/HcHvNtmNYt</a></p>&mdash; Marta (@m_delascasas) <a href=\"https://twitter.com/m_delascasas/status/1042703570519445504?ref_src=twsrc%5Etfw\">September 20, 2018</a></blockquote>\n",
       "<script async src=\"https://platform.twitter.com/widgets.js\" charset=\"utf-8\"></script>\n"
      ],
      "text/plain": [
       "<__main__.Tweet at 0x10f595b38>"
      ]
     },
     "metadata": {},
     "output_type": "display_data"
    },
    {
     "data": {
      "text/html": [
       "<blockquote class=\"twitter-tweet\"><p lang=\"en\" dir=\"ltr\">Wow! That sounds like a really great history</p>&mdash; Juan de la Cruz (@jdelacruz_IoT) <a href=\"https://twitter.com/jdelacruz_IoT/status/1039610700312834048?ref_src=twsrc%5Etfw\">September 11, 2018</a></blockquote>\n",
       "<script async src=\"https://platform.twitter.com/widgets.js\" charset=\"utf-8\"></script>\n"
      ],
      "text/plain": [
       "<__main__.Tweet at 0x10a4c3cf8>"
      ]
     },
     "metadata": {},
     "output_type": "display_data"
    },
    {
     "data": {
      "text/html": [
       "<blockquote class=\"twitter-tweet\"><p lang=\"en\" dir=\"ltr\">Artificial intelligence for good <a href=\"https://twitter.com/Telefonica?ref_src=twsrc%5Etfw\">@telefonica</a> <a href=\"https://twitter.com/hashtag/ai?src=hash&amp;ref_src=twsrc%5Etfw\">#ai</a> <a href=\"https://twitter.com/hashtag/ia?src=hash&amp;ref_src=twsrc%5Etfw\">#ia</a> <a href=\"https://t.co/a9fmCiH7ZA\">https://t.co/a9fmCiH7ZA</a></p>&mdash; Miguel Rodríguez (@cardenosa) <a href=\"https://twitter.com/cardenosa/status/1039825316552880128?ref_src=twsrc%5Etfw\">September 12, 2018</a></blockquote>\n",
       "<script async src=\"https://platform.twitter.com/widgets.js\" charset=\"utf-8\"></script>\n"
      ],
      "text/plain": [
       "<__main__.Tweet at 0x10f47bd30>"
      ]
     },
     "metadata": {},
     "output_type": "display_data"
    }
   ],
   "source": [
    "from IPython.display import Image\n",
    "from IPython.core.display import HTML \n",
    "\n",
    "s = f\"\"\"<h3>Los tweets mas positivos son : </h3>\"\"\"\n",
    "display(HTML(s))\n",
    "\n",
    "# Cogemos los valores mas positivos\n",
    "minitabla = df.sort_values(by=['pos'],ascending = False ).head(3)[[\"compound\" ,\"neg\" ,\"neu\" ,\"pos\" ,\"tweet\", \"link\"]]\n",
    "\n",
    "display(minitabla)\n",
    "\n",
    "for (i, fila) in minitabla.iterrows() : \n",
    "    display(Tweet(fila.link)) \n",
    "\n",
    "\n"
   ]
  },
  {
   "cell_type": "code",
   "execution_count": 12,
   "metadata": {},
   "outputs": [
    {
     "data": {
      "text/html": [
       "<h3>Los tweets mas negativos son : </h3>"
      ],
      "text/plain": [
       "<IPython.core.display.HTML object>"
      ]
     },
     "metadata": {},
     "output_type": "display_data"
    },
    {
     "data": {
      "text/html": [
       "<div>\n",
       "<style scoped>\n",
       "    .dataframe tbody tr th:only-of-type {\n",
       "        vertical-align: middle;\n",
       "    }\n",
       "\n",
       "    .dataframe tbody tr th {\n",
       "        vertical-align: top;\n",
       "    }\n",
       "\n",
       "    .dataframe thead th {\n",
       "        text-align: right;\n",
       "    }\n",
       "</style>\n",
       "<table border=\"1\" class=\"dataframe\">\n",
       "  <thead>\n",
       "    <tr style=\"text-align: right;\">\n",
       "      <th></th>\n",
       "      <th>compound</th>\n",
       "      <th>neg</th>\n",
       "      <th>neu</th>\n",
       "      <th>pos</th>\n",
       "      <th>tweet</th>\n",
       "      <th>link</th>\n",
       "    </tr>\n",
       "  </thead>\n",
       "  <tbody>\n",
       "    <tr>\n",
       "      <th>662</th>\n",
       "      <td>-0.6289</td>\n",
       "      <td>0.508</td>\n",
       "      <td>0.492</td>\n",
       "      <td>0.000</td>\n",
       "      <td>$TEF #TELEFONICA #DANGER TicTac https://t.co/Q...</td>\n",
       "      <td>https://twitter.com/jtradercs/status/103977747...</td>\n",
       "    </tr>\n",
       "    <tr>\n",
       "      <th>489</th>\n",
       "      <td>-0.5267</td>\n",
       "      <td>0.423</td>\n",
       "      <td>0.577</td>\n",
       "      <td>0.000</td>\n",
       "      <td>Telefonica Stops Threats to Network with Oracl...</td>\n",
       "      <td>https://twitter.com/Ewaz_Nazari1/status/104069...</td>\n",
       "    </tr>\n",
       "    <tr>\n",
       "      <th>355</th>\n",
       "      <td>-0.1860</td>\n",
       "      <td>0.330</td>\n",
       "      <td>0.451</td>\n",
       "      <td>0.219</td>\n",
       "      <td>No PPV TV then NO champions lge is Spain.  htt...</td>\n",
       "      <td>https://twitter.com/robostarred/status/1042098...</td>\n",
       "    </tr>\n",
       "    <tr>\n",
       "      <th>585</th>\n",
       "      <td>-0.5574</td>\n",
       "      <td>0.295</td>\n",
       "      <td>0.705</td>\n",
       "      <td>0.000</td>\n",
       "      <td>Telefonica Chile mitigating Cloud Disruption r...</td>\n",
       "      <td>https://twitter.com/MarcoPfuhl/status/10401134...</td>\n",
       "    </tr>\n",
       "    <tr>\n",
       "      <th>347</th>\n",
       "      <td>-0.2960</td>\n",
       "      <td>0.268</td>\n",
       "      <td>0.732</td>\n",
       "      <td>0.000</td>\n",
       "      <td>@ImDataScientist @chemaalonso @Telefonica is t...</td>\n",
       "      <td>https://twitter.com/TejasHarshe/status/1042120...</td>\n",
       "    </tr>\n",
       "  </tbody>\n",
       "</table>\n",
       "</div>"
      ],
      "text/plain": [
       "     compound    neg    neu    pos  \\\n",
       "662   -0.6289  0.508  0.492  0.000   \n",
       "489   -0.5267  0.423  0.577  0.000   \n",
       "355   -0.1860  0.330  0.451  0.219   \n",
       "585   -0.5574  0.295  0.705  0.000   \n",
       "347   -0.2960  0.268  0.732  0.000   \n",
       "\n",
       "                                                 tweet  \\\n",
       "662  $TEF #TELEFONICA #DANGER TicTac https://t.co/Q...   \n",
       "489  Telefonica Stops Threats to Network with Oracl...   \n",
       "355  No PPV TV then NO champions lge is Spain.  htt...   \n",
       "585  Telefonica Chile mitigating Cloud Disruption r...   \n",
       "347  @ImDataScientist @chemaalonso @Telefonica is t...   \n",
       "\n",
       "                                                  link  \n",
       "662  https://twitter.com/jtradercs/status/103977747...  \n",
       "489  https://twitter.com/Ewaz_Nazari1/status/104069...  \n",
       "355  https://twitter.com/robostarred/status/1042098...  \n",
       "585  https://twitter.com/MarcoPfuhl/status/10401134...  \n",
       "347  https://twitter.com/TejasHarshe/status/1042120...  "
      ]
     },
     "metadata": {},
     "output_type": "display_data"
    },
    {
     "data": {
      "text/html": [
       "<blockquote class=\"twitter-tweet\"><p lang=\"en\" dir=\"ltr\"><a href=\"https://twitter.com/search?q=%24TEF&amp;src=ctag&amp;ref_src=twsrc%5Etfw\">$TEF</a> <a href=\"https://twitter.com/hashtag/TELEFONICA?src=hash&amp;ref_src=twsrc%5Etfw\">#TELEFONICA</a> <a href=\"https://twitter.com/hashtag/DANGER?src=hash&amp;ref_src=twsrc%5Etfw\">#DANGER</a> TicTac <a href=\"https://t.co/Qbhioky4tv\">pic.twitter.com/Qbhioky4tv</a></p>&mdash; Trader (@jtradercs) <a href=\"https://twitter.com/jtradercs/status/1039777470428442625?ref_src=twsrc%5Etfw\">September 12, 2018</a></blockquote>\n",
       "<script async src=\"https://platform.twitter.com/widgets.js\" charset=\"utf-8\"></script>\n"
      ],
      "text/plain": [
       "<__main__.Tweet at 0x10a4c3cf8>"
      ]
     },
     "metadata": {},
     "output_type": "display_data"
    },
    {
     "data": {
      "text/html": [
       "<blockquote class=\"twitter-tweet\"><p lang=\"en\" dir=\"ltr\">Telefonica Stops Threats to Network with Oracle <a href=\"https://t.co/dKtoYBJbRv\">https://t.co/dKtoYBJbRv</a></p>&mdash; Ewaz Nazari (@Ewaz_Nazari1) <a href=\"https://twitter.com/Ewaz_Nazari1/status/1040693641717661697?ref_src=twsrc%5Etfw\">September 14, 2018</a></blockquote>\n",
       "<script async src=\"https://platform.twitter.com/widgets.js\" charset=\"utf-8\"></script>\n"
      ],
      "text/plain": [
       "<__main__.Tweet at 0x10f442518>"
      ]
     },
     "metadata": {},
     "output_type": "display_data"
    },
    {
     "data": {
      "text/html": [
       "<blockquote class=\"twitter-tweet\"><p lang=\"en\" dir=\"ltr\">No PPV TV then NO champions lge is Spain.  <a href=\"https://t.co/YXeC4WKHoH\">https://t.co/YXeC4WKHoH</a></p>&mdash; Robostarred (@robostarred) <a href=\"https://twitter.com/robostarred/status/1042098226361511937?ref_src=twsrc%5Etfw\">September 18, 2018</a></blockquote>\n",
       "<script async src=\"https://platform.twitter.com/widgets.js\" charset=\"utf-8\"></script>\n"
      ],
      "text/plain": [
       "<__main__.Tweet at 0x10a4c3cf8>"
      ]
     },
     "metadata": {},
     "output_type": "display_data"
    },
    {
     "data": {
      "text/html": [
       "<blockquote class=\"twitter-tweet\"><p lang=\"en\" dir=\"ltr\">Telefonica Chile mitigating Cloud Disruption risks by using Cloud-to-Cloud (C2C) replication <a href=\"https://t.co/46kLvzCSKL\">https://t.co/46kLvzCSKL</a> <a href=\"https://t.co/cxjTHxziov\">pic.twitter.com/cxjTHxziov</a></p>&mdash; Marco Pfuhl (@MarcoPfuhl) <a href=\"https://twitter.com/MarcoPfuhl/status/1040113403254136834?ref_src=twsrc%5Etfw\">September 13, 2018</a></blockquote>\n",
       "<script async src=\"https://platform.twitter.com/widgets.js\" charset=\"utf-8\"></script>\n"
      ],
      "text/plain": [
       "<__main__.Tweet at 0x10f442518>"
      ]
     },
     "metadata": {},
     "output_type": "display_data"
    },
    {
     "data": {
      "text/html": [
       "<blockquote class=\"twitter-tweet\"><p lang=\"en\" dir=\"ltr\">is the link missing?</p>&mdash; Tejas Harshe (@TejasHarshe) <a href=\"https://twitter.com/TejasHarshe/status/1042120074277076992?ref_src=twsrc%5Etfw\">September 18, 2018</a></blockquote>\n",
       "<script async src=\"https://platform.twitter.com/widgets.js\" charset=\"utf-8\"></script>\n"
      ],
      "text/plain": [
       "<__main__.Tweet at 0x10a4c3cf8>"
      ]
     },
     "metadata": {},
     "output_type": "display_data"
    }
   ],
   "source": [
    "from IPython.display import Image\n",
    "from IPython.core.display import HTML \n",
    "\n",
    "s = f\"\"\"<h3>Los tweets mas negativos son : </h3>\"\"\"\n",
    "display(HTML(s))\n",
    "\n",
    "# Cogemos los valores mas neg\n",
    "minitabla = df.sort_values(by=['neg'],ascending = False ).head(5)[[\"compound\" ,\"neg\" ,\"neu\" ,\"pos\" ,\"tweet\", \"link\"]]\n",
    "\n",
    "display(minitabla)\n",
    "\n",
    "for (i, fila) in minitabla.iterrows() : \n",
    "    display(Tweet(fila.link)) \n",
    "\n"
   ]
  },
  {
   "cell_type": "code",
   "execution_count": 13,
   "metadata": {},
   "outputs": [
    {
     "data": {
      "text/html": [
       "<h3>Los tweets mas neutros son : </h3>"
      ],
      "text/plain": [
       "<IPython.core.display.HTML object>"
      ]
     },
     "metadata": {},
     "output_type": "display_data"
    },
    {
     "data": {
      "text/html": [
       "<div>\n",
       "<style scoped>\n",
       "    .dataframe tbody tr th:only-of-type {\n",
       "        vertical-align: middle;\n",
       "    }\n",
       "\n",
       "    .dataframe tbody tr th {\n",
       "        vertical-align: top;\n",
       "    }\n",
       "\n",
       "    .dataframe thead th {\n",
       "        text-align: right;\n",
       "    }\n",
       "</style>\n",
       "<table border=\"1\" class=\"dataframe\">\n",
       "  <thead>\n",
       "    <tr style=\"text-align: right;\">\n",
       "      <th></th>\n",
       "      <th>compound</th>\n",
       "      <th>neg</th>\n",
       "      <th>neu</th>\n",
       "      <th>pos</th>\n",
       "      <th>tweet</th>\n",
       "      <th>link</th>\n",
       "    </tr>\n",
       "  </thead>\n",
       "  <tbody>\n",
       "    <tr>\n",
       "      <th>350</th>\n",
       "      <td>0.0</td>\n",
       "      <td>0.0</td>\n",
       "      <td>1.0</td>\n",
       "      <td>0.0</td>\n",
       "      <td>Samsung and @Telefonica_De to collaborate on a...</td>\n",
       "      <td>https://twitter.com/SamsungNewsUS/status/10421...</td>\n",
       "    </tr>\n",
       "    <tr>\n",
       "      <th>278</th>\n",
       "      <td>0.0</td>\n",
       "      <td>0.0</td>\n",
       "      <td>1.0</td>\n",
       "      <td>0.0</td>\n",
       "      <td>Here we are .... #WeAreWayra https://t.co/pS9X...</td>\n",
       "      <td>https://twitter.com/jota_ele_ene/status/104267...</td>\n",
       "    </tr>\n",
       "    <tr>\n",
       "      <th>274</th>\n",
       "      <td>0.0</td>\n",
       "      <td>0.0</td>\n",
       "      <td>1.0</td>\n",
       "      <td>0.0</td>\n",
       "      <td>Wayra is back 💪🏻 https://t.co/D7s2W3xPz2</td>\n",
       "      <td>https://twitter.com/AitorGoy/status/1042674734...</td>\n",
       "    </tr>\n",
       "  </tbody>\n",
       "</table>\n",
       "</div>"
      ],
      "text/plain": [
       "     compound  neg  neu  pos  \\\n",
       "350       0.0  0.0  1.0  0.0   \n",
       "278       0.0  0.0  1.0  0.0   \n",
       "274       0.0  0.0  1.0  0.0   \n",
       "\n",
       "                                                 tweet  \\\n",
       "350  Samsung and @Telefonica_De to collaborate on a...   \n",
       "278  Here we are .... #WeAreWayra https://t.co/pS9X...   \n",
       "274           Wayra is back 💪🏻 https://t.co/D7s2W3xPz2   \n",
       "\n",
       "                                                  link  \n",
       "350  https://twitter.com/SamsungNewsUS/status/10421...  \n",
       "278  https://twitter.com/jota_ele_ene/status/104267...  \n",
       "274  https://twitter.com/AitorGoy/status/1042674734...  "
      ]
     },
     "metadata": {},
     "output_type": "display_data"
    },
    {
     "data": {
      "text/html": [
       "<blockquote class=\"twitter-tweet\"><p lang=\"en\" dir=\"ltr\">Samsung and <a href=\"https://twitter.com/telefonica_de?ref_src=twsrc%5Etfw\">@Telefonica_De</a> to collaborate on a <a href=\"https://twitter.com/hashtag/5G?src=hash&amp;ref_src=twsrc%5Etfw\">#5G</a> fixed wireless access in Germany <a href=\"https://t.co/QEMYwci42f\">https://t.co/QEMYwci42f</a></p>&mdash; Samsung US Newsroom (@SamsungNewsUS) <a href=\"https://twitter.com/SamsungNewsUS/status/1042112265745571841?ref_src=twsrc%5Etfw\">September 18, 2018</a></blockquote>\n",
       "<script async src=\"https://platform.twitter.com/widgets.js\" charset=\"utf-8\"></script>\n"
      ],
      "text/plain": [
       "<__main__.Tweet at 0x10f442518>"
      ]
     },
     "metadata": {},
     "output_type": "display_data"
    },
    {
     "data": {
      "text/html": [
       "<blockquote class=\"twitter-tweet\"><p lang=\"en\" dir=\"ltr\">Here we are .... <a href=\"https://twitter.com/hashtag/WeAreWayra?src=hash&amp;ref_src=twsrc%5Etfw\">#WeAreWayra</a> <a href=\"https://t.co/pS9XQiqtKt\">https://t.co/pS9XQiqtKt</a></p>&mdash; José Luis Núñez (@jota_ele_ene) <a href=\"https://twitter.com/jota_ele_ene/status/1042670250167336960?ref_src=twsrc%5Etfw\">September 20, 2018</a></blockquote>\n",
       "<script async src=\"https://platform.twitter.com/widgets.js\" charset=\"utf-8\"></script>\n"
      ],
      "text/plain": [
       "<__main__.Tweet at 0x10f485080>"
      ]
     },
     "metadata": {},
     "output_type": "display_data"
    },
    {
     "data": {
      "text/html": [
       "<blockquote class=\"twitter-tweet\"><p lang=\"en\" dir=\"ltr\">Wayra is back 💪🏻 <a href=\"https://t.co/D7s2W3xPz2\">https://t.co/D7s2W3xPz2</a></p>&mdash; Aitor Goyenechea (@AitorGoy) <a href=\"https://twitter.com/AitorGoy/status/1042674734402551808?ref_src=twsrc%5Etfw\">September 20, 2018</a></blockquote>\n",
       "<script async src=\"https://platform.twitter.com/widgets.js\" charset=\"utf-8\"></script>\n"
      ],
      "text/plain": [
       "<__main__.Tweet at 0x10e6fc208>"
      ]
     },
     "metadata": {},
     "output_type": "display_data"
    }
   ],
   "source": [
    "from IPython.display import Image\n",
    "from IPython.core.display import HTML \n",
    "\n",
    "s = f\"\"\"<h3>Los tweets mas neutros son : </h3>\"\"\"\n",
    "display(HTML(s))\n",
    "\n",
    "# Cogemos los valores mas positivos\n",
    "minitabla = df.sort_values(by=['neu'],ascending = False ).head(3)[[\"compound\" ,\"neg\" ,\"neu\" ,\"pos\" ,\"tweet\", \"link\"]]\n",
    "\n",
    "display(minitabla)\n",
    "\n",
    "for (i, fila) in minitabla.iterrows() : \n",
    "    display(Tweet(fila.link)) \n",
    "\n"
   ]
  },
  {
   "cell_type": "code",
   "execution_count": 14,
   "metadata": {
    "scrolled": false
   },
   "outputs": [
    {
     "data": {
      "text/html": [
       "<h3>Los tweet con mas retweets : </h3>"
      ],
      "text/plain": [
       "<IPython.core.display.HTML object>"
      ]
     },
     "metadata": {},
     "output_type": "display_data"
    },
    {
     "data": {
      "text/html": [
       "<div>\n",
       "<style scoped>\n",
       "    .dataframe tbody tr th:only-of-type {\n",
       "        vertical-align: middle;\n",
       "    }\n",
       "\n",
       "    .dataframe tbody tr th {\n",
       "        vertical-align: top;\n",
       "    }\n",
       "\n",
       "    .dataframe thead th {\n",
       "        text-align: right;\n",
       "    }\n",
       "</style>\n",
       "<table border=\"1\" class=\"dataframe\">\n",
       "  <thead>\n",
       "    <tr style=\"text-align: right;\">\n",
       "      <th></th>\n",
       "      <th>compound</th>\n",
       "      <th>neg</th>\n",
       "      <th>neu</th>\n",
       "      <th>pos</th>\n",
       "      <th>favorites</th>\n",
       "      <th>retweets</th>\n",
       "      <th>tweet</th>\n",
       "      <th>link</th>\n",
       "    </tr>\n",
       "  </thead>\n",
       "  <tbody>\n",
       "    <tr>\n",
       "      <th>111</th>\n",
       "      <td>0.6467</td>\n",
       "      <td>0.000</td>\n",
       "      <td>0.878</td>\n",
       "      <td>0.122</td>\n",
       "      <td>40</td>\n",
       "      <td>18</td>\n",
       "      <td>We hosted our first @Vensy_UK event “Finding t...</td>\n",
       "      <td>https://twitter.com/RodneyJohnson_/status/1042...</td>\n",
       "    </tr>\n",
       "    <tr>\n",
       "      <th>522</th>\n",
       "      <td>0.6114</td>\n",
       "      <td>0.000</td>\n",
       "      <td>0.871</td>\n",
       "      <td>0.129</td>\n",
       "      <td>19</td>\n",
       "      <td>13</td>\n",
       "      <td>We are happy to announce that @chemaalonso, Ch...</td>\n",
       "      <td>https://twitter.com/BigDataSpain/status/104053...</td>\n",
       "    </tr>\n",
       "    <tr>\n",
       "      <th>394</th>\n",
       "      <td>0.0000</td>\n",
       "      <td>0.000</td>\n",
       "      <td>1.000</td>\n",
       "      <td>0.000</td>\n",
       "      <td>78</td>\n",
       "      <td>11</td>\n",
       "      <td>Delivering #5G Fixed Wireless Access in German...</td>\n",
       "      <td>https://twitter.com/Samsung/status/10419611367...</td>\n",
       "    </tr>\n",
       "    <tr>\n",
       "      <th>423</th>\n",
       "      <td>0.5574</td>\n",
       "      <td>0.043</td>\n",
       "      <td>0.809</td>\n",
       "      <td>0.147</td>\n",
       "      <td>5</td>\n",
       "      <td>10</td>\n",
       "      <td>The Cognitive Contact Center, led by everis an...</td>\n",
       "      <td>https://twitter.com/everis_en/status/104170585...</td>\n",
       "    </tr>\n",
       "    <tr>\n",
       "      <th>274</th>\n",
       "      <td>0.0000</td>\n",
       "      <td>0.000</td>\n",
       "      <td>1.000</td>\n",
       "      <td>0.000</td>\n",
       "      <td>25</td>\n",
       "      <td>10</td>\n",
       "      <td>Wayra is back 💪🏻 https://t.co/D7s2W3xPz2</td>\n",
       "      <td>https://twitter.com/AitorGoy/status/1042674734...</td>\n",
       "    </tr>\n",
       "  </tbody>\n",
       "</table>\n",
       "</div>"
      ],
      "text/plain": [
       "     compound    neg    neu    pos  favorites  retweets  \\\n",
       "111    0.6467  0.000  0.878  0.122         40        18   \n",
       "522    0.6114  0.000  0.871  0.129         19        13   \n",
       "394    0.0000  0.000  1.000  0.000         78        11   \n",
       "423    0.5574  0.043  0.809  0.147          5        10   \n",
       "274    0.0000  0.000  1.000  0.000         25        10   \n",
       "\n",
       "                                                 tweet  \\\n",
       "111  We hosted our first @Vensy_UK event “Finding t...   \n",
       "522  We are happy to announce that @chemaalonso, Ch...   \n",
       "394  Delivering #5G Fixed Wireless Access in German...   \n",
       "423  The Cognitive Contact Center, led by everis an...   \n",
       "274           Wayra is back 💪🏻 https://t.co/D7s2W3xPz2   \n",
       "\n",
       "                                                  link  \n",
       "111  https://twitter.com/RodneyJohnson_/status/1042...  \n",
       "522  https://twitter.com/BigDataSpain/status/104053...  \n",
       "394  https://twitter.com/Samsung/status/10419611367...  \n",
       "423  https://twitter.com/everis_en/status/104170585...  \n",
       "274  https://twitter.com/AitorGoy/status/1042674734...  "
      ]
     },
     "metadata": {},
     "output_type": "display_data"
    },
    {
     "data": {
      "text/html": [
       "<blockquote class=\"twitter-tweet\"><p lang=\"en\" dir=\"ltr\">We hosted our first <a href=\"https://twitter.com/Vensy_UK?ref_src=twsrc%5Etfw\">@Vensy_UK</a> event “Finding the Value in Influencer Marketing” in partnership w/<a href=\"https://twitter.com/Telefonica?ref_src=twsrc%5Etfw\">@Telefonica</a> &amp; <a href=\"https://twitter.com/DigitalSportUK?ref_src=twsrc%5Etfw\">@DigitalSportUK</a> <br><br>Side note: Which was SOLD OUT! Who would’ve thought 😜<br><br>P.S. Huge shout out to <a href=\"https://twitter.com/splento?ref_src=twsrc%5Etfw\">@splento</a> for the photos! <a href=\"https://t.co/w2RFcThO90\">pic.twitter.com/w2RFcThO90</a></p>&mdash; R.J. (@RodneyJohnson_) <a href=\"https://twitter.com/RodneyJohnson_/status/1042804559167545355?ref_src=twsrc%5Etfw\">September 20, 2018</a></blockquote>\n",
       "<script async src=\"https://platform.twitter.com/widgets.js\" charset=\"utf-8\"></script>\n"
      ],
      "text/plain": [
       "<__main__.Tweet at 0x10e8b1358>"
      ]
     },
     "metadata": {},
     "output_type": "display_data"
    },
    {
     "data": {
      "text/html": [
       "<blockquote class=\"twitter-tweet\"><p lang=\"en\" dir=\"ltr\">We are happy to announce that <a href=\"https://twitter.com/chemaalonso?ref_src=twsrc%5Etfw\">@chemaalonso</a>, Chief Data Officer at <a href=\"https://twitter.com/Telefonica?ref_src=twsrc%5Etfw\">@Telefonica</a>, will be one of our featured speakers at <a href=\"https://twitter.com/hashtag/BDS18?src=hash&amp;ref_src=twsrc%5Etfw\">#BDS18</a>. Discover everything about <a href=\"https://twitter.com/hashtag/BigData?src=hash&amp;ref_src=twsrc%5Etfw\">#BigData</a> <a href=\"https://twitter.com/hashtag/AI?src=hash&amp;ref_src=twsrc%5Etfw\">#AI</a> and <a href=\"https://twitter.com/hashtag/CognitiveIntelligence?src=hash&amp;ref_src=twsrc%5Etfw\">#CognitiveIntelligence</a>!</p>&mdash; Big Data Spain (@BigDataSpain) <a href=\"https://twitter.com/BigDataSpain/status/1040531257929748480?ref_src=twsrc%5Etfw\">September 14, 2018</a></blockquote>\n",
       "<script async src=\"https://platform.twitter.com/widgets.js\" charset=\"utf-8\"></script>\n"
      ],
      "text/plain": [
       "<__main__.Tweet at 0x10a4d7c18>"
      ]
     },
     "metadata": {},
     "output_type": "display_data"
    },
    {
     "data": {
      "text/html": [
       "<blockquote class=\"twitter-tweet\"><p lang=\"en\" dir=\"ltr\">Delivering <a href=\"https://twitter.com/hashtag/5G?src=hash&amp;ref_src=twsrc%5Etfw\">#5G</a> Fixed Wireless Access in Germany to bring Giga-speed broadband and offer a viable alternative where fiber deployment is not feasible – with <a href=\"https://twitter.com/hashtag/TelefonicaDeutschland?src=hash&amp;ref_src=twsrc%5Etfw\">#TelefonicaDeutschland</a><a href=\"https://t.co/ck8TwPfXBQ\">https://t.co/ck8TwPfXBQ</a></p>&mdash; Samsung Electronics (@Samsung) <a href=\"https://twitter.com/Samsung/status/1041961136734662656?ref_src=twsrc%5Etfw\">September 18, 2018</a></blockquote>\n",
       "<script async src=\"https://platform.twitter.com/widgets.js\" charset=\"utf-8\"></script>\n"
      ],
      "text/plain": [
       "<__main__.Tweet at 0x10e8b1358>"
      ]
     },
     "metadata": {},
     "output_type": "display_data"
    },
    {
     "data": {
      "text/html": [
       "<blockquote class=\"twitter-tweet\"><p lang=\"en\" dir=\"ltr\">The Cognitive Contact Center, led by everis and championed by Telefónica, marks a turning point for cutting contact center costs and increasing customer satisfaction. Learn more via <a href=\"https://twitter.com/tmforumorg?ref_src=twsrc%5Etfw\">@tmforumorg</a> <a href=\"https://t.co/uTImfk0TpB\">https://t.co/uTImfk0TpB</a> <a href=\"https://twitter.com/hashtag/AI?src=hash&amp;ref_src=twsrc%5Etfw\">#AI</a> <a href=\"https://twitter.com/hashtag/voicerecognition?src=hash&amp;ref_src=twsrc%5Etfw\">#voicerecognition</a> <a href=\"https://t.co/VrNSG00K6A\">pic.twitter.com/VrNSG00K6A</a></p>&mdash; everis (English) (@everis_en) <a href=\"https://twitter.com/everis_en/status/1041705850673528833?ref_src=twsrc%5Etfw\">September 17, 2018</a></blockquote>\n",
       "<script async src=\"https://platform.twitter.com/widgets.js\" charset=\"utf-8\"></script>\n"
      ],
      "text/plain": [
       "<__main__.Tweet at 0x10eb01ef0>"
      ]
     },
     "metadata": {},
     "output_type": "display_data"
    },
    {
     "data": {
      "text/html": [
       "<blockquote class=\"twitter-tweet\"><p lang=\"en\" dir=\"ltr\">Wayra is back 💪🏻 <a href=\"https://t.co/D7s2W3xPz2\">https://t.co/D7s2W3xPz2</a></p>&mdash; Aitor Goyenechea (@AitorGoy) <a href=\"https://twitter.com/AitorGoy/status/1042674734402551808?ref_src=twsrc%5Etfw\">September 20, 2018</a></blockquote>\n",
       "<script async src=\"https://platform.twitter.com/widgets.js\" charset=\"utf-8\"></script>\n"
      ],
      "text/plain": [
       "<__main__.Tweet at 0x10e8b1358>"
      ]
     },
     "metadata": {},
     "output_type": "display_data"
    }
   ],
   "source": [
    "from IPython.display import Image\n",
    "from IPython.core.display import HTML \n",
    "\n",
    "s = f\"\"\"<h3>Los tweet con mas retweets : </h3>\"\"\"\n",
    "display(HTML(s))\n",
    "\n",
    "# Cogemos los valores mas positivos\n",
    "minitabla = df.sort_values(by=['retweets'],ascending = False ).head(5)[[\"compound\" ,\"neg\" ,\"neu\" ,\"pos\" ,\"favorites\",\"retweets\",\"tweet\", \"link\"]]\n",
    "\n",
    "\n",
    "display(minitabla)\n",
    "\n",
    "for (i, fila) in minitabla.iterrows() : \n",
    "    display(Tweet(fila.link)) \n"
   ]
  },
  {
   "cell_type": "code",
   "execution_count": 15,
   "metadata": {
    "scrolled": false
   },
   "outputs": [
    {
     "data": {
      "text/html": [
       "<h3>Los tweet con mas favorite_count : </h3>"
      ],
      "text/plain": [
       "<IPython.core.display.HTML object>"
      ]
     },
     "metadata": {},
     "output_type": "display_data"
    },
    {
     "data": {
      "text/html": [
       "<div>\n",
       "<style scoped>\n",
       "    .dataframe tbody tr th:only-of-type {\n",
       "        vertical-align: middle;\n",
       "    }\n",
       "\n",
       "    .dataframe tbody tr th {\n",
       "        vertical-align: top;\n",
       "    }\n",
       "\n",
       "    .dataframe thead th {\n",
       "        text-align: right;\n",
       "    }\n",
       "</style>\n",
       "<table border=\"1\" class=\"dataframe\">\n",
       "  <thead>\n",
       "    <tr style=\"text-align: right;\">\n",
       "      <th></th>\n",
       "      <th>compound</th>\n",
       "      <th>neg</th>\n",
       "      <th>neu</th>\n",
       "      <th>pos</th>\n",
       "      <th>favorites</th>\n",
       "      <th>retweets</th>\n",
       "      <th>tweet</th>\n",
       "      <th>link</th>\n",
       "    </tr>\n",
       "  </thead>\n",
       "  <tbody>\n",
       "    <tr>\n",
       "      <th>616</th>\n",
       "      <td>0.0000</td>\n",
       "      <td>0.0</td>\n",
       "      <td>1.000</td>\n",
       "      <td>0.000</td>\n",
       "      <td>88</td>\n",
       "      <td>9</td>\n",
       "      <td>I’m here at the @Apple's Steve Jobs Theatre wi...</td>\n",
       "      <td>https://twitter.com/MarkEvansO2/status/1039911...</td>\n",
       "    </tr>\n",
       "    <tr>\n",
       "      <th>394</th>\n",
       "      <td>0.0000</td>\n",
       "      <td>0.0</td>\n",
       "      <td>1.000</td>\n",
       "      <td>0.000</td>\n",
       "      <td>78</td>\n",
       "      <td>11</td>\n",
       "      <td>Delivering #5G Fixed Wireless Access in German...</td>\n",
       "      <td>https://twitter.com/Samsung/status/10419611367...</td>\n",
       "    </tr>\n",
       "    <tr>\n",
       "      <th>111</th>\n",
       "      <td>0.6467</td>\n",
       "      <td>0.0</td>\n",
       "      <td>0.878</td>\n",
       "      <td>0.122</td>\n",
       "      <td>40</td>\n",
       "      <td>18</td>\n",
       "      <td>We hosted our first @Vensy_UK event “Finding t...</td>\n",
       "      <td>https://twitter.com/RodneyJohnson_/status/1042...</td>\n",
       "    </tr>\n",
       "    <tr>\n",
       "      <th>413</th>\n",
       "      <td>0.7424</td>\n",
       "      <td>0.0</td>\n",
       "      <td>0.712</td>\n",
       "      <td>0.288</td>\n",
       "      <td>28</td>\n",
       "      <td>5</td>\n",
       "      <td>Drum roll... and the #HRMI18 number one HR pra...</td>\n",
       "      <td>https://twitter.com/hrmagazine/status/10417566...</td>\n",
       "    </tr>\n",
       "    <tr>\n",
       "      <th>274</th>\n",
       "      <td>0.0000</td>\n",
       "      <td>0.0</td>\n",
       "      <td>1.000</td>\n",
       "      <td>0.000</td>\n",
       "      <td>25</td>\n",
       "      <td>10</td>\n",
       "      <td>Wayra is back 💪🏻 https://t.co/D7s2W3xPz2</td>\n",
       "      <td>https://twitter.com/AitorGoy/status/1042674734...</td>\n",
       "    </tr>\n",
       "  </tbody>\n",
       "</table>\n",
       "</div>"
      ],
      "text/plain": [
       "     compound  neg    neu    pos  favorites  retweets  \\\n",
       "616    0.0000  0.0  1.000  0.000         88         9   \n",
       "394    0.0000  0.0  1.000  0.000         78        11   \n",
       "111    0.6467  0.0  0.878  0.122         40        18   \n",
       "413    0.7424  0.0  0.712  0.288         28         5   \n",
       "274    0.0000  0.0  1.000  0.000         25        10   \n",
       "\n",
       "                                                 tweet  \\\n",
       "616  I’m here at the @Apple's Steve Jobs Theatre wi...   \n",
       "394  Delivering #5G Fixed Wireless Access in German...   \n",
       "111  We hosted our first @Vensy_UK event “Finding t...   \n",
       "413  Drum roll... and the #HRMI18 number one HR pra...   \n",
       "274           Wayra is back 💪🏻 https://t.co/D7s2W3xPz2   \n",
       "\n",
       "                                                  link  \n",
       "616  https://twitter.com/MarkEvansO2/status/1039911...  \n",
       "394  https://twitter.com/Samsung/status/10419611367...  \n",
       "111  https://twitter.com/RodneyJohnson_/status/1042...  \n",
       "413  https://twitter.com/hrmagazine/status/10417566...  \n",
       "274  https://twitter.com/AitorGoy/status/1042674734...  "
      ]
     },
     "metadata": {},
     "output_type": "display_data"
    },
    {
     "data": {
      "text/html": [
       "<blockquote class=\"twitter-tweet\"><p lang=\"en\" dir=\"ltr\">I’m here at the <a href=\"https://twitter.com/Apple?ref_src=twsrc%5Etfw\">@Apple</a>&#39;s Steve Jobs Theatre with the <a href=\"https://twitter.com/Telefonica?ref_src=twsrc%5Etfw\">@Telefonica</a> team. Can’t wait to see what they have in store for us today. <a href=\"https://twitter.com/hashtag/AppleEvent?src=hash&amp;ref_src=twsrc%5Etfw\">#AppleEvent</a> <a href=\"https://t.co/XmjhAV3FEP\">pic.twitter.com/XmjhAV3FEP</a></p>&mdash; Mark Evans (@MarkEvansO2) <a href=\"https://twitter.com/MarkEvansO2/status/1039911094054256643?ref_src=twsrc%5Etfw\">September 12, 2018</a></blockquote>\n",
       "<script async src=\"https://platform.twitter.com/widgets.js\" charset=\"utf-8\"></script>\n"
      ],
      "text/plain": [
       "<__main__.Tweet at 0x10f48f4a8>"
      ]
     },
     "metadata": {},
     "output_type": "display_data"
    },
    {
     "data": {
      "text/html": [
       "<blockquote class=\"twitter-tweet\"><p lang=\"en\" dir=\"ltr\">Delivering <a href=\"https://twitter.com/hashtag/5G?src=hash&amp;ref_src=twsrc%5Etfw\">#5G</a> Fixed Wireless Access in Germany to bring Giga-speed broadband and offer a viable alternative where fiber deployment is not feasible – with <a href=\"https://twitter.com/hashtag/TelefonicaDeutschland?src=hash&amp;ref_src=twsrc%5Etfw\">#TelefonicaDeutschland</a><a href=\"https://t.co/ck8TwPfXBQ\">https://t.co/ck8TwPfXBQ</a></p>&mdash; Samsung Electronics (@Samsung) <a href=\"https://twitter.com/Samsung/status/1041961136734662656?ref_src=twsrc%5Etfw\">September 18, 2018</a></blockquote>\n",
       "<script async src=\"https://platform.twitter.com/widgets.js\" charset=\"utf-8\"></script>\n"
      ],
      "text/plain": [
       "<__main__.Tweet at 0x10e6fc208>"
      ]
     },
     "metadata": {},
     "output_type": "display_data"
    },
    {
     "data": {
      "text/html": [
       "<blockquote class=\"twitter-tweet\"><p lang=\"en\" dir=\"ltr\">We hosted our first <a href=\"https://twitter.com/Vensy_UK?ref_src=twsrc%5Etfw\">@Vensy_UK</a> event “Finding the Value in Influencer Marketing” in partnership w/<a href=\"https://twitter.com/Telefonica?ref_src=twsrc%5Etfw\">@Telefonica</a> &amp; <a href=\"https://twitter.com/DigitalSportUK?ref_src=twsrc%5Etfw\">@DigitalSportUK</a> <br><br>Side note: Which was SOLD OUT! Who would’ve thought 😜<br><br>P.S. Huge shout out to <a href=\"https://twitter.com/splento?ref_src=twsrc%5Etfw\">@splento</a> for the photos! <a href=\"https://t.co/w2RFcThO90\">pic.twitter.com/w2RFcThO90</a></p>&mdash; R.J. (@RodneyJohnson_) <a href=\"https://twitter.com/RodneyJohnson_/status/1042804559167545355?ref_src=twsrc%5Etfw\">September 20, 2018</a></blockquote>\n",
       "<script async src=\"https://platform.twitter.com/widgets.js\" charset=\"utf-8\"></script>\n"
      ],
      "text/plain": [
       "<__main__.Tweet at 0x109c1dfd0>"
      ]
     },
     "metadata": {},
     "output_type": "display_data"
    },
    {
     "data": {
      "text/html": [
       "<blockquote class=\"twitter-tweet\"><p lang=\"en\" dir=\"ltr\">Drum roll... and the <a href=\"https://twitter.com/hashtag/HRMI18?src=hash&amp;ref_src=twsrc%5Etfw\">#HRMI18</a> number one HR practitioner is... Telefonica UK&#39;s HR director Ann Pickering! Huge congrats to <a href=\"https://twitter.com/AnnPickeringo2?ref_src=twsrc%5Etfw\">@AnnPickeringo2</a> <a href=\"https://t.co/3rWV74n14p\">pic.twitter.com/3rWV74n14p</a></p>&mdash; HR magazine (@hrmagazine) <a href=\"https://twitter.com/hrmagazine/status/1041756604297818112?ref_src=twsrc%5Etfw\">September 17, 2018</a></blockquote>\n",
       "<script async src=\"https://platform.twitter.com/widgets.js\" charset=\"utf-8\"></script>\n"
      ],
      "text/plain": [
       "<__main__.Tweet at 0x10e6fc208>"
      ]
     },
     "metadata": {},
     "output_type": "display_data"
    },
    {
     "data": {
      "text/html": [
       "<blockquote class=\"twitter-tweet\"><p lang=\"en\" dir=\"ltr\">Wayra is back 💪🏻 <a href=\"https://t.co/D7s2W3xPz2\">https://t.co/D7s2W3xPz2</a></p>&mdash; Aitor Goyenechea (@AitorGoy) <a href=\"https://twitter.com/AitorGoy/status/1042674734402551808?ref_src=twsrc%5Etfw\">September 20, 2018</a></blockquote>\n",
       "<script async src=\"https://platform.twitter.com/widgets.js\" charset=\"utf-8\"></script>\n"
      ],
      "text/plain": [
       "<__main__.Tweet at 0x109c1dfd0>"
      ]
     },
     "metadata": {},
     "output_type": "display_data"
    }
   ],
   "source": [
    "from IPython.display import Image\n",
    "from IPython.core.display import HTML \n",
    "\n",
    "s = f\"\"\"<h3>Los tweet con mas favorite_count : </h3>\"\"\"\n",
    "display(HTML(s))\n",
    "# Cogemos los valores mas positivos\n",
    "minitabla = df.sort_values(by=['favorites'],ascending = False ).head()[[\"compound\" ,\"neg\" ,\"neu\" ,\"pos\" ,\"favorites\",\"retweets\",\"tweet\", \"link\"]]\n",
    "\n",
    "display(minitabla)\n",
    "\n",
    "for (i, fila) in minitabla.iterrows() : \n",
    "    display(Tweet(fila.link))\n",
    "    \n",
    "    "
   ]
  },
  {
   "cell_type": "code",
   "execution_count": 16,
   "metadata": {
    "scrolled": true
   },
   "outputs": [
    {
     "data": {
      "text/html": [
       "<h3>Los tweet con mas favoritos : </h3>"
      ],
      "text/plain": [
       "<IPython.core.display.HTML object>"
      ]
     },
     "metadata": {},
     "output_type": "display_data"
    },
    {
     "data": {
      "text/html": [
       "<div>\n",
       "<style scoped>\n",
       "    .dataframe tbody tr th:only-of-type {\n",
       "        vertical-align: middle;\n",
       "    }\n",
       "\n",
       "    .dataframe tbody tr th {\n",
       "        vertical-align: top;\n",
       "    }\n",
       "\n",
       "    .dataframe thead th {\n",
       "        text-align: right;\n",
       "    }\n",
       "</style>\n",
       "<table border=\"1\" class=\"dataframe\">\n",
       "  <thead>\n",
       "    <tr style=\"text-align: right;\">\n",
       "      <th></th>\n",
       "      <th>compound</th>\n",
       "      <th>neg</th>\n",
       "      <th>neu</th>\n",
       "      <th>pos</th>\n",
       "      <th>favorites</th>\n",
       "      <th>tweet</th>\n",
       "      <th>link</th>\n",
       "    </tr>\n",
       "  </thead>\n",
       "  <tbody>\n",
       "    <tr>\n",
       "      <th>616</th>\n",
       "      <td>0.0000</td>\n",
       "      <td>0.000</td>\n",
       "      <td>1.000</td>\n",
       "      <td>0.000</td>\n",
       "      <td>88</td>\n",
       "      <td>I’m here at the @Apple's Steve Jobs Theatre wi...</td>\n",
       "      <td>https://twitter.com/MarkEvansO2/status/1039911...</td>\n",
       "    </tr>\n",
       "    <tr>\n",
       "      <th>394</th>\n",
       "      <td>0.0000</td>\n",
       "      <td>0.000</td>\n",
       "      <td>1.000</td>\n",
       "      <td>0.000</td>\n",
       "      <td>78</td>\n",
       "      <td>Delivering #5G Fixed Wireless Access in German...</td>\n",
       "      <td>https://twitter.com/Samsung/status/10419611367...</td>\n",
       "    </tr>\n",
       "    <tr>\n",
       "      <th>111</th>\n",
       "      <td>0.6467</td>\n",
       "      <td>0.000</td>\n",
       "      <td>0.878</td>\n",
       "      <td>0.122</td>\n",
       "      <td>40</td>\n",
       "      <td>We hosted our first @Vensy_UK event “Finding t...</td>\n",
       "      <td>https://twitter.com/RodneyJohnson_/status/1042...</td>\n",
       "    </tr>\n",
       "    <tr>\n",
       "      <th>413</th>\n",
       "      <td>0.7424</td>\n",
       "      <td>0.000</td>\n",
       "      <td>0.712</td>\n",
       "      <td>0.288</td>\n",
       "      <td>28</td>\n",
       "      <td>Drum roll... and the #HRMI18 number one HR pra...</td>\n",
       "      <td>https://twitter.com/hrmagazine/status/10417566...</td>\n",
       "    </tr>\n",
       "    <tr>\n",
       "      <th>274</th>\n",
       "      <td>0.0000</td>\n",
       "      <td>0.000</td>\n",
       "      <td>1.000</td>\n",
       "      <td>0.000</td>\n",
       "      <td>25</td>\n",
       "      <td>Wayra is back 💪🏻 https://t.co/D7s2W3xPz2</td>\n",
       "      <td>https://twitter.com/AitorGoy/status/1042674734...</td>\n",
       "    </tr>\n",
       "    <tr>\n",
       "      <th>267</th>\n",
       "      <td>0.0000</td>\n",
       "      <td>0.000</td>\n",
       "      <td>1.000</td>\n",
       "      <td>0.000</td>\n",
       "      <td>20</td>\n",
       "      <td>Wayra is backn#wearewayra @wayra @wayraes @Tel...</td>\n",
       "      <td>https://twitter.com/RebecaRenedo/status/104268...</td>\n",
       "    </tr>\n",
       "    <tr>\n",
       "      <th>233</th>\n",
       "      <td>0.0000</td>\n",
       "      <td>0.000</td>\n",
       "      <td>1.000</td>\n",
       "      <td>0.000</td>\n",
       "      <td>19</td>\n",
       "      <td>It's a family thing - #WeAreWayra 💥👯\\n\\n@Wayra...</td>\n",
       "      <td>https://twitter.com/WayraDE/status/10427208804...</td>\n",
       "    </tr>\n",
       "    <tr>\n",
       "      <th>522</th>\n",
       "      <td>0.6114</td>\n",
       "      <td>0.000</td>\n",
       "      <td>0.871</td>\n",
       "      <td>0.129</td>\n",
       "      <td>19</td>\n",
       "      <td>We are happy to announce that @chemaalonso, Ch...</td>\n",
       "      <td>https://twitter.com/BigDataSpain/status/104053...</td>\n",
       "    </tr>\n",
       "    <tr>\n",
       "      <th>296</th>\n",
       "      <td>0.3612</td>\n",
       "      <td>0.000</td>\n",
       "      <td>0.878</td>\n",
       "      <td>0.122</td>\n",
       "      <td>17</td>\n",
       "      <td>Something big is about to happen. Get ready fo...</td>\n",
       "      <td>https://twitter.com/Telefonica/status/10424711...</td>\n",
       "    </tr>\n",
       "    <tr>\n",
       "      <th>250</th>\n",
       "      <td>0.5574</td>\n",
       "      <td>0.062</td>\n",
       "      <td>0.788</td>\n",
       "      <td>0.150</td>\n",
       "      <td>16</td>\n",
       "      <td>Full house @Telefonica Auditorium. Media, coll...</td>\n",
       "      <td>https://twitter.com/WayraDE/status/10427034643...</td>\n",
       "    </tr>\n",
       "  </tbody>\n",
       "</table>\n",
       "</div>"
      ],
      "text/plain": [
       "     compound    neg    neu    pos  favorites  \\\n",
       "616    0.0000  0.000  1.000  0.000         88   \n",
       "394    0.0000  0.000  1.000  0.000         78   \n",
       "111    0.6467  0.000  0.878  0.122         40   \n",
       "413    0.7424  0.000  0.712  0.288         28   \n",
       "274    0.0000  0.000  1.000  0.000         25   \n",
       "267    0.0000  0.000  1.000  0.000         20   \n",
       "233    0.0000  0.000  1.000  0.000         19   \n",
       "522    0.6114  0.000  0.871  0.129         19   \n",
       "296    0.3612  0.000  0.878  0.122         17   \n",
       "250    0.5574  0.062  0.788  0.150         16   \n",
       "\n",
       "                                                 tweet  \\\n",
       "616  I’m here at the @Apple's Steve Jobs Theatre wi...   \n",
       "394  Delivering #5G Fixed Wireless Access in German...   \n",
       "111  We hosted our first @Vensy_UK event “Finding t...   \n",
       "413  Drum roll... and the #HRMI18 number one HR pra...   \n",
       "274           Wayra is back 💪🏻 https://t.co/D7s2W3xPz2   \n",
       "267  Wayra is backn#wearewayra @wayra @wayraes @Tel...   \n",
       "233  It's a family thing - #WeAreWayra 💥👯\\n\\n@Wayra...   \n",
       "522  We are happy to announce that @chemaalonso, Ch...   \n",
       "296  Something big is about to happen. Get ready fo...   \n",
       "250  Full house @Telefonica Auditorium. Media, coll...   \n",
       "\n",
       "                                                  link  \n",
       "616  https://twitter.com/MarkEvansO2/status/1039911...  \n",
       "394  https://twitter.com/Samsung/status/10419611367...  \n",
       "111  https://twitter.com/RodneyJohnson_/status/1042...  \n",
       "413  https://twitter.com/hrmagazine/status/10417566...  \n",
       "274  https://twitter.com/AitorGoy/status/1042674734...  \n",
       "267  https://twitter.com/RebecaRenedo/status/104268...  \n",
       "233  https://twitter.com/WayraDE/status/10427208804...  \n",
       "522  https://twitter.com/BigDataSpain/status/104053...  \n",
       "296  https://twitter.com/Telefonica/status/10424711...  \n",
       "250  https://twitter.com/WayraDE/status/10427034643...  "
      ]
     },
     "metadata": {},
     "output_type": "display_data"
    },
    {
     "data": {
      "text/html": [
       "<blockquote class=\"twitter-tweet\"><p lang=\"en\" dir=\"ltr\">I’m here at the <a href=\"https://twitter.com/Apple?ref_src=twsrc%5Etfw\">@Apple</a>&#39;s Steve Jobs Theatre with the <a href=\"https://twitter.com/Telefonica?ref_src=twsrc%5Etfw\">@Telefonica</a> team. Can’t wait to see what they have in store for us today. <a href=\"https://twitter.com/hashtag/AppleEvent?src=hash&amp;ref_src=twsrc%5Etfw\">#AppleEvent</a> <a href=\"https://t.co/XmjhAV3FEP\">pic.twitter.com/XmjhAV3FEP</a></p>&mdash; Mark Evans (@MarkEvansO2) <a href=\"https://twitter.com/MarkEvansO2/status/1039911094054256643?ref_src=twsrc%5Etfw\">September 12, 2018</a></blockquote>\n",
       "<script async src=\"https://platform.twitter.com/widgets.js\" charset=\"utf-8\"></script>\n"
      ],
      "text/plain": [
       "<__main__.Tweet at 0x10e6fc208>"
      ]
     },
     "metadata": {},
     "output_type": "display_data"
    },
    {
     "data": {
      "text/html": [
       "<blockquote class=\"twitter-tweet\"><p lang=\"en\" dir=\"ltr\">Delivering <a href=\"https://twitter.com/hashtag/5G?src=hash&amp;ref_src=twsrc%5Etfw\">#5G</a> Fixed Wireless Access in Germany to bring Giga-speed broadband and offer a viable alternative where fiber deployment is not feasible – with <a href=\"https://twitter.com/hashtag/TelefonicaDeutschland?src=hash&amp;ref_src=twsrc%5Etfw\">#TelefonicaDeutschland</a><a href=\"https://t.co/ck8TwPfXBQ\">https://t.co/ck8TwPfXBQ</a></p>&mdash; Samsung Electronics (@Samsung) <a href=\"https://twitter.com/Samsung/status/1041961136734662656?ref_src=twsrc%5Etfw\">September 18, 2018</a></blockquote>\n",
       "<script async src=\"https://platform.twitter.com/widgets.js\" charset=\"utf-8\"></script>\n"
      ],
      "text/plain": [
       "<__main__.Tweet at 0x10f48fdd8>"
      ]
     },
     "metadata": {},
     "output_type": "display_data"
    },
    {
     "data": {
      "text/html": [
       "<blockquote class=\"twitter-tweet\"><p lang=\"en\" dir=\"ltr\">We hosted our first <a href=\"https://twitter.com/Vensy_UK?ref_src=twsrc%5Etfw\">@Vensy_UK</a> event “Finding the Value in Influencer Marketing” in partnership w/<a href=\"https://twitter.com/Telefonica?ref_src=twsrc%5Etfw\">@Telefonica</a> &amp; <a href=\"https://twitter.com/DigitalSportUK?ref_src=twsrc%5Etfw\">@DigitalSportUK</a> <br><br>Side note: Which was SOLD OUT! Who would’ve thought 😜<br><br>P.S. Huge shout out to <a href=\"https://twitter.com/splento?ref_src=twsrc%5Etfw\">@splento</a> for the photos! <a href=\"https://t.co/w2RFcThO90\">pic.twitter.com/w2RFcThO90</a></p>&mdash; R.J. (@RodneyJohnson_) <a href=\"https://twitter.com/RodneyJohnson_/status/1042804559167545355?ref_src=twsrc%5Etfw\">September 20, 2018</a></blockquote>\n",
       "<script async src=\"https://platform.twitter.com/widgets.js\" charset=\"utf-8\"></script>\n"
      ],
      "text/plain": [
       "<__main__.Tweet at 0x10e6fc208>"
      ]
     },
     "metadata": {},
     "output_type": "display_data"
    },
    {
     "data": {
      "text/html": [
       "<blockquote class=\"twitter-tweet\"><p lang=\"en\" dir=\"ltr\">Drum roll... and the <a href=\"https://twitter.com/hashtag/HRMI18?src=hash&amp;ref_src=twsrc%5Etfw\">#HRMI18</a> number one HR practitioner is... Telefonica UK&#39;s HR director Ann Pickering! Huge congrats to <a href=\"https://twitter.com/AnnPickeringo2?ref_src=twsrc%5Etfw\">@AnnPickeringo2</a> <a href=\"https://t.co/3rWV74n14p\">pic.twitter.com/3rWV74n14p</a></p>&mdash; HR magazine (@hrmagazine) <a href=\"https://twitter.com/hrmagazine/status/1041756604297818112?ref_src=twsrc%5Etfw\">September 17, 2018</a></blockquote>\n",
       "<script async src=\"https://platform.twitter.com/widgets.js\" charset=\"utf-8\"></script>\n"
      ],
      "text/plain": [
       "<__main__.Tweet at 0x10f48fdd8>"
      ]
     },
     "metadata": {},
     "output_type": "display_data"
    },
    {
     "data": {
      "text/html": [
       "<blockquote class=\"twitter-tweet\"><p lang=\"en\" dir=\"ltr\">Wayra is back 💪🏻 <a href=\"https://t.co/D7s2W3xPz2\">https://t.co/D7s2W3xPz2</a></p>&mdash; Aitor Goyenechea (@AitorGoy) <a href=\"https://twitter.com/AitorGoy/status/1042674734402551808?ref_src=twsrc%5Etfw\">September 20, 2018</a></blockquote>\n",
       "<script async src=\"https://platform.twitter.com/widgets.js\" charset=\"utf-8\"></script>\n"
      ],
      "text/plain": [
       "<__main__.Tweet at 0x10e6fc208>"
      ]
     },
     "metadata": {},
     "output_type": "display_data"
    },
    {
     "data": {
      "text/html": [
       "<blockquote class=\"twitter-tweet\"><p lang=\"en\" dir=\"ltr\">Wayra is backn#wearewayra <a href=\"https://twitter.com/Wayra?ref_src=twsrc%5Etfw\">@wayra</a> <a href=\"https://twitter.com/WayraES?ref_src=twsrc%5Etfw\">@wayraes</a> <a href=\"https://twitter.com/Telefonica?ref_src=twsrc%5Etfw\">@Telefonica</a> <a href=\"https://t.co/QGCQ8FLOum\">pic.twitter.com/QGCQ8FLOum</a></p>&mdash; Rebeca Renedo (@RebecaRenedo) <a href=\"https://twitter.com/RebecaRenedo/status/1042688858880659456?ref_src=twsrc%5Etfw\">September 20, 2018</a></blockquote>\n",
       "<script async src=\"https://platform.twitter.com/widgets.js\" charset=\"utf-8\"></script>\n"
      ],
      "text/plain": [
       "<__main__.Tweet at 0x10f48fdd8>"
      ]
     },
     "metadata": {},
     "output_type": "display_data"
    },
    {
     "data": {
      "text/html": [
       "<blockquote class=\"twitter-tweet\"><p lang=\"en\" dir=\"ltr\">It&#39;s a family thing - <a href=\"https://twitter.com/hashtag/WeAreWayra?src=hash&amp;ref_src=twsrc%5Etfw\">#WeAreWayra</a> 💥👯<a href=\"https://twitter.com/Wayra?ref_src=twsrc%5Etfw\">@Wayra</a> <a href=\"https://twitter.com/WayraUK?ref_src=twsrc%5Etfw\">@WayraUK</a> <a href=\"https://twitter.com/WayraBrasil?ref_src=twsrc%5Etfw\">@WayraBrasil</a> <a href=\"https://twitter.com/WayraES?ref_src=twsrc%5Etfw\">@WayraES</a> <a href=\"https://twitter.com/WayraChristian?ref_src=twsrc%5Etfw\">@WayraChristian</a> <a href=\"https://twitter.com/wayrachile?ref_src=twsrc%5Etfw\">@wayrachile</a> <a href=\"https://twitter.com/WayraVE?ref_src=twsrc%5Etfw\">@WayraVE</a> <a href=\"https://twitter.com/WayraAr?ref_src=twsrc%5Etfw\">@WayraAr</a> <a href=\"https://twitter.com/WayraBrasil?ref_src=twsrc%5Etfw\">@WayraBrasil</a> <a href=\"https://twitter.com/WayraCo?ref_src=twsrc%5Etfw\">@WayraCo</a> <a href=\"https://twitter.com/WayraMexico?ref_src=twsrc%5Etfw\">@WayraMexico</a> <a href=\"https://twitter.com/WayraPe?ref_src=twsrc%5Etfw\">@WayraPe</a> <a href=\"https://twitter.com/telefonica_de?ref_src=twsrc%5Etfw\">@telefonica_de</a> <a href=\"https://twitter.com/TelefonicaNEXT?ref_src=twsrc%5Etfw\">@TelefonicaNEXT</a> <a href=\"https://twitter.com/OpenFuture_?ref_src=twsrc%5Etfw\">@OpenFuture_</a> <a href=\"https://twitter.com/base_campberlin?ref_src=twsrc%5Etfw\">@base_campberlin</a> <a href=\"https://twitter.com/Telefonica?ref_src=twsrc%5Etfw\">@Telefonica</a> <a href=\"https://t.co/YOFEYRm9JD\">pic.twitter.com/YOFEYRm9JD</a></p>&mdash; Wayra Deutschland (@WayraDE) <a href=\"https://twitter.com/WayraDE/status/1042720880441389056?ref_src=twsrc%5Etfw\">September 20, 2018</a></blockquote>\n",
       "<script async src=\"https://platform.twitter.com/widgets.js\" charset=\"utf-8\"></script>\n"
      ],
      "text/plain": [
       "<__main__.Tweet at 0x10e6fc208>"
      ]
     },
     "metadata": {},
     "output_type": "display_data"
    },
    {
     "data": {
      "text/html": [
       "<blockquote class=\"twitter-tweet\"><p lang=\"en\" dir=\"ltr\">We are happy to announce that <a href=\"https://twitter.com/chemaalonso?ref_src=twsrc%5Etfw\">@chemaalonso</a>, Chief Data Officer at <a href=\"https://twitter.com/Telefonica?ref_src=twsrc%5Etfw\">@Telefonica</a>, will be one of our featured speakers at <a href=\"https://twitter.com/hashtag/BDS18?src=hash&amp;ref_src=twsrc%5Etfw\">#BDS18</a>. Discover everything about <a href=\"https://twitter.com/hashtag/BigData?src=hash&amp;ref_src=twsrc%5Etfw\">#BigData</a> <a href=\"https://twitter.com/hashtag/AI?src=hash&amp;ref_src=twsrc%5Etfw\">#AI</a> and <a href=\"https://twitter.com/hashtag/CognitiveIntelligence?src=hash&amp;ref_src=twsrc%5Etfw\">#CognitiveIntelligence</a>!</p>&mdash; Big Data Spain (@BigDataSpain) <a href=\"https://twitter.com/BigDataSpain/status/1040531257929748480?ref_src=twsrc%5Etfw\">September 14, 2018</a></blockquote>\n",
       "<script async src=\"https://platform.twitter.com/widgets.js\" charset=\"utf-8\"></script>\n"
      ],
      "text/plain": [
       "<__main__.Tweet at 0x10f48fdd8>"
      ]
     },
     "metadata": {},
     "output_type": "display_data"
    },
    {
     "data": {
      "text/html": [
       "<blockquote class=\"twitter-tweet\"><p lang=\"en\" dir=\"ltr\">Something big is about to happen. Get ready for tomorrow.<br>Mañana es un día grande para <a href=\"https://twitter.com/Wayra?ref_src=twsrc%5Etfw\">@Wayra</a><a href=\"https://twitter.com/hashtag/WeAreWayra?src=hash&amp;ref_src=twsrc%5Etfw\">#WeAreWayra</a> <a href=\"https://t.co/2Tdmm4ZsnL\">pic.twitter.com/2Tdmm4ZsnL</a></p>&mdash; Telefónica (@Telefonica) <a href=\"https://twitter.com/Telefonica/status/1042471130970419201?ref_src=twsrc%5Etfw\">September 19, 2018</a></blockquote>\n",
       "<script async src=\"https://platform.twitter.com/widgets.js\" charset=\"utf-8\"></script>\n"
      ],
      "text/plain": [
       "<__main__.Tweet at 0x10e6fc208>"
      ]
     },
     "metadata": {},
     "output_type": "display_data"
    },
    {
     "data": {
      "text/html": [
       "<blockquote class=\"twitter-tweet\"><p lang=\"en\" dir=\"ltr\">Full house <a href=\"https://twitter.com/Telefonica?ref_src=twsrc%5Etfw\">@Telefonica</a> Auditorium. Media, colleagues and friends around the world meet us today to welcome the new <a href=\"https://twitter.com/hashtag/WAYRA?src=hash&amp;ref_src=twsrc%5Etfw\">#WAYRA</a>. The new us 💥 <a href=\"https://twitter.com/hashtag/WeRock?src=hash&amp;ref_src=twsrc%5Etfw\">#WeRock</a> <a href=\"https://twitter.com/hashtag/WeAreWayra?src=hash&amp;ref_src=twsrc%5Etfw\">#WeAreWayra</a>  <a href=\"https://twitter.com/WayraCo?ref_src=twsrc%5Etfw\">@WayraCo</a> <a href=\"https://twitter.com/WayraAr?ref_src=twsrc%5Etfw\">@WayraAr</a> <a href=\"https://twitter.com/WayraMexico?ref_src=twsrc%5Etfw\">@WayraMexico</a> <a href=\"https://twitter.com/WayraBrasil?ref_src=twsrc%5Etfw\">@WayraBrasil</a> <a href=\"https://twitter.com/wayrachile?ref_src=twsrc%5Etfw\">@wayrachile</a> <a href=\"https://twitter.com/WayraPe?ref_src=twsrc%5Etfw\">@WayraPe</a> <a href=\"https://twitter.com/WayraVE?ref_src=twsrc%5Etfw\">@WayraVE</a> <a href=\"https://twitter.com/WayraUK?ref_src=twsrc%5Etfw\">@WayraUK</a> <a href=\"https://twitter.com/WayraES?ref_src=twsrc%5Etfw\">@WayraES</a> <a href=\"https://t.co/gkHGQ7flDv\">https://t.co/gkHGQ7flDv</a></p>&mdash; Wayra Deutschland (@WayraDE) <a href=\"https://twitter.com/WayraDE/status/1042703464361611264?ref_src=twsrc%5Etfw\">September 20, 2018</a></blockquote>\n",
       "<script async src=\"https://platform.twitter.com/widgets.js\" charset=\"utf-8\"></script>\n"
      ],
      "text/plain": [
       "<__main__.Tweet at 0x10f48fdd8>"
      ]
     },
     "metadata": {},
     "output_type": "display_data"
    }
   ],
   "source": [
    "from IPython.display import Image\n",
    "from IPython.core.display import HTML \n",
    "\n",
    "s = f\"\"\"<h3>Los tweet con mas favoritos : </h3>\"\"\"\n",
    "display(HTML(s))\n",
    "\n",
    "# Cogemos los valores mas positivos\n",
    "minitabla = df.sort_values(by=['favorites'],ascending = False ).head(10)[[\"compound\" ,\"neg\" ,\"neu\" ,\"pos\" ,\"favorites\",\"tweet\", \"link\"]]\n",
    "\n",
    "display(minitabla)\n",
    "\n",
    "for (i, fila) in minitabla.iterrows() : \n",
    "    display(Tweet(fila.link))\n",
    "    "
   ]
  },
  {
   "cell_type": "code",
   "execution_count": 20,
   "metadata": {},
   "outputs": [
    {
     "data": {
      "text/html": [
       "<h3> Perjudica o beneficia ser positivo para obtener retweets/favorites : </h3>"
      ],
      "text/plain": [
       "<IPython.core.display.HTML object>"
      ]
     },
     "metadata": {},
     "output_type": "display_data"
    },
    {
     "data": {
      "image/png": "[encoded data removed]",
      "text/plain": [
       "<matplotlib.figure.Figure at 0x112c4b5f8>"
      ]
     },
     "metadata": {},
     "output_type": "display_data"
    }
   ],
   "source": [
    "import seaborn as sns\n",
    "import numpy as np\n",
    "\n",
    "from IPython.core.display import HTML \n",
    "\n",
    "s = f\"\"\"<h3> Perjudica o beneficia ser positivo para obtener retweets/favorites : </h3>\"\"\"\n",
    "display(HTML(s))\n",
    "\n",
    "cols = [ 'pos', 'neg' ,'favorites', 'retweets',]\n",
    "\n",
    "fig, ax = plt.subplots(figsize=(10,10))         # Sample figsize in inches\n",
    "\n",
    "cm = np.corrcoef(df[cols].values.T)\n",
    "sns.set(font_scale=1.5)\n",
    "hm = sns.heatmap(cm,\n",
    "                 cbar=True,\n",
    "                 annot=True,\n",
    "                 square=True,\n",
    "                 fmt='.2f',\n",
    "                 annot_kws={'size': 15},\n",
    "                 yticklabels=cols,\n",
    "                 xticklabels=cols)\n",
    "plt.show()"
   ]
  },
  {
   "cell_type": "code",
   "execution_count": 18,
   "metadata": {},
   "outputs": [
    {
     "data": {
      "text/html": [
       "<div>\n",
       "<style scoped>\n",
       "    .dataframe tbody tr th:only-of-type {\n",
       "        vertical-align: middle;\n",
       "    }\n",
       "\n",
       "    .dataframe tbody tr th {\n",
       "        vertical-align: top;\n",
       "    }\n",
       "\n",
       "    .dataframe thead th {\n",
       "        text-align: right;\n",
       "    }\n",
       "</style>\n",
       "<table border=\"1\" class=\"dataframe\">\n",
       "  <thead>\n",
       "    <tr style=\"text-align: right;\">\n",
       "      <th></th>\n",
       "      <th>compound</th>\n",
       "      <th>neg</th>\n",
       "      <th>neu</th>\n",
       "      <th>pos</th>\n",
       "      <th>retweets</th>\n",
       "      <th>favorites</th>\n",
       "    </tr>\n",
       "  </thead>\n",
       "  <tbody>\n",
       "    <tr>\n",
       "      <th>count</th>\n",
       "      <td>700.000000</td>\n",
       "      <td>700.000000</td>\n",
       "      <td>700.000000</td>\n",
       "      <td>700.000000</td>\n",
       "      <td>700.000000</td>\n",
       "      <td>700.000000</td>\n",
       "    </tr>\n",
       "    <tr>\n",
       "      <th>mean</th>\n",
       "      <td>0.313037</td>\n",
       "      <td>0.021739</td>\n",
       "      <td>0.855534</td>\n",
       "      <td>0.122740</td>\n",
       "      <td>0.735714</td>\n",
       "      <td>1.914286</td>\n",
       "    </tr>\n",
       "    <tr>\n",
       "      <th>std</th>\n",
       "      <td>0.379187</td>\n",
       "      <td>0.055419</td>\n",
       "      <td>0.131019</td>\n",
       "      <td>0.125516</td>\n",
       "      <td>1.752214</td>\n",
       "      <td>5.559003</td>\n",
       "    </tr>\n",
       "    <tr>\n",
       "      <th>min</th>\n",
       "      <td>-0.832800</td>\n",
       "      <td>0.000000</td>\n",
       "      <td>0.278000</td>\n",
       "      <td>0.000000</td>\n",
       "      <td>0.000000</td>\n",
       "      <td>0.000000</td>\n",
       "    </tr>\n",
       "    <tr>\n",
       "      <th>25%</th>\n",
       "      <td>0.000000</td>\n",
       "      <td>0.000000</td>\n",
       "      <td>0.769000</td>\n",
       "      <td>0.000000</td>\n",
       "      <td>0.000000</td>\n",
       "      <td>0.000000</td>\n",
       "    </tr>\n",
       "    <tr>\n",
       "      <th>50%</th>\n",
       "      <td>0.340000</td>\n",
       "      <td>0.000000</td>\n",
       "      <td>0.868000</td>\n",
       "      <td>0.112000</td>\n",
       "      <td>0.000000</td>\n",
       "      <td>0.000000</td>\n",
       "    </tr>\n",
       "    <tr>\n",
       "      <th>75%</th>\n",
       "      <td>0.647600</td>\n",
       "      <td>0.000000</td>\n",
       "      <td>1.000000</td>\n",
       "      <td>0.207000</td>\n",
       "      <td>1.000000</td>\n",
       "      <td>2.000000</td>\n",
       "    </tr>\n",
       "    <tr>\n",
       "      <th>max</th>\n",
       "      <td>0.975200</td>\n",
       "      <td>0.508000</td>\n",
       "      <td>1.000000</td>\n",
       "      <td>0.722000</td>\n",
       "      <td>18.000000</td>\n",
       "      <td>88.000000</td>\n",
       "    </tr>\n",
       "  </tbody>\n",
       "</table>\n",
       "</div>"
      ],
      "text/plain": [
       "         compound         neg         neu         pos    retweets   favorites\n",
       "count  700.000000  700.000000  700.000000  700.000000  700.000000  700.000000\n",
       "mean     0.313037    0.021739    0.855534    0.122740    0.735714    1.914286\n",
       "std      0.379187    0.055419    0.131019    0.125516    1.752214    5.559003\n",
       "min     -0.832800    0.000000    0.278000    0.000000    0.000000    0.000000\n",
       "25%      0.000000    0.000000    0.769000    0.000000    0.000000    0.000000\n",
       "50%      0.340000    0.000000    0.868000    0.112000    0.000000    0.000000\n",
       "75%      0.647600    0.000000    1.000000    0.207000    1.000000    2.000000\n",
       "max      0.975200    0.508000    1.000000    0.722000   18.000000   88.000000"
      ]
     },
     "execution_count": 18,
     "metadata": {},
     "output_type": "execute_result"
    }
   ],
   "source": [
    "df.describe()"
   ]
  },
  {
   "cell_type": "code",
   "execution_count": 19,
   "metadata": {},
   "outputs": [
    {
     "data": {
      "image/png": "[encoded data removed]",
      "text/plain": [
       "<matplotlib.figure.Figure at 0x10f54c780>"
      ]
     },
     "metadata": {},
     "output_type": "display_data"
    }
   ],
   "source": [
    "import matplotlib.pyplot as plt\n",
    "from mpl_toolkits import mplot3d\n",
    "\n",
    "ax = plt.axes(projection='3d')\n",
    "\n",
    "\n",
    "ax.set_xlabel('Neg')\n",
    "ax.set_ylabel('Pos')\n",
    "ax.set_zlabel('Neu')\n",
    "ax.scatter3D(df.neg.values, df.pos.values, df.neu.values, c=df.neu.values, cmap='Blues');"
   ]
  },
  {
   "cell_type": "markdown",
   "metadata": {},
   "source": [
    "## Resultados\n",
    "\n",
    "Depende del hashtag veremos mas resultados mas positivos, negativos o neutros."
   ]
  },
  {
   "cell_type": "markdown",
   "metadata": {},
   "source": [
    "## Conclusion\n",
    "\n",
    "Estudiando y monitorizando el sentiment analisys, podemos entender y mejorar nuestro posicionamiento en las redes sociales.\n"
   ]
  }
 ],
 "metadata": {
  "kernelspec": {
   "display_name": "Python 3",
   "language": "python",
   "name": "python3"
  },
  "language_info": {
   "codemirror_mode": {
    "name": "ipython",
    "version": 3
   },
   "file_extension": ".py",
   "mimetype": "text/x-python",
   "name": "python",
   "nbconvert_exporter": "python",
   "pygments_lexer": "ipython3",
   "version": "3.6.4"
  }
 },
 "nbformat": 4,
 "nbformat_minor": 2
}
