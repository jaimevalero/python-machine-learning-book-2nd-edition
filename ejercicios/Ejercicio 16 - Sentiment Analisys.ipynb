{
 "cells": [
  {
   "cell_type": "markdown",
   "metadata": {},
   "source": [
    "![title](./images/vader_1.jpg)"
   ]
  },
  {
   "cell_type": "markdown",
   "metadata": {},
   "source": [
    "# En este ejercicio, enseñaremos sentimientos al ordenador\n",
    "<br>\n",
    "\n",
    " <div class=\"alert alert-block alert-info\">\n",
    "El <strong>sentiment analysis</strong> se usa sobre todo en el ámbito de las redes sociales, y el marketing digital.\n",
    "</div>\n",
    "\n",
    "<br>"
   ]
  },
  {
   "cell_type": "markdown",
   "metadata": {},
   "source": [
    "## Contenidos ##\n",
    "- ### Librería vader de analisis de sentimientos.\n",
    "- ### Ejemplo de frases positivas, negativas y neutras.\n",
    "- ### Ejemplo de traducción a otros idiomas\n",
    "- ### Analisis del hashtag de twitter\n",
    "- ### Resultado y conclusión"
   ]
  },
  {
   "cell_type": "markdown",
   "metadata": {},
   "source": [
    "Vamos a medir la intensidad del sentimiento usando la librería vader. https://github.com/cjhutto/vaderSentiment\n",
    "\n",
    "Nos va a devolver un diccionario con la polarización de sentimientos (el polarity score).\n",
    " - neg: Negative\n",
    " - neu: Neutral\n",
    " - pos: Positive\n",
    " - compound: Compound (i.e. aggregated score)"
   ]
  },
  {
   "cell_type": "code",
   "execution_count": 1,
   "metadata": {},
   "outputs": [],
   "source": [
    "# Definimos una gráfica\n",
    "import matplotlib.pyplot as plt\n",
    "\n",
    "def mostrar_grafica(puntuacion):\n",
    "    plt.bar(range(len(puntuacion)), list(puntuacion.values()), align='center')\n",
    "    plt.xticks(range(len(puntuacion)), list(puntuacion.keys()))\n",
    "    plt.show()\n"
   ]
  },
  {
   "cell_type": "markdown",
   "metadata": {},
   "source": [
    "Probamos con una frase neutral"
   ]
  },
  {
   "cell_type": "code",
   "execution_count": 2,
   "metadata": {},
   "outputs": [
    {
     "data": {
      "text/html": [
       "<div>\n",
       "<style scoped>\n",
       "    .dataframe tbody tr th:only-of-type {\n",
       "        vertical-align: middle;\n",
       "    }\n",
       "\n",
       "    .dataframe tbody tr th {\n",
       "        vertical-align: top;\n",
       "    }\n",
       "\n",
       "    .dataframe thead th {\n",
       "        text-align: right;\n",
       "    }\n",
       "</style>\n",
       "<table border=\"1\" class=\"dataframe\">\n",
       "  <thead>\n",
       "    <tr style=\"text-align: right;\">\n",
       "      <th></th>\n",
       "      <th>compound</th>\n",
       "      <th>neg</th>\n",
       "      <th>neu</th>\n",
       "      <th>pos</th>\n",
       "    </tr>\n",
       "  </thead>\n",
       "  <tbody>\n",
       "    <tr>\n",
       "      <th>0</th>\n",
       "      <td>0.0</td>\n",
       "      <td>0.0</td>\n",
       "      <td>1.0</td>\n",
       "      <td>0.0</td>\n",
       "    </tr>\n",
       "  </tbody>\n",
       "</table>\n",
       "</div>"
      ],
      "text/plain": [
       "   compound  neg  neu  pos\n",
       "0       0.0  0.0  1.0  0.0"
      ]
     },
     "metadata": {},
     "output_type": "display_data"
    },
    {
     "data": {
      "text/plain": [
       "\"Let's get work.\""
      ]
     },
     "metadata": {},
     "output_type": "display_data"
    },
    {
     "data": {
      "image/png": "[encoded data removed]",
      "text/plain": [
       "<matplotlib.figure.Figure at 0x108c7b710>"
      ]
     },
     "metadata": {},
     "output_type": "display_data"
    }
   ],
   "source": [
    "from vaderSentiment.vaderSentiment import SentimentIntensityAnalyzer\n",
    "import pandas as pd\n",
    "from IPython.core.display import HTML \n",
    "\n",
    "FRASE=\"Let's get work.\"\n",
    "\n",
    "puntuacion = SentimentIntensityAnalyzer().polarity_scores(FRASE)\n",
    "\n",
    "display(pd.DataFrame([puntuacion]), FRASE)\n",
    "\n",
    "mostrar_grafica(puntuacion)\n"
   ]
  },
  {
   "cell_type": "markdown",
   "metadata": {},
   "source": [
    "Una frase positiva"
   ]
  },
  {
   "cell_type": "code",
   "execution_count": 3,
   "metadata": {},
   "outputs": [
    {
     "data": {
      "text/html": [
       "<div>\n",
       "<style scoped>\n",
       "    .dataframe tbody tr th:only-of-type {\n",
       "        vertical-align: middle;\n",
       "    }\n",
       "\n",
       "    .dataframe tbody tr th {\n",
       "        vertical-align: top;\n",
       "    }\n",
       "\n",
       "    .dataframe thead th {\n",
       "        text-align: right;\n",
       "    }\n",
       "</style>\n",
       "<table border=\"1\" class=\"dataframe\">\n",
       "  <thead>\n",
       "    <tr style=\"text-align: right;\">\n",
       "      <th></th>\n",
       "      <th>compound</th>\n",
       "      <th>neg</th>\n",
       "      <th>neu</th>\n",
       "      <th>pos</th>\n",
       "    </tr>\n",
       "  </thead>\n",
       "  <tbody>\n",
       "    <tr>\n",
       "      <th>0</th>\n",
       "      <td>0.5719</td>\n",
       "      <td>0.0</td>\n",
       "      <td>0.448</td>\n",
       "      <td>0.552</td>\n",
       "    </tr>\n",
       "  </tbody>\n",
       "</table>\n",
       "</div>"
      ],
      "text/plain": [
       "   compound  neg    neu    pos\n",
       "0    0.5719  0.0  0.448  0.552"
      ]
     },
     "metadata": {},
     "output_type": "display_data"
    },
    {
     "data": {
      "text/plain": [
       "'This tea is excellent'"
      ]
     },
     "metadata": {},
     "output_type": "display_data"
    },
    {
     "data": {
      "image/png": "[encoded data removed]",
      "text/plain": [
       "<matplotlib.figure.Figure at 0x10cd3d278>"
      ]
     },
     "metadata": {},
     "output_type": "display_data"
    }
   ],
   "source": [
    "\n",
    "from vaderSentiment.vaderSentiment import SentimentIntensityAnalyzer\n",
    "from IPython.core.display import HTML \n",
    "\n",
    "FRASE=\"This tea is excellent\"\n",
    "\n",
    "puntuacion = SentimentIntensityAnalyzer().polarity_scores(FRASE)\n",
    "\n",
    "display(pd.DataFrame([puntuacion]), FRASE)\n",
    "\n",
    "mostrar_grafica(puntuacion)\n",
    "\n"
   ]
  },
  {
   "cell_type": "markdown",
   "metadata": {},
   "source": [
    "Y una frase negativa"
   ]
  },
  {
   "cell_type": "code",
   "execution_count": 4,
   "metadata": {},
   "outputs": [
    {
     "data": {
      "text/html": [
       "<div>\n",
       "<style scoped>\n",
       "    .dataframe tbody tr th:only-of-type {\n",
       "        vertical-align: middle;\n",
       "    }\n",
       "\n",
       "    .dataframe tbody tr th {\n",
       "        vertical-align: top;\n",
       "    }\n",
       "\n",
       "    .dataframe thead th {\n",
       "        text-align: right;\n",
       "    }\n",
       "</style>\n",
       "<table border=\"1\" class=\"dataframe\">\n",
       "  <thead>\n",
       "    <tr style=\"text-align: right;\">\n",
       "      <th></th>\n",
       "      <th>compound</th>\n",
       "      <th>neg</th>\n",
       "      <th>neu</th>\n",
       "      <th>pos</th>\n",
       "    </tr>\n",
       "  </thead>\n",
       "  <tbody>\n",
       "    <tr>\n",
       "      <th>0</th>\n",
       "      <td>-0.6808</td>\n",
       "      <td>0.535</td>\n",
       "      <td>0.465</td>\n",
       "      <td>0.0</td>\n",
       "    </tr>\n",
       "  </tbody>\n",
       "</table>\n",
       "</div>"
      ],
      "text/plain": [
       "   compound    neg    neu  pos\n",
       "0   -0.6808  0.535  0.465  0.0"
      ]
     },
     "metadata": {},
     "output_type": "display_data"
    },
    {
     "data": {
      "text/plain": [
       "'The traffic is a living hell.'"
      ]
     },
     "metadata": {},
     "output_type": "display_data"
    },
    {
     "data": {
      "image/png": "[encoded data removed]",
      "text/plain": [
       "<matplotlib.figure.Figure at 0x10cb72b00>"
      ]
     },
     "metadata": {},
     "output_type": "display_data"
    }
   ],
   "source": [
    "from vaderSentiment.vaderSentiment import SentimentIntensityAnalyzer\n",
    "from IPython.core.display import HTML \n",
    "\n",
    "FRASE=\"The traffic is a living hell.\"\n",
    "\n",
    "puntuacion = SentimentIntensityAnalyzer().polarity_scores(FRASE)\n",
    "\n",
    "display(pd.DataFrame([puntuacion]), FRASE)\n",
    "\n",
    "mostrar_grafica(puntuacion)\n"
   ]
  },
  {
   "cell_type": "markdown",
   "metadata": {},
   "source": [
    "### Ejemplo de traducción a otros idiomas\n",
    "\n",
    "Hay que traducir la frase, antes de pasársela a vader."
   ]
  },
  {
   "cell_type": "code",
   "execution_count": 5,
   "metadata": {},
   "outputs": [
    {
     "name": "stdout",
     "output_type": "stream",
     "text": [
      "Se ha estropeado la maldita máquina, joder joder joder.  se traduce por :  The damn machine is screwed up, fuck fuck fuck.\n"
     ]
    },
    {
     "data": {
      "text/html": [
       "<div>\n",
       "<style scoped>\n",
       "    .dataframe tbody tr th:only-of-type {\n",
       "        vertical-align: middle;\n",
       "    }\n",
       "\n",
       "    .dataframe tbody tr th {\n",
       "        vertical-align: top;\n",
       "    }\n",
       "\n",
       "    .dataframe thead th {\n",
       "        text-align: right;\n",
       "    }\n",
       "</style>\n",
       "<table border=\"1\" class=\"dataframe\">\n",
       "  <thead>\n",
       "    <tr style=\"text-align: right;\">\n",
       "      <th></th>\n",
       "      <th>compound</th>\n",
       "      <th>neg</th>\n",
       "      <th>neu</th>\n",
       "      <th>pos</th>\n",
       "    </tr>\n",
       "  </thead>\n",
       "  <tbody>\n",
       "    <tr>\n",
       "      <th>0</th>\n",
       "      <td>-0.9468</td>\n",
       "      <td>0.804</td>\n",
       "      <td>0.196</td>\n",
       "      <td>0.0</td>\n",
       "    </tr>\n",
       "  </tbody>\n",
       "</table>\n",
       "</div>"
      ],
      "text/plain": [
       "   compound    neg    neu  pos\n",
       "0   -0.9468  0.804  0.196  0.0"
      ]
     },
     "metadata": {},
     "output_type": "display_data"
    },
    {
     "data": {
      "text/plain": [
       "'The damn machine is screwed up, fuck fuck fuck.'"
      ]
     },
     "metadata": {},
     "output_type": "display_data"
    },
    {
     "data": {
      "image/png": "[encoded data removed]",
      "text/plain": [
       "<matplotlib.figure.Figure at 0x10cb315f8>"
      ]
     },
     "metadata": {},
     "output_type": "display_data"
    }
   ],
   "source": [
    "import requests\n",
    "import json\n",
    "import string\n",
    "\n",
    "frase = \"Se ha estropeado la maldita máquina, joder joder joder.\"\n",
    "\n",
    "from_lang = 'es'\n",
    "to_lang = 'en'\n",
    "api_url = \"http://mymemory.translated.net/api/get?q={}&langpair={}|{}\".format(frase, from_lang, to_lang)\n",
    "\n",
    "hdrs = { 'User-Agent': 'Mozilla/5.0 (X11; Linux x86_64) AppleWebKit/537.11 (KHTML, like Gecko) Chrome/23.0.1271.64 Safari/537.11',\n",
    "        'Accept': 'text/html,application/xhtml+xml,application/xml;q=0.9,*/*;q=0.8',\n",
    "        'Accept-Charset': 'ISO-8859-1,utf-8;q=0.7,*;q=0.3',\n",
    "        'Accept-Encoding': 'none',\n",
    "        'Accept-Language': 'en-US,en;q=0.8',\n",
    "        'Connection': 'keep-alive'}\n",
    "\n",
    "response = requests.get(api_url, headers=hdrs)\n",
    "response_json = json.loads(response.text)\n",
    "translation = response_json[\"responseData\"][\"translatedText\"]\n",
    "print(frase, \" se traduce por : \",translation)\n",
    "\n",
    "sentence = translation\n",
    "\n",
    "analyzer = SentimentIntensityAnalyzer()\n",
    "puntuacion = analyzer.polarity_scores(sentence)\n",
    "\n",
    "display(pd.DataFrame([puntuacion]), sentence)\n",
    "\n",
    "mostrar_grafica(puntuacion)\n",
    "\n"
   ]
  },
  {
   "cell_type": "markdown",
   "metadata": {},
   "source": [
    "### Sentiment analisys del hashtag de twitter\n",
    "\n",
    "Vamos a descargarnos los tweets de un hashtag determinado, y le vamos a pasar por vader.\n",
    "\n",
    "\n",
    "La idea es detectar los tweets negativos sobre algo.\n",
    "\n",
    "\n",
    "El hashtag es #Factoftheday"
   ]
  },
  {
   "cell_type": "code",
   "execution_count": 6,
   "metadata": {},
   "outputs": [
    {
     "name": "stdout",
     "output_type": "stream",
     "text": [
      " Nos conectamos a twitter\n",
      " Acabamos de descargarnos los tweets\n"
     ]
    },
    {
     "data": {
      "text/html": [
       "<div>\n",
       "<style scoped>\n",
       "    .dataframe tbody tr th:only-of-type {\n",
       "        vertical-align: middle;\n",
       "    }\n",
       "\n",
       "    .dataframe tbody tr th {\n",
       "        vertical-align: top;\n",
       "    }\n",
       "\n",
       "    .dataframe thead th {\n",
       "        text-align: right;\n",
       "    }\n",
       "</style>\n",
       "<table border=\"1\" class=\"dataframe\">\n",
       "  <thead>\n",
       "    <tr style=\"text-align: right;\">\n",
       "      <th></th>\n",
       "      <th>hashtag</th>\n",
       "      <th>link</th>\n",
       "      <th>tweet</th>\n",
       "    </tr>\n",
       "  </thead>\n",
       "  <tbody>\n",
       "    <tr>\n",
       "      <th>0</th>\n",
       "      <td>#FactOfTheDay</td>\n",
       "      <td>https://twitter.com/ShoeburyNetwork/status/104...</td>\n",
       "      <td>#DidYouKnow after WW2 artillery regiments cont...</td>\n",
       "    </tr>\n",
       "    <tr>\n",
       "      <th>1</th>\n",
       "      <td>#FactOfTheDay</td>\n",
       "      <td>https://twitter.com/BillericayNews/status/1040...</td>\n",
       "      <td>#DidYouKnow some of the earliest records of hu...</td>\n",
       "    </tr>\n",
       "    <tr>\n",
       "      <th>2</th>\n",
       "      <td>#FactOfTheDay</td>\n",
       "      <td>https://twitter.com/CLDT_Chennai/status/104090...</td>\n",
       "      <td>Spinach also helps in protection against eye d...</td>\n",
       "    </tr>\n",
       "    <tr>\n",
       "      <th>3</th>\n",
       "      <td>#FactOfTheDay</td>\n",
       "      <td>https://twitter.com/GillinghamTalk/status/1040...</td>\n",
       "      <td>#DidYouKnow Gillingham was served by an electr...</td>\n",
       "    </tr>\n",
       "    <tr>\n",
       "      <th>4</th>\n",
       "      <td>#FactOfTheDay</td>\n",
       "      <td>https://twitter.com/GreatDunmowTalk/status/104...</td>\n",
       "      <td>#DidYouKnow Great Dunmow is well Known for its...</td>\n",
       "    </tr>\n",
       "  </tbody>\n",
       "</table>\n",
       "</div>"
      ],
      "text/plain": [
       "         hashtag                                               link  \\\n",
       "0  #FactOfTheDay  https://twitter.com/ShoeburyNetwork/status/104...   \n",
       "1  #FactOfTheDay  https://twitter.com/BillericayNews/status/1040...   \n",
       "2  #FactOfTheDay  https://twitter.com/CLDT_Chennai/status/104090...   \n",
       "3  #FactOfTheDay  https://twitter.com/GillinghamTalk/status/1040...   \n",
       "4  #FactOfTheDay  https://twitter.com/GreatDunmowTalk/status/104...   \n",
       "\n",
       "                                               tweet  \n",
       "0  #DidYouKnow after WW2 artillery regiments cont...  \n",
       "1  #DidYouKnow some of the earliest records of hu...  \n",
       "2  Spinach also helps in protection against eye d...  \n",
       "3  #DidYouKnow Gillingham was served by an electr...  \n",
       "4  #DidYouKnow Great Dunmow is well Known for its...  "
      ]
     },
     "execution_count": 6,
     "metadata": {},
     "output_type": "execute_result"
    }
   ],
   "source": [
    "\n",
    "import tweepy\n",
    "import csv\n",
    "import pandas as pd\n",
    "from datetime import date, timedelta\n",
    "\n",
    "####\n",
    "# Quitamos la primera letra de las variables, y ponemos un guión para despistar a los parser\n",
    "onsumer_key    = 'h_mFJIxaV0HqCuKVZc8iZL65sJ'\n",
    "onsumer_secret = 'l_eDBguzuUDqd4v2YwKf9cYywWBWEDX4XV341HVdLHC18n1C7kP'\n",
    "ccess_token    = '7_92058678581026816-ZZk5lNrzMcLJdHRrRLMn6LIksQLDZTi'\n",
    "ccess_token_secret   = 'z_skKIFghdWezAgpChHLGrVX6OtZPBOmSOvG1tPMtWlK6b'\n",
    "\n",
    "print(\" Nos conectamos a twitter\" )\n",
    "\n",
    "\n",
    "auth = tweepy.OAuthHandler(consumer_key, consumer_secret)\n",
    "auth.set_access_token(access_token, access_token_secret)\n",
    "api = tweepy.API(auth,wait_on_rate_limit=True)\n",
    "\n",
    "hashtag = \"#FactOfTheDay\"\n",
    "options = \" -filter:retweets\"\n",
    "array = []\n",
    "\n",
    "# Pedimos datos al api\n",
    "for tweet in tweepy.Cursor(api.search , count=100,q=hashtag + options, lang=\"en\", tweet_mode=\"extended\").items() :\n",
    "    array.append({\"hashtag\" : hashtag  , \n",
    "                  \"tweet\" : tweet.full_text,\n",
    "                  \"link\" : \"https://twitter.com/\"+ tweet._json[\"user\"][\"screen_name\"] + \"/status/\" + tweet.id_str ,\n",
    "                 })\n",
    "\n",
    "# Guardar a disco    \n",
    "df = pd.DataFrame(array)\n",
    "df.to_csv('datasets/tweeter.csv',index=False)\n",
    "\n",
    "print(\" Acabamos de descargarnos\",df.size,\"tweets\" )\n",
    "df.head(5)"
   ]
  },
  {
   "cell_type": "code",
   "execution_count": 7,
   "metadata": {},
   "outputs": [
    {
     "data": {
      "text/html": [
       "<div>\n",
       "<style scoped>\n",
       "    .dataframe tbody tr th:only-of-type {\n",
       "        vertical-align: middle;\n",
       "    }\n",
       "\n",
       "    .dataframe tbody tr th {\n",
       "        vertical-align: top;\n",
       "    }\n",
       "\n",
       "    .dataframe thead th {\n",
       "        text-align: right;\n",
       "    }\n",
       "</style>\n",
       "<table border=\"1\" class=\"dataframe\">\n",
       "  <thead>\n",
       "    <tr style=\"text-align: right;\">\n",
       "      <th></th>\n",
       "      <th>hashtag</th>\n",
       "      <th>link</th>\n",
       "      <th>tweet</th>\n",
       "    </tr>\n",
       "  </thead>\n",
       "  <tbody>\n",
       "    <tr>\n",
       "      <th>0</th>\n",
       "      <td>#FactOfTheDay</td>\n",
       "      <td>https://twitter.com/ShoeburyNetwork/status/104...</td>\n",
       "      <td>#DidYouKnow after WW2 artillery regiments cont...</td>\n",
       "    </tr>\n",
       "    <tr>\n",
       "      <th>1</th>\n",
       "      <td>#FactOfTheDay</td>\n",
       "      <td>https://twitter.com/BillericayNews/status/1040...</td>\n",
       "      <td>#DidYouKnow some of the earliest records of hu...</td>\n",
       "    </tr>\n",
       "    <tr>\n",
       "      <th>2</th>\n",
       "      <td>#FactOfTheDay</td>\n",
       "      <td>https://twitter.com/CLDT_Chennai/status/104090...</td>\n",
       "      <td>Spinach also helps in protection against eye d...</td>\n",
       "    </tr>\n",
       "    <tr>\n",
       "      <th>3</th>\n",
       "      <td>#FactOfTheDay</td>\n",
       "      <td>https://twitter.com/GillinghamTalk/status/1040...</td>\n",
       "      <td>#DidYouKnow Gillingham was served by an electr...</td>\n",
       "    </tr>\n",
       "    <tr>\n",
       "      <th>4</th>\n",
       "      <td>#FactOfTheDay</td>\n",
       "      <td>https://twitter.com/GreatDunmowTalk/status/104...</td>\n",
       "      <td>#DidYouKnow Great Dunmow is well Known for its...</td>\n",
       "    </tr>\n",
       "  </tbody>\n",
       "</table>\n",
       "</div>"
      ],
      "text/plain": [
       "         hashtag                                               link  \\\n",
       "0  #FactOfTheDay  https://twitter.com/ShoeburyNetwork/status/104...   \n",
       "1  #FactOfTheDay  https://twitter.com/BillericayNews/status/1040...   \n",
       "2  #FactOfTheDay  https://twitter.com/CLDT_Chennai/status/104090...   \n",
       "3  #FactOfTheDay  https://twitter.com/GillinghamTalk/status/1040...   \n",
       "4  #FactOfTheDay  https://twitter.com/GreatDunmowTalk/status/104...   \n",
       "\n",
       "                                               tweet  \n",
       "0  #DidYouKnow after WW2 artillery regiments cont...  \n",
       "1  #DidYouKnow some of the earliest records of hu...  \n",
       "2  Spinach also helps in protection against eye d...  \n",
       "3  #DidYouKnow Gillingham was served by an electr...  \n",
       "4  #DidYouKnow Great Dunmow is well Known for its...  "
      ]
     },
     "execution_count": 7,
     "metadata": {},
     "output_type": "execute_result"
    }
   ],
   "source": [
    "#########################################\n",
    "### Cargamos el DataFrame, desde un csv.\n",
    "### Por si no los hemos descargado\n",
    "#########################################\n",
    "import pandas as pd\n",
    "tweets = pd.read_csv('datasets/tweeter.csv',encoding = 'utf8')\n",
    "tweets.head()"
   ]
  },
  {
   "cell_type": "markdown",
   "metadata": {},
   "source": [
    "Ahora que tenemos los tweets en un dataframe, \n",
    "\n",
    "por cada tweet, vamos llamando a vader, para sacar las puntuaciones."
   ]
  },
  {
   "cell_type": "code",
   "execution_count": 8,
   "metadata": {},
   "outputs": [
    {
     "data": {
      "text/html": [
       "<div>\n",
       "<style scoped>\n",
       "    .dataframe tbody tr th:only-of-type {\n",
       "        vertical-align: middle;\n",
       "    }\n",
       "\n",
       "    .dataframe tbody tr th {\n",
       "        vertical-align: top;\n",
       "    }\n",
       "\n",
       "    .dataframe thead th {\n",
       "        text-align: right;\n",
       "    }\n",
       "</style>\n",
       "<table border=\"1\" class=\"dataframe\">\n",
       "  <thead>\n",
       "    <tr style=\"text-align: right;\">\n",
       "      <th></th>\n",
       "      <th>compound</th>\n",
       "      <th>neg</th>\n",
       "      <th>neu</th>\n",
       "      <th>pos</th>\n",
       "      <th>hashtag</th>\n",
       "      <th>tweet</th>\n",
       "      <th>link</th>\n",
       "    </tr>\n",
       "  </thead>\n",
       "  <tbody>\n",
       "    <tr>\n",
       "      <th>0</th>\n",
       "      <td>0.0000</td>\n",
       "      <td>0.0</td>\n",
       "      <td>1.000</td>\n",
       "      <td>0.000</td>\n",
       "      <td>#FactOfTheDay</td>\n",
       "      <td>#DidYouKnow after WW2 artillery regiments cont...</td>\n",
       "      <td>https://twitter.com/ShoeburyNetwork/status/104...</td>\n",
       "    </tr>\n",
       "    <tr>\n",
       "      <th>1</th>\n",
       "      <td>0.0000</td>\n",
       "      <td>0.0</td>\n",
       "      <td>1.000</td>\n",
       "      <td>0.000</td>\n",
       "      <td>#FactOfTheDay</td>\n",
       "      <td>#DidYouKnow some of the earliest records of hu...</td>\n",
       "      <td>https://twitter.com/BillericayNews/status/1040...</td>\n",
       "    </tr>\n",
       "    <tr>\n",
       "      <th>2</th>\n",
       "      <td>0.7003</td>\n",
       "      <td>0.0</td>\n",
       "      <td>0.791</td>\n",
       "      <td>0.209</td>\n",
       "      <td>#FactOfTheDay</td>\n",
       "      <td>Spinach also helps in protection against eye d...</td>\n",
       "      <td>https://twitter.com/CLDT_Chennai/status/104090...</td>\n",
       "    </tr>\n",
       "    <tr>\n",
       "      <th>3</th>\n",
       "      <td>0.0000</td>\n",
       "      <td>0.0</td>\n",
       "      <td>1.000</td>\n",
       "      <td>0.000</td>\n",
       "      <td>#FactOfTheDay</td>\n",
       "      <td>#DidYouKnow Gillingham was served by an electr...</td>\n",
       "      <td>https://twitter.com/GillinghamTalk/status/1040...</td>\n",
       "    </tr>\n",
       "    <tr>\n",
       "      <th>4</th>\n",
       "      <td>0.7351</td>\n",
       "      <td>0.0</td>\n",
       "      <td>0.708</td>\n",
       "      <td>0.292</td>\n",
       "      <td>#FactOfTheDay</td>\n",
       "      <td>#DidYouKnow Great Dunmow is well Known for its...</td>\n",
       "      <td>https://twitter.com/GreatDunmowTalk/status/104...</td>\n",
       "    </tr>\n",
       "  </tbody>\n",
       "</table>\n",
       "</div>"
      ],
      "text/plain": [
       "   compound  neg    neu    pos        hashtag  \\\n",
       "0    0.0000  0.0  1.000  0.000  #FactOfTheDay   \n",
       "1    0.0000  0.0  1.000  0.000  #FactOfTheDay   \n",
       "2    0.7003  0.0  0.791  0.209  #FactOfTheDay   \n",
       "3    0.0000  0.0  1.000  0.000  #FactOfTheDay   \n",
       "4    0.7351  0.0  0.708  0.292  #FactOfTheDay   \n",
       "\n",
       "                                               tweet  \\\n",
       "0  #DidYouKnow after WW2 artillery regiments cont...   \n",
       "1  #DidYouKnow some of the earliest records of hu...   \n",
       "2  Spinach also helps in protection against eye d...   \n",
       "3  #DidYouKnow Gillingham was served by an electr...   \n",
       "4  #DidYouKnow Great Dunmow is well Known for its...   \n",
       "\n",
       "                                                link  \n",
       "0  https://twitter.com/ShoeburyNetwork/status/104...  \n",
       "1  https://twitter.com/BillericayNews/status/1040...  \n",
       "2  https://twitter.com/CLDT_Chennai/status/104090...  \n",
       "3  https://twitter.com/GillinghamTalk/status/1040...  \n",
       "4  https://twitter.com/GreatDunmowTalk/status/104...  "
      ]
     },
     "execution_count": 8,
     "metadata": {},
     "output_type": "execute_result"
    }
   ],
   "source": [
    "from vaderSentiment.vaderSentiment import SentimentIntensityAnalyzer\n",
    "import pandas as pd\n",
    "\n",
    "array_puntuaciones = []\n",
    "for index, row in tweets.iterrows():\n",
    "    puntuacion = SentimentIntensityAnalyzer().polarity_scores(row.tweet.replace(\"#\",\"\"))\n",
    "    array_puntuaciones.append ( puntuacion)\n",
    "\n",
    "\n",
    "df = pd.DataFrame(array_puntuaciones)\n",
    "df[\"hashtag\"] = tweets[\"hashtag\"]\n",
    "df[\"tweet\"]   = tweets[\"tweet\"]\n",
    "df[\"link\"]    = tweets[\"link\"]\n",
    "\n",
    "df.head()"
   ]
  },
  {
   "cell_type": "code",
   "execution_count": 9,
   "metadata": {},
   "outputs": [],
   "source": [
    "# Esta clase es solp para mostrar el tweet por pantalla\n",
    "\n",
    "import requests\n",
    "class Tweet(object):\n",
    "    def __init__(self, s, embed_str=False):\n",
    "        if not embed_str:\n",
    "            # Use Twitter's oEmbed API\n",
    "            # https://dev.twitter.com/web/embedded-tweets\n",
    "            api = 'https://publish.twitter.com/oembed?url={}'.format(s)\n",
    "            response = requests.get(api)\n",
    "            self.text = response.json()[\"html\"]\n",
    "        else:\n",
    "            self.text = s\n",
    "\n",
    "    def _repr_html_(self):\n",
    "        return self.text"
   ]
  },
  {
   "cell_type": "code",
   "execution_count": 10,
   "metadata": {
    "scrolled": true
   },
   "outputs": [
    {
     "data": {
      "text/html": [
       "<h3>Los tweets mas positivos son : </h3>"
      ],
      "text/plain": [
       "<IPython.core.display.HTML object>"
      ]
     },
     "metadata": {},
     "output_type": "display_data"
    },
    {
     "data": {
      "text/html": [
       "<div>\n",
       "<style scoped>\n",
       "    .dataframe tbody tr th:only-of-type {\n",
       "        vertical-align: middle;\n",
       "    }\n",
       "\n",
       "    .dataframe tbody tr th {\n",
       "        vertical-align: top;\n",
       "    }\n",
       "\n",
       "    .dataframe thead th {\n",
       "        text-align: right;\n",
       "    }\n",
       "</style>\n",
       "<table border=\"1\" class=\"dataframe\">\n",
       "  <thead>\n",
       "    <tr style=\"text-align: right;\">\n",
       "      <th></th>\n",
       "      <th>compound</th>\n",
       "      <th>neg</th>\n",
       "      <th>neu</th>\n",
       "      <th>pos</th>\n",
       "      <th>tweet</th>\n",
       "      <th>link</th>\n",
       "    </tr>\n",
       "  </thead>\n",
       "  <tbody>\n",
       "    <tr>\n",
       "      <th>460</th>\n",
       "      <td>0.7964</td>\n",
       "      <td>0.0</td>\n",
       "      <td>0.220</td>\n",
       "      <td>0.780</td>\n",
       "      <td>love a good #FactOfTheDay https://t.co/CrOrSsoCZw</td>\n",
       "      <td>https://twitter.com/annarox777/status/10396341...</td>\n",
       "    </tr>\n",
       "    <tr>\n",
       "      <th>968</th>\n",
       "      <td>0.7096</td>\n",
       "      <td>0.0</td>\n",
       "      <td>0.404</td>\n",
       "      <td>0.596</td>\n",
       "      <td>Fun breeds creativity \\n\\n#didyouknow #factoft...</td>\n",
       "      <td>https://twitter.com/DubGamesFest/status/103809...</td>\n",
       "    </tr>\n",
       "    <tr>\n",
       "      <th>1005</th>\n",
       "      <td>0.7243</td>\n",
       "      <td>0.0</td>\n",
       "      <td>0.452</td>\n",
       "      <td>0.548</td>\n",
       "      <td>Don't abuse just to amuse yourself.\\n#FactOfTh...</td>\n",
       "      <td>https://twitter.com/SumailiNkhosi/status/10380...</td>\n",
       "    </tr>\n",
       "  </tbody>\n",
       "</table>\n",
       "</div>"
      ],
      "text/plain": [
       "      compound  neg    neu    pos  \\\n",
       "460     0.7964  0.0  0.220  0.780   \n",
       "968     0.7096  0.0  0.404  0.596   \n",
       "1005    0.7243  0.0  0.452  0.548   \n",
       "\n",
       "                                                  tweet  \\\n",
       "460   love a good #FactOfTheDay https://t.co/CrOrSsoCZw   \n",
       "968   Fun breeds creativity \\n\\n#didyouknow #factoft...   \n",
       "1005  Don't abuse just to amuse yourself.\\n#FactOfTh...   \n",
       "\n",
       "                                                   link  \n",
       "460   https://twitter.com/annarox777/status/10396341...  \n",
       "968   https://twitter.com/DubGamesFest/status/103809...  \n",
       "1005  https://twitter.com/SumailiNkhosi/status/10380...  "
      ]
     },
     "metadata": {},
     "output_type": "display_data"
    },
    {
     "data": {
      "text/html": [
       "<blockquote class=\"twitter-tweet\"><p lang=\"en\" dir=\"ltr\">love a good <a href=\"https://twitter.com/hashtag/FactOfTheDay?src=hash&amp;ref_src=twsrc%5Etfw\">#FactOfTheDay</a> <a href=\"https://t.co/CrOrSsoCZw\">https://t.co/CrOrSsoCZw</a></p>&mdash; anna 🍌 (@annarox777) <a href=\"https://twitter.com/annarox777/status/1039634102633123840?ref_src=twsrc%5Etfw\">September 11, 2018</a></blockquote>\n",
       "<script async src=\"https://platform.twitter.com/widgets.js\" charset=\"utf-8\"></script>\n"
      ],
      "text/plain": [
       "<__main__.Tweet at 0x10e478470>"
      ]
     },
     "metadata": {},
     "output_type": "display_data"
    },
    {
     "data": {
      "text/html": [
       "<blockquote class=\"twitter-tweet\"><p lang=\"en\" dir=\"ltr\">Fun breeds creativity <a href=\"https://twitter.com/hashtag/didyouknow?src=hash&amp;ref_src=twsrc%5Etfw\">#didyouknow</a> <a href=\"https://twitter.com/hashtag/factoftheday?src=hash&amp;ref_src=twsrc%5Etfw\">#factoftheday</a> <a href=\"https://t.co/1f0yYV81Mj\">pic.twitter.com/1f0yYV81Mj</a></p>&mdash; Dublin Games Festival (@DubGamesFest) <a href=\"https://twitter.com/DubGamesFest/status/1038094549141340162?ref_src=twsrc%5Etfw\">September 7, 2018</a></blockquote>\n",
       "<script async src=\"https://platform.twitter.com/widgets.js\" charset=\"utf-8\"></script>\n"
      ],
      "text/plain": [
       "<__main__.Tweet at 0x10e478358>"
      ]
     },
     "metadata": {},
     "output_type": "display_data"
    },
    {
     "data": {
      "text/html": [
       "<blockquote class=\"twitter-tweet\"><p lang=\"en\" dir=\"ltr\">Don&#39;t abuse just to amuse yourself.<a href=\"https://twitter.com/hashtag/FactOfTheDay?src=hash&amp;ref_src=twsrc%5Etfw\">#FactOfTheDay</a></p>&mdash; Thembinkhosi Sumaili (@SumailiNkhosi) <a href=\"https://twitter.com/SumailiNkhosi/status/1038025848153145346?ref_src=twsrc%5Etfw\">September 7, 2018</a></blockquote>\n",
       "<script async src=\"https://platform.twitter.com/widgets.js\" charset=\"utf-8\"></script>\n"
      ],
      "text/plain": [
       "<__main__.Tweet at 0x10e478470>"
      ]
     },
     "metadata": {},
     "output_type": "display_data"
    }
   ],
   "source": [
    "from IPython.display import Image\n",
    "from IPython.core.display import HTML \n",
    "\n",
    "s = f\"\"\"<h3>Los tweets mas positivos son : </h3>\"\"\"\n",
    "display(HTML(s))\n",
    "\n",
    "# Cogemos los valores mas positivos\n",
    "minitabla = df.sort_values(by=['pos'],ascending = False ).head(3)[[\"compound\" ,\"neg\" ,\"neu\" ,\"pos\" ,\"tweet\", \"link\"]]\n",
    "\n",
    "display(minitabla)\n",
    "\n",
    "for (i, fila) in minitabla.iterrows() : \n",
    "    display(Tweet(fila.link)) \n",
    "\n",
    "\n"
   ]
  },
  {
   "cell_type": "code",
   "execution_count": 11,
   "metadata": {},
   "outputs": [
    {
     "data": {
      "text/html": [
       "<h3>Los tweets mas negativos son : </h3>"
      ],
      "text/plain": [
       "<IPython.core.display.HTML object>"
      ]
     },
     "metadata": {},
     "output_type": "display_data"
    },
    {
     "data": {
      "text/html": [
       "<div>\n",
       "<style scoped>\n",
       "    .dataframe tbody tr th:only-of-type {\n",
       "        vertical-align: middle;\n",
       "    }\n",
       "\n",
       "    .dataframe tbody tr th {\n",
       "        vertical-align: top;\n",
       "    }\n",
       "\n",
       "    .dataframe thead th {\n",
       "        text-align: right;\n",
       "    }\n",
       "</style>\n",
       "<table border=\"1\" class=\"dataframe\">\n",
       "  <thead>\n",
       "    <tr style=\"text-align: right;\">\n",
       "      <th></th>\n",
       "      <th>compound</th>\n",
       "      <th>neg</th>\n",
       "      <th>neu</th>\n",
       "      <th>pos</th>\n",
       "      <th>tweet</th>\n",
       "      <th>link</th>\n",
       "    </tr>\n",
       "  </thead>\n",
       "  <tbody>\n",
       "    <tr>\n",
       "      <th>1290</th>\n",
       "      <td>-0.9418</td>\n",
       "      <td>0.581</td>\n",
       "      <td>0.419</td>\n",
       "      <td>0.0</td>\n",
       "      <td>All Muslims aren’t terrorists. But all terrori...</td>\n",
       "      <td>https://twitter.com/Dim_Zaharakis/status/10372...</td>\n",
       "    </tr>\n",
       "    <tr>\n",
       "      <th>471</th>\n",
       "      <td>-0.9776</td>\n",
       "      <td>0.558</td>\n",
       "      <td>0.442</td>\n",
       "      <td>0.0</td>\n",
       "      <td>Alcohol consumption is a risk factor for three...</td>\n",
       "      <td>https://twitter.com/ProjectXtraMile/status/103...</td>\n",
       "    </tr>\n",
       "    <tr>\n",
       "      <th>378</th>\n",
       "      <td>-0.9000</td>\n",
       "      <td>0.524</td>\n",
       "      <td>0.476</td>\n",
       "      <td>0.0</td>\n",
       "      <td>#WednesdayMotivation FORGET YESTERDAY, STOP SA...</td>\n",
       "      <td>https://twitter.com/Will_chris2/status/1039834...</td>\n",
       "    </tr>\n",
       "  </tbody>\n",
       "</table>\n",
       "</div>"
      ],
      "text/plain": [
       "      compound    neg    neu  pos  \\\n",
       "1290   -0.9418  0.581  0.419  0.0   \n",
       "471    -0.9776  0.558  0.442  0.0   \n",
       "378    -0.9000  0.524  0.476  0.0   \n",
       "\n",
       "                                                  tweet  \\\n",
       "1290  All Muslims aren’t terrorists. But all terrori...   \n",
       "471   Alcohol consumption is a risk factor for three...   \n",
       "378   #WednesdayMotivation FORGET YESTERDAY, STOP SA...   \n",
       "\n",
       "                                                   link  \n",
       "1290  https://twitter.com/Dim_Zaharakis/status/10372...  \n",
       "471   https://twitter.com/ProjectXtraMile/status/103...  \n",
       "378   https://twitter.com/Will_chris2/status/1039834...  "
      ]
     },
     "metadata": {},
     "output_type": "display_data"
    },
    {
     "data": {
      "text/html": [
       "<blockquote class=\"twitter-tweet\"><p lang=\"en\" dir=\"ltr\">All Muslims aren’t terrorists. But all terrorists are Muslims. <a href=\"https://twitter.com/hashtag/FactoftheDay?src=hash&amp;ref_src=twsrc%5Etfw\">#FactoftheDay</a> <a href=\"https://twitter.com/hashtag/Terrorists?src=hash&amp;ref_src=twsrc%5Etfw\">#Terrorists</a> <a href=\"https://twitter.com/hashtag/Muslims?src=hash&amp;ref_src=twsrc%5Etfw\">#Muslims</a> <a href=\"https://t.co/y8D5MezTVm\">pic.twitter.com/y8D5MezTVm</a></p>&mdash; Dimitris_Zaharakis (@Dim_Zaharakis) <a href=\"https://twitter.com/Dim_Zaharakis/status/1037288402411024384?ref_src=twsrc%5Etfw\">September 5, 2018</a></blockquote>\n",
       "<script async src=\"https://platform.twitter.com/widgets.js\" charset=\"utf-8\"></script>\n"
      ],
      "text/plain": [
       "<__main__.Tweet at 0x10e478358>"
      ]
     },
     "metadata": {},
     "output_type": "display_data"
    },
    {
     "data": {
      "text/html": [
       "<blockquote class=\"twitter-tweet\"><p lang=\"en\" dir=\"ltr\">Alcohol consumption is a risk factor for three of the biggest cancer killers of Nebraskans, including colorectal cancer, female breast cancer, and liver cancer. <a href=\"https://twitter.com/hashtag/FactOfTheDay?src=hash&amp;ref_src=twsrc%5Etfw\">#FactOfTheDay</a> <a href=\"https://t.co/y21nkvru7q\">pic.twitter.com/y21nkvru7q</a></p>&mdash; Project Extra Mile (@ProjectXtraMile) <a href=\"https://twitter.com/ProjectXtraMile/status/1039601665228369927?ref_src=twsrc%5Etfw\">September 11, 2018</a></blockquote>\n",
       "<script async src=\"https://platform.twitter.com/widgets.js\" charset=\"utf-8\"></script>\n"
      ],
      "text/plain": [
       "<__main__.Tweet at 0x10e4786d8>"
      ]
     },
     "metadata": {},
     "output_type": "display_data"
    },
    {
     "data": {
      "text/html": [
       "<blockquote class=\"twitter-tweet\"><p lang=\"en\" dir=\"ltr\"><a href=\"https://twitter.com/hashtag/WednesdayMotivation?src=hash&amp;ref_src=twsrc%5Etfw\">#WednesdayMotivation</a> FORGET YESTERDAY, STOP SAYING TOMORROW &amp; LET&#39;S KILL IT TODAY.<a href=\"https://twitter.com/hashtag/factoftheday?src=hash&amp;ref_src=twsrc%5Etfw\">#factoftheday</a> <a href=\"https://twitter.com/hashtag/facts?src=hash&amp;ref_src=twsrc%5Etfw\">#facts</a>💯 <a href=\"https://t.co/9bqcvNRDkI\">pic.twitter.com/9bqcvNRDkI</a></p>&mdash; the guy_chris (@Will_chris2) <a href=\"https://twitter.com/Will_chris2/status/1039834889623924742?ref_src=twsrc%5Etfw\">September 12, 2018</a></blockquote>\n",
       "<script async src=\"https://platform.twitter.com/widgets.js\" charset=\"utf-8\"></script>\n"
      ],
      "text/plain": [
       "<__main__.Tweet at 0x10e478358>"
      ]
     },
     "metadata": {},
     "output_type": "display_data"
    }
   ],
   "source": [
    "from IPython.display import Image\n",
    "from IPython.core.display import HTML \n",
    "\n",
    "s = f\"\"\"<h3>Los tweets mas negativos son : </h3>\"\"\"\n",
    "display(HTML(s))\n",
    "\n",
    "# Cogemos los valores mas neg\n",
    "minitabla = df.sort_values(by=['neg'],ascending = False ).head(3)[[\"compound\" ,\"neg\" ,\"neu\" ,\"pos\" ,\"tweet\", \"link\"]]\n",
    "\n",
    "display(minitabla)\n",
    "\n",
    "for (i, fila) in minitabla.iterrows() : \n",
    "    display(Tweet(fila.link)) \n",
    "\n"
   ]
  },
  {
   "cell_type": "code",
   "execution_count": 12,
   "metadata": {},
   "outputs": [
    {
     "data": {
      "text/html": [
       "<h3>Los tweets mas neutros son : </h3>"
      ],
      "text/plain": [
       "<IPython.core.display.HTML object>"
      ]
     },
     "metadata": {},
     "output_type": "display_data"
    },
    {
     "data": {
      "text/html": [
       "<div>\n",
       "<style scoped>\n",
       "    .dataframe tbody tr th:only-of-type {\n",
       "        vertical-align: middle;\n",
       "    }\n",
       "\n",
       "    .dataframe tbody tr th {\n",
       "        vertical-align: top;\n",
       "    }\n",
       "\n",
       "    .dataframe thead th {\n",
       "        text-align: right;\n",
       "    }\n",
       "</style>\n",
       "<table border=\"1\" class=\"dataframe\">\n",
       "  <thead>\n",
       "    <tr style=\"text-align: right;\">\n",
       "      <th></th>\n",
       "      <th>compound</th>\n",
       "      <th>neg</th>\n",
       "      <th>neu</th>\n",
       "      <th>pos</th>\n",
       "      <th>tweet</th>\n",
       "      <th>link</th>\n",
       "    </tr>\n",
       "  </thead>\n",
       "  <tbody>\n",
       "    <tr>\n",
       "      <th>0</th>\n",
       "      <td>0.0</td>\n",
       "      <td>0.0</td>\n",
       "      <td>1.0</td>\n",
       "      <td>0.0</td>\n",
       "      <td>#DidYouKnow after WW2 artillery regiments cont...</td>\n",
       "      <td>https://twitter.com/ShoeburyNetwork/status/104...</td>\n",
       "    </tr>\n",
       "    <tr>\n",
       "      <th>747</th>\n",
       "      <td>0.0</td>\n",
       "      <td>0.0</td>\n",
       "      <td>1.0</td>\n",
       "      <td>0.0</td>\n",
       "      <td>#DidYouKnow Dunmow means \"Meadow on the Hill\"....</td>\n",
       "      <td>https://twitter.com/GreatDunmowTalk/status/103...</td>\n",
       "    </tr>\n",
       "    <tr>\n",
       "      <th>729</th>\n",
       "      <td>0.0</td>\n",
       "      <td>0.0</td>\n",
       "      <td>1.0</td>\n",
       "      <td>0.0</td>\n",
       "      <td>#DidYouKnow the oldest timber-framed barn in t...</td>\n",
       "      <td>https://twitter.com/BraintreeTalk/status/10388...</td>\n",
       "    </tr>\n",
       "  </tbody>\n",
       "</table>\n",
       "</div>"
      ],
      "text/plain": [
       "     compound  neg  neu  pos  \\\n",
       "0         0.0  0.0  1.0  0.0   \n",
       "747       0.0  0.0  1.0  0.0   \n",
       "729       0.0  0.0  1.0  0.0   \n",
       "\n",
       "                                                 tweet  \\\n",
       "0    #DidYouKnow after WW2 artillery regiments cont...   \n",
       "747  #DidYouKnow Dunmow means \"Meadow on the Hill\"....   \n",
       "729  #DidYouKnow the oldest timber-framed barn in t...   \n",
       "\n",
       "                                                  link  \n",
       "0    https://twitter.com/ShoeburyNetwork/status/104...  \n",
       "747  https://twitter.com/GreatDunmowTalk/status/103...  \n",
       "729  https://twitter.com/BraintreeTalk/status/10388...  "
      ]
     },
     "metadata": {},
     "output_type": "display_data"
    },
    {
     "data": {
      "text/html": [
       "<blockquote class=\"twitter-tweet\"><p lang=\"en\" dir=\"ltr\"><a href=\"https://twitter.com/hashtag/DidYouKnow?src=hash&amp;ref_src=twsrc%5Etfw\">#DidYouKnow</a> after WW2 artillery regiments continued to be garrisoned at Shoebury until 1976. <a href=\"https://twitter.com/hashtag/Essex?src=hash&amp;ref_src=twsrc%5Etfw\">#Essex</a> <a href=\"https://twitter.com/hashtag/FactOfTheDay?src=hash&amp;ref_src=twsrc%5Etfw\">#FactOfTheDay</a> <a href=\"https://twitter.com/hashtag/Shoebury?src=hash&amp;ref_src=twsrc%5Etfw\">#Shoebury</a></p>&mdash; ShoeburyNetwork (@ShoeburyNetwork) <a href=\"https://twitter.com/ShoeburyNetwork/status/1040919292857016320?ref_src=twsrc%5Etfw\">September 15, 2018</a></blockquote>\n",
       "<script async src=\"https://platform.twitter.com/widgets.js\" charset=\"utf-8\"></script>\n"
      ],
      "text/plain": [
       "<__main__.Tweet at 0x10d1b0208>"
      ]
     },
     "metadata": {},
     "output_type": "display_data"
    },
    {
     "data": {
      "text/html": [
       "<blockquote class=\"twitter-tweet\"><p lang=\"en\" dir=\"ltr\"><a href=\"https://twitter.com/hashtag/DidYouKnow?src=hash&amp;ref_src=twsrc%5Etfw\">#DidYouKnow</a> Dunmow means &quot;Meadow on the Hill&quot;.  <a href=\"https://twitter.com/hashtag/Essex?src=hash&amp;ref_src=twsrc%5Etfw\">#Essex</a> <a href=\"https://twitter.com/hashtag/FactOfTheDay?src=hash&amp;ref_src=twsrc%5Etfw\">#FactOfTheDay</a> <a href=\"https://twitter.com/hashtag/GreatDunmow?src=hash&amp;ref_src=twsrc%5Etfw\">#GreatDunmow</a></p>&mdash; GreatDunmowTalk (@GreatDunmowTalk) <a href=\"https://twitter.com/GreatDunmowTalk/status/1038820417551654912?ref_src=twsrc%5Etfw\">September 9, 2018</a></blockquote>\n",
       "<script async src=\"https://platform.twitter.com/widgets.js\" charset=\"utf-8\"></script>\n"
      ],
      "text/plain": [
       "<__main__.Tweet at 0x10d2b4b38>"
      ]
     },
     "metadata": {},
     "output_type": "display_data"
    },
    {
     "data": {
      "text/html": [
       "<blockquote class=\"twitter-tweet\"><p lang=\"en\" dir=\"ltr\"><a href=\"https://twitter.com/hashtag/DidYouKnow?src=hash&amp;ref_src=twsrc%5Etfw\">#DidYouKnow</a> the oldest timber-framed barn in the world is at Cressing Temple near Braintree? <a href=\"https://twitter.com/hashtag/Essex?src=hash&amp;ref_src=twsrc%5Etfw\">#Essex</a> <a href=\"https://twitter.com/hashtag/FactOfTheDay?src=hash&amp;ref_src=twsrc%5Etfw\">#FactOfTheDay</a> <a href=\"https://twitter.com/hashtag/Braintree?src=hash&amp;ref_src=twsrc%5Etfw\">#Braintree</a></p>&mdash; BrainTreeTalk (@BraintreeTalk) <a href=\"https://twitter.com/BraintreeTalk/status/1038872578323099648?ref_src=twsrc%5Etfw\">September 9, 2018</a></blockquote>\n",
       "<script async src=\"https://platform.twitter.com/widgets.js\" charset=\"utf-8\"></script>\n"
      ],
      "text/plain": [
       "<__main__.Tweet at 0x10d1b0208>"
      ]
     },
     "metadata": {},
     "output_type": "display_data"
    }
   ],
   "source": [
    "from IPython.display import Image\n",
    "from IPython.core.display import HTML \n",
    "\n",
    "s = f\"\"\"<h3>Los tweets mas neutros son : </h3>\"\"\"\n",
    "display(HTML(s))\n",
    "\n",
    "# Cogemos los valores mas positivos\n",
    "minitabla = df.sort_values(by=['neu'],ascending = False ).head(3)[[\"compound\" ,\"neg\" ,\"neu\" ,\"pos\" ,\"tweet\", \"link\"]]\n",
    "\n",
    "display(minitabla)\n",
    "\n",
    "for (i, fila) in minitabla.iterrows() : \n",
    "    display(Tweet(fila.link)) \n",
    "\n"
   ]
  },
  {
   "cell_type": "code",
   "execution_count": 13,
   "metadata": {},
   "outputs": [
    {
     "data": {
      "text/html": [
       "<div>\n",
       "<style scoped>\n",
       "    .dataframe tbody tr th:only-of-type {\n",
       "        vertical-align: middle;\n",
       "    }\n",
       "\n",
       "    .dataframe tbody tr th {\n",
       "        vertical-align: top;\n",
       "    }\n",
       "\n",
       "    .dataframe thead th {\n",
       "        text-align: right;\n",
       "    }\n",
       "</style>\n",
       "<table border=\"1\" class=\"dataframe\">\n",
       "  <thead>\n",
       "    <tr style=\"text-align: right;\">\n",
       "      <th></th>\n",
       "      <th>compound</th>\n",
       "      <th>neg</th>\n",
       "      <th>neu</th>\n",
       "      <th>pos</th>\n",
       "    </tr>\n",
       "  </thead>\n",
       "  <tbody>\n",
       "    <tr>\n",
       "      <th>count</th>\n",
       "      <td>1300.000000</td>\n",
       "      <td>1300.000000</td>\n",
       "      <td>1300.000000</td>\n",
       "      <td>1300.000000</td>\n",
       "    </tr>\n",
       "    <tr>\n",
       "      <th>mean</th>\n",
       "      <td>0.090546</td>\n",
       "      <td>0.032251</td>\n",
       "      <td>0.906143</td>\n",
       "      <td>0.061615</td>\n",
       "    </tr>\n",
       "    <tr>\n",
       "      <th>std</th>\n",
       "      <td>0.352696</td>\n",
       "      <td>0.075940</td>\n",
       "      <td>0.120936</td>\n",
       "      <td>0.096921</td>\n",
       "    </tr>\n",
       "    <tr>\n",
       "      <th>min</th>\n",
       "      <td>-0.977600</td>\n",
       "      <td>0.000000</td>\n",
       "      <td>0.220000</td>\n",
       "      <td>0.000000</td>\n",
       "    </tr>\n",
       "    <tr>\n",
       "      <th>25%</th>\n",
       "      <td>0.000000</td>\n",
       "      <td>0.000000</td>\n",
       "      <td>0.822000</td>\n",
       "      <td>0.000000</td>\n",
       "    </tr>\n",
       "    <tr>\n",
       "      <th>50%</th>\n",
       "      <td>0.000000</td>\n",
       "      <td>0.000000</td>\n",
       "      <td>1.000000</td>\n",
       "      <td>0.000000</td>\n",
       "    </tr>\n",
       "    <tr>\n",
       "      <th>75%</th>\n",
       "      <td>0.318200</td>\n",
       "      <td>0.000000</td>\n",
       "      <td>1.000000</td>\n",
       "      <td>0.116250</td>\n",
       "    </tr>\n",
       "    <tr>\n",
       "      <th>max</th>\n",
       "      <td>0.979000</td>\n",
       "      <td>0.581000</td>\n",
       "      <td>1.000000</td>\n",
       "      <td>0.780000</td>\n",
       "    </tr>\n",
       "  </tbody>\n",
       "</table>\n",
       "</div>"
      ],
      "text/plain": [
       "          compound          neg          neu          pos\n",
       "count  1300.000000  1300.000000  1300.000000  1300.000000\n",
       "mean      0.090546     0.032251     0.906143     0.061615\n",
       "std       0.352696     0.075940     0.120936     0.096921\n",
       "min      -0.977600     0.000000     0.220000     0.000000\n",
       "25%       0.000000     0.000000     0.822000     0.000000\n",
       "50%       0.000000     0.000000     1.000000     0.000000\n",
       "75%       0.318200     0.000000     1.000000     0.116250\n",
       "max       0.979000     0.581000     1.000000     0.780000"
      ]
     },
     "execution_count": 13,
     "metadata": {},
     "output_type": "execute_result"
    }
   ],
   "source": [
    "df.describe()"
   ]
  },
  {
   "cell_type": "code",
   "execution_count": 14,
   "metadata": {},
   "outputs": [
    {
     "data": {
      "image/png": "[encoded data removed]",
      "text/plain": [
       "<matplotlib.figure.Figure at 0x10e4416a0>"
      ]
     },
     "metadata": {},
     "output_type": "display_data"
    }
   ],
   "source": [
    "import matplotlib.pyplot as plt\n",
    "from mpl_toolkits import mplot3d\n",
    "\n",
    "ax = plt.axes(projection='3d')\n",
    "\n",
    "\n",
    "ax.set_xlabel('Neg')\n",
    "ax.set_ylabel('Pos')\n",
    "ax.set_zlabel('Neu')\n",
    "ax.scatter3D(df.neg.values, df.pos.values, df.neu.values, c=df.neu.values, cmap='Blues');"
   ]
  },
  {
   "cell_type": "markdown",
   "metadata": {},
   "source": [
    "## Resultados\n",
    "\n",
    "Depende del hashtag veremos mas resultados mas positivos, negativos o neutros."
   ]
  },
  {
   "cell_type": "markdown",
   "metadata": {},
   "source": [
    "## Conclusion\n",
    "\n",
    "Estudiando y monitorizando el sentiment analisys, podemos entender y mejorar nuestro posicionamiento en las redes sociales.\n"
   ]
  }
 ],
 "metadata": {
  "kernelspec": {
   "display_name": "Python 3",
   "language": "python",
   "name": "python3"
  },
  "language_info": {
   "codemirror_mode": {
    "name": "ipython",
    "version": 3
   },
   "file_extension": ".py",
   "mimetype": "text/x-python",
   "name": "python",
   "nbconvert_exporter": "python",
   "pygments_lexer": "ipython3",
   "version": "3.6.4"
  }
 },
 "nbformat": 4,
 "nbformat_minor": 2
}
